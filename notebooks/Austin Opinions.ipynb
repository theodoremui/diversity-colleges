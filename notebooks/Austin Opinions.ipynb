{
 "cells": [
  {
   "cell_type": "code",
   "execution_count": 1,
   "metadata": {},
   "outputs": [],
   "source": [
    "import math\n",
    "import re\n",
    "import numpy as np\n",
    "import pandas as pd"
   ]
  },
  {
   "cell_type": "code",
   "execution_count": 2,
   "metadata": {},
   "outputs": [
    {
     "name": "stderr",
     "output_type": "stream",
     "text": [
      "[nltk_data] Downloading package stopwords to\n",
      "[nltk_data]     /Users/theodoremui/nltk_data...\n",
      "[nltk_data]   Package stopwords is already up-to-date!\n",
      "[nltk_data] Downloading package omw-1.4 to\n",
      "[nltk_data]     /Users/theodoremui/nltk_data...\n",
      "[nltk_data]   Package omw-1.4 is already up-to-date!\n",
      "[nltk_data] Downloading package wordnet to\n",
      "[nltk_data]     /Users/theodoremui/nltk_data...\n",
      "[nltk_data]   Package wordnet is already up-to-date!\n"
     ]
    }
   ],
   "source": [
    "import nltk\n",
    "nltk.download('stopwords')\n",
    "from nltk.corpus import stopwords\n",
    "nltk.download('omw-1.4')\n",
    "nltk.download('wordnet')\n",
    "from nltk.stem import WordNetLemmatizer\n",
    "lemmatizer = WordNetLemmatizer()"
   ]
  },
  {
   "cell_type": "code",
   "execution_count": 3,
   "metadata": {},
   "outputs": [],
   "source": [
    "import spacy\n",
    "nlp = spacy.load(\"en_core_web_lg\")"
   ]
  },
  {
   "cell_type": "code",
   "execution_count": 4,
   "metadata": {},
   "outputs": [],
   "source": [
    "import os\n",
    "import boto3\n",
    "import botocore\n",
    "import pyarrow as pa\n",
    "import pyarrow.parquet as pq"
   ]
  },
  {
   "cell_type": "code",
   "execution_count": 5,
   "metadata": {},
   "outputs": [
    {
     "data": {
      "text/plain": [
       "'/Users/theodoremui/Library/CloudStorage/OneDrive-Personal/dev/collegier/notebooks'"
      ]
     },
     "execution_count": 5,
     "metadata": {},
     "output_type": "execute_result"
    }
   ],
   "source": [
    "%pwd"
   ]
  },
  {
   "cell_type": "code",
   "execution_count": 6,
   "metadata": {},
   "outputs": [
    {
     "name": "stdout",
     "output_type": "stream",
     "text": [
      "/Users/theodoremui/Library/CloudStorage/OneDrive-Personal/dev/collegier\n"
     ]
    }
   ],
   "source": [
    "%cd .."
   ]
  },
  {
   "cell_type": "code",
   "execution_count": 7,
   "metadata": {},
   "outputs": [],
   "source": [
    "import sys\n",
    "sys.path.append('src')\n",
    "import ouraws"
   ]
  },
  {
   "cell_type": "code",
   "execution_count": 8,
   "metadata": {},
   "outputs": [],
   "source": [
    "S3_BUCKET=\"collegier\"\n",
    "OUTPUT_DIR=\"data\"\n",
    "SCHOOL=\"austin\"\n",
    "SUBJECT=\"opinion\"\n",
    "START_YEAR=2011\n",
    "FINAL_YEAR=2022"
   ]
  },
  {
   "cell_type": "code",
   "execution_count": 9,
   "metadata": {},
   "outputs": [],
   "source": [
    "def getCovDispersion(wv):\n",
    "    N = len(wv)\n",
    "    cov = np.cov(wv)\n",
    "    return (N, \n",
    "            np.trace(cov)/N, \n",
    "            np.linalg.norm(cov, ord=1)/N, \n",
    "            np.linalg.norm(cov, ord=2)/N, \n",
    "            np.linalg.norm(cov, ord=np.inf)/N, \n",
    "            )\n",
    "\n",
    "def cosine_distance(v1, v2):\n",
    "    \"\"\"Calculate the cosine distance between two numpy arrays.\n",
    "    \n",
    "    Parameters:\n",
    "    a (numpy array): First input array.\n",
    "    b (numpy array): Second input array.\n",
    "    \n",
    "    Returns:\n",
    "    float: Cosine distance between a and b.\n",
    "    \"\"\"\n",
    "    a = np.array(v1, dtype=np.float64)\n",
    "    b = np.array(v2, dtype=np.float64)\n",
    "    # Calculate dot product and magnitudes of the input arrays\n",
    "    dot   = np.dot(a, b)\n",
    "    a_mag = np.linalg.norm(a)\n",
    "    b_mag = np.linalg.norm(b)\n",
    "    \n",
    "    if np.isclose(a_mag, 0, rtol=1e-9, atol=1e-12):\n",
    "        print(f\"a_mag is very small: {a_mag}\")\n",
    "    if np.isclose(b_mag, 0, rtol=1e-9, atol=1e-12):\n",
    "        print(f\"b_mag is very small: {b_mag}\")\n",
    "    \n",
    "    # Calculate and return the cosine distance\n",
    "    return 1.0 - (dot / (a_mag * b_mag))\n",
    "\n",
    "def getPairwiseDispersion(wv, measure):\n",
    "    if len(wv) <= 1: return 0.0\n",
    "    distance = 0.0\n",
    "    vec = wv[0]\n",
    "    for v in wv[1:]:\n",
    "        distance += measure(vec, v)\n",
    "        # print(f\"\\tcos_distance: {measure(vec, v)}\")\n",
    "    return distance + getPairwiseDispersion(wv[1:], measure)\n",
    "\n",
    "def getNormalizedPairwiseDispersion(wv, measure):\n",
    "    '''Normalize the dispersion by (N-Choose-2) number of pairs'''\n",
    "    N = len(wv)\n",
    "    return getPairwiseDispersion(wv, measure) / (N * (N-1)/2.)"
   ]
  },
  {
   "cell_type": "code",
   "execution_count": 10,
   "metadata": {},
   "outputs": [],
   "source": [
    "diversity_words = [\n",
    "    'diversity', \n",
    "    'equity',\n",
    "    'inclusion',\n",
    "    'inclusive',\n",
    "    'inclusivity',\n",
    "    'equality', \n",
    "    'equal opportunity',\n",
    "    'social justice',\n",
    "    'racial justice', \n",
    "    'multi-cultural', \n",
    "    'multicultural',\n",
    "    'intercultural',\n",
    "    'intersectional',\n",
    "    'intersectionality',\n",
    "    'anti-discrimination'\n",
    "]"
   ]
  },
  {
   "cell_type": "code",
   "execution_count": 11,
   "metadata": {},
   "outputs": [
    {
     "data": {
      "text/plain": [
       "15"
      ]
     },
     "execution_count": 11,
     "metadata": {},
     "output_type": "execute_result"
    }
   ],
   "source": [
    "len(diversity_words)"
   ]
  },
  {
   "cell_type": "code",
   "execution_count": 12,
   "metadata": {},
   "outputs": [
    {
     "data": {
      "text/plain": [
       "['diversity',\n",
       " 'equity',\n",
       " 'inclusion',\n",
       " 'inclusive',\n",
       " 'inclusivity',\n",
       " 'equality',\n",
       " 'equal opportunity',\n",
       " 'social justice',\n",
       " 'racial justice',\n",
       " 'multi-cultural',\n",
       " 'multicultural',\n",
       " 'intercultural',\n",
       " 'intersectional',\n",
       " 'intersectionality',\n",
       " 'anti-discrimination']"
      ]
     },
     "execution_count": 12,
     "metadata": {},
     "output_type": "execute_result"
    }
   ],
   "source": [
    "[(w) for w in diversity_words]"
   ]
  },
  {
   "cell_type": "code",
   "execution_count": 13,
   "metadata": {},
   "outputs": [
    {
     "data": {
      "text/plain": [
       "['diversity',\n",
       " 'equity',\n",
       " 'inclusion',\n",
       " 'inclusive',\n",
       " 'inclusivity',\n",
       " 'equality',\n",
       " 'equal opportunity',\n",
       " 'social justice',\n",
       " 'racial justice',\n",
       " 'multi-cultural',\n",
       " 'multicultural',\n",
       " 'intercultural',\n",
       " 'intersectional',\n",
       " 'intersectionality',\n",
       " 'anti-discrimination']"
      ]
     },
     "execution_count": 13,
     "metadata": {},
     "output_type": "execute_result"
    }
   ],
   "source": [
    "diversity_lemmas = [lemmatizer.lemmatize(w) for w in diversity_words]\n",
    "diversity_lemmas"
   ]
  },
  {
   "cell_type": "code",
   "execution_count": 14,
   "metadata": {},
   "outputs": [],
   "source": [
    "diversity_pattern = \"|\".join(diversity_lemmas)"
   ]
  },
  {
   "cell_type": "code",
   "execution_count": 15,
   "metadata": {},
   "outputs": [
    {
     "data": {
      "text/plain": [
       "'diversity|equity|inclusion|inclusive|inclusivity|equality|equal opportunity|social justice|racial justice|multi-cultural|multicultural|intercultural|intersectional|intersectionality|anti-discrimination'"
      ]
     },
     "execution_count": 15,
     "metadata": {},
     "output_type": "execute_result"
    }
   ],
   "source": [
    "diversity_pattern"
   ]
  },
  {
   "cell_type": "code",
   "execution_count": 16,
   "metadata": {},
   "outputs": [
    {
     "data": {
      "text/plain": [
       "3"
      ]
     },
     "execution_count": 16,
     "metadata": {},
     "output_type": "execute_result"
    }
   ],
   "source": [
    "text = \"This is a multicultural organization that advocates for diversity and racial justice.\"\n",
    "len(re.findall(diversity_pattern, text))"
   ]
  },
  {
   "cell_type": "code",
   "execution_count": 17,
   "metadata": {},
   "outputs": [],
   "source": [
    "english_stopwords = stopwords.words('english')\n",
    "def prepText(text_series):\n",
    "    text_series = text_series.apply(\n",
    "        lambda x: \" \".join(lemmatizer.lemmatize(w.lower()) for w in x.split()\n",
    "                           if w not in english_stopwords))\n",
    "    text_series = text_series.apply(lambda x: x if len(x) > 100 else None)\n",
    "    text_series = text_series.dropna()\n",
    "    total_diversity_words = sum([len(re.findall(diversity_pattern, text))\n",
    "                                for text in text_series])\n",
    "    return text_series, total_diversity_words"
   ]
  },
  {
   "cell_type": "code",
   "execution_count": 18,
   "metadata": {},
   "outputs": [
    {
     "data": {
      "text/plain": [
       "'/Users/theodoremui/Library/CloudStorage/OneDrive-Personal/dev/collegier'"
      ]
     },
     "execution_count": 18,
     "metadata": {},
     "output_type": "execute_result"
    }
   ],
   "source": [
    "%pwd"
   ]
  },
  {
   "cell_type": "code",
   "execution_count": 19,
   "metadata": {},
   "outputs": [],
   "source": [
    "S3OBJECT_KEY = f\"{OUTPUT_DIR}/{SCHOOL}-{SUBJECT}-SNAPSHOT.parquet\"\n",
    "df = ouraws.getFromS3(S3OBJECT_KEY)"
   ]
  },
  {
   "cell_type": "code",
   "execution_count": 20,
   "metadata": {},
   "outputs": [
    {
     "data": {
      "text/plain": [
       "(5713, 6)"
      ]
     },
     "execution_count": 20,
     "metadata": {},
     "output_type": "execute_result"
    }
   ],
   "source": [
    "df.shape"
   ]
  },
  {
   "cell_type": "code",
   "execution_count": 21,
   "metadata": {},
   "outputs": [
    {
     "data": {
      "text/plain": [
       "Index(['title', 'url', 'body', 'year', 'month', 'day'], dtype='object')"
      ]
     },
     "execution_count": 21,
     "metadata": {},
     "output_type": "execute_result"
    }
   ],
   "source": [
    "df.columns"
   ]
  },
  {
   "cell_type": "code",
   "execution_count": 22,
   "metadata": {},
   "outputs": [
    {
     "data": {
      "text/plain": [
       "array([2022, 2021, 2020, 2019, 2018, 2017, 2016, 2015, 2014, 2013, 2012,\n",
       "       2011, 2010])"
      ]
     },
     "execution_count": 22,
     "metadata": {},
     "output_type": "execute_result"
    }
   ],
   "source": [
    "df[\"year\"].unique()"
   ]
  },
  {
   "cell_type": "code",
   "execution_count": 23,
   "metadata": {},
   "outputs": [
    {
     "data": {
      "text/html": [
       "<div>\n",
       "<style scoped>\n",
       "    .dataframe tbody tr th:only-of-type {\n",
       "        vertical-align: middle;\n",
       "    }\n",
       "\n",
       "    .dataframe tbody tr th {\n",
       "        vertical-align: top;\n",
       "    }\n",
       "\n",
       "    .dataframe thead th {\n",
       "        text-align: right;\n",
       "    }\n",
       "</style>\n",
       "<table border=\"1\" class=\"dataframe\">\n",
       "  <thead>\n",
       "    <tr style=\"text-align: right;\">\n",
       "      <th></th>\n",
       "      <th>title</th>\n",
       "      <th>url</th>\n",
       "      <th>body</th>\n",
       "      <th>year</th>\n",
       "      <th>month</th>\n",
       "      <th>day</th>\n",
       "    </tr>\n",
       "  </thead>\n",
       "  <tbody>\n",
       "    <tr>\n",
       "      <th>5561</th>\n",
       "      <td>\\n\\t\\t\\t\\t\\t\\t\\t\\t\\t\\t\\t\\tThank you, Shirley B...</td>\n",
       "      <td>https://thedailytexan.com/2011/05/12/thank-you...</td>\n",
       "      <td>Thank you, Shirley Bird\\nOn May 9, I attended ...</td>\n",
       "      <td>2011</td>\n",
       "      <td>5</td>\n",
       "      <td>12</td>\n",
       "    </tr>\n",
       "    <tr>\n",
       "      <th>5562</th>\n",
       "      <td>\\n\\t\\t\\t\\t\\t\\t\\t\\t\\t\\t\\t\\tWhats AP style for ...</td>\n",
       "      <td>https://thedailytexan.com/2011/05/06/what%c2%9...</td>\n",
       "      <td>Whats AP style for asshattery?\\nI’ve lured ...</td>\n",
       "      <td>2011</td>\n",
       "      <td>5</td>\n",
       "      <td>6</td>\n",
       "    </tr>\n",
       "    <tr>\n",
       "      <th>5563</th>\n",
       "      <td>\\n\\t\\t\\t\\t\\t\\t\\t\\t\\t\\t\\t\\tI’m being paid for t...</td>\n",
       "      <td>https://thedailytexan.com/2011/05/06/im-being-...</td>\n",
       "      <td>I’m being paid for this?\\nAs a graduating seni...</td>\n",
       "      <td>2011</td>\n",
       "      <td>5</td>\n",
       "      <td>6</td>\n",
       "    </tr>\n",
       "    <tr>\n",
       "      <th>5564</th>\n",
       "      <td>\\n\\t\\t\\t\\t\\t\\t\\t\\t\\t\\t\\t\\tI hate everyone\\t\\t\\...</td>\n",
       "      <td>https://thedailytexan.com/2011/05/06/i-hate-ev...</td>\n",
       "      <td>I hate everyone\\nAt the corner of Guadalupe an...</td>\n",
       "      <td>2011</td>\n",
       "      <td>5</td>\n",
       "      <td>6</td>\n",
       "    </tr>\n",
       "    <tr>\n",
       "      <th>5565</th>\n",
       "      <td>\\n\\t\\t\\t\\t\\t\\t\\t\\t\\t\\t\\t\\tThey let me write my...</td>\n",
       "      <td>https://thedailytexan.com/2011/05/06/they-let-...</td>\n",
       "      <td>They let me write my own headline\\nHelen,\\n\\n\\...</td>\n",
       "      <td>2011</td>\n",
       "      <td>5</td>\n",
       "      <td>6</td>\n",
       "    </tr>\n",
       "    <tr>\n",
       "      <th>5566</th>\n",
       "      <td>\\n\\t\\t\\t\\t\\t\\t\\t\\t\\t\\t\\t\\tWho said it: Perry o...</td>\n",
       "      <td>https://thedailytexan.com/2011/05/05/who-said-...</td>\n",
       "      <td>Who said it: Perry or my 11-year-old sister?\\n...</td>\n",
       "      <td>2011</td>\n",
       "      <td>5</td>\n",
       "      <td>5</td>\n",
       "    </tr>\n",
       "    <tr>\n",
       "      <th>5567</th>\n",
       "      <td>\\n\\t\\t\\t\\t\\t\\t\\t\\t\\t\\t\\t\\tCheckoff laws enable...</td>\n",
       "      <td>https://thedailytexan.com/2011/05/05/checkoff-...</td>\n",
       "      <td>Checkoff laws enable twisted relationship\\nI f...</td>\n",
       "      <td>2011</td>\n",
       "      <td>5</td>\n",
       "      <td>5</td>\n",
       "    </tr>\n",
       "    <tr>\n",
       "      <th>5568</th>\n",
       "      <td>\\n\\t\\t\\t\\t\\t\\t\\t\\t\\t\\t\\t\\tFates, interests int...</td>\n",
       "      <td>https://thedailytexan.com/2011/05/05/fates-int...</td>\n",
       "      <td>Fates, interests intertwined\\nIn the latest an...</td>\n",
       "      <td>2011</td>\n",
       "      <td>5</td>\n",
       "      <td>5</td>\n",
       "    </tr>\n",
       "    <tr>\n",
       "      <th>5569</th>\n",
       "      <td>\\n\\t\\t\\t\\t\\t\\t\\t\\t\\t\\t\\t\\tHands off UT\\t\\t\\t\\t...</td>\n",
       "      <td>https://thedailytexan.com/2011/05/04/hands-off...</td>\n",
       "      <td>Hands off UT\\nAn internal memorandum obtained ...</td>\n",
       "      <td>2011</td>\n",
       "      <td>5</td>\n",
       "      <td>4</td>\n",
       "    </tr>\n",
       "    <tr>\n",
       "      <th>5570</th>\n",
       "      <td>\\n\\t\\t\\t\\t\\t\\t\\t\\t\\t\\t\\t\\tKeep hydrofracking c...</td>\n",
       "      <td>https://thedailytexan.com/2011/05/04/keep-hydr...</td>\n",
       "      <td>Keep hydrofracking costs in proper perspective...</td>\n",
       "      <td>2011</td>\n",
       "      <td>5</td>\n",
       "      <td>4</td>\n",
       "    </tr>\n",
       "    <tr>\n",
       "      <th>5571</th>\n",
       "      <td>\\n\\t\\t\\t\\t\\t\\t\\t\\t\\t\\t\\t\\tStudent leaders dese...</td>\n",
       "      <td>https://thedailytexan.com/2011/05/04/student-l...</td>\n",
       "      <td>Student leaders deserve a response\\nStudent le...</td>\n",
       "      <td>2011</td>\n",
       "      <td>5</td>\n",
       "      <td>4</td>\n",
       "    </tr>\n",
       "    <tr>\n",
       "      <th>5572</th>\n",
       "      <td>\\n\\t\\t\\t\\t\\t\\t\\t\\t\\t\\t\\t\\tOverview: A rash res...</td>\n",
       "      <td>https://thedailytexan.com/2011/05/03/overview-...</td>\n",
       "      <td>Overview: A rash response; let it die\\nA rash ...</td>\n",
       "      <td>2011</td>\n",
       "      <td>5</td>\n",
       "      <td>3</td>\n",
       "    </tr>\n",
       "    <tr>\n",
       "      <th>5573</th>\n",
       "      <td>\\n\\t\\t\\t\\t\\t\\t\\t\\t\\t\\t\\t\\tA time for reflectio...</td>\n",
       "      <td>https://thedailytexan.com/2011/05/03/a-time-fo...</td>\n",
       "      <td>A time for reflection\\nOn Sunday night at 8:45...</td>\n",
       "      <td>2011</td>\n",
       "      <td>5</td>\n",
       "      <td>3</td>\n",
       "    </tr>\n",
       "    <tr>\n",
       "      <th>5574</th>\n",
       "      <td>\\n\\t\\t\\t\\t\\t\\t\\t\\t\\t\\t\\t\\tQuotes to note\\t\\t\\t...</td>\n",
       "      <td>https://thedailytexan.com/2011/05/01/quotes-to...</td>\n",
       "      <td>Quotes to note\\n“With limited resources, it’s ...</td>\n",
       "      <td>2011</td>\n",
       "      <td>5</td>\n",
       "      <td>1</td>\n",
       "    </tr>\n",
       "    <tr>\n",
       "      <th>5575</th>\n",
       "      <td>\\n\\t\\t\\t\\t\\t\\t\\t\\t\\t\\t\\t\\tThe 21,675th article...</td>\n",
       "      <td>https://thedailytexan.com/2011/05/01/the-21675...</td>\n",
       "      <td>The 21,675th article on Shakespeare\\nIn a gues...</td>\n",
       "      <td>2011</td>\n",
       "      <td>5</td>\n",
       "      <td>1</td>\n",
       "    </tr>\n",
       "    <tr>\n",
       "      <th>5576</th>\n",
       "      <td>\\n\\t\\t\\t\\t\\t\\t\\t\\t\\t\\t\\t\\tPay attention, be vo...</td>\n",
       "      <td>https://thedailytexan.com/2011/05/01/pay-atten...</td>\n",
       "      <td>Pay attention, be vocal\\nAs summer approaches ...</td>\n",
       "      <td>2011</td>\n",
       "      <td>5</td>\n",
       "      <td>1</td>\n",
       "    </tr>\n",
       "    <tr>\n",
       "      <th>5577</th>\n",
       "      <td>\\n\\t\\t\\t\\t\\t\\t\\t\\t\\t\\t\\t\\tQuotes to note\\t\\t\\t...</td>\n",
       "      <td>https://thedailytexan.com/2011/05/01/quotes-to...</td>\n",
       "      <td>Quotes to note\\nEditor’s note: On Friday the T...</td>\n",
       "      <td>2011</td>\n",
       "      <td>5</td>\n",
       "      <td>1</td>\n",
       "    </tr>\n",
       "  </tbody>\n",
       "</table>\n",
       "</div>"
      ],
      "text/plain": [
       "                                                  title  \\\n",
       "5561  \\n\\t\\t\\t\\t\\t\\t\\t\\t\\t\\t\\t\\tThank you, Shirley B...   \n",
       "5562  \\n\\t\\t\\t\\t\\t\\t\\t\\t\\t\\t\\t\\tWhats AP style for ...   \n",
       "5563  \\n\\t\\t\\t\\t\\t\\t\\t\\t\\t\\t\\t\\tI’m being paid for t...   \n",
       "5564  \\n\\t\\t\\t\\t\\t\\t\\t\\t\\t\\t\\t\\tI hate everyone\\t\\t\\...   \n",
       "5565  \\n\\t\\t\\t\\t\\t\\t\\t\\t\\t\\t\\t\\tThey let me write my...   \n",
       "5566  \\n\\t\\t\\t\\t\\t\\t\\t\\t\\t\\t\\t\\tWho said it: Perry o...   \n",
       "5567  \\n\\t\\t\\t\\t\\t\\t\\t\\t\\t\\t\\t\\tCheckoff laws enable...   \n",
       "5568  \\n\\t\\t\\t\\t\\t\\t\\t\\t\\t\\t\\t\\tFates, interests int...   \n",
       "5569  \\n\\t\\t\\t\\t\\t\\t\\t\\t\\t\\t\\t\\tHands off UT\\t\\t\\t\\t...   \n",
       "5570  \\n\\t\\t\\t\\t\\t\\t\\t\\t\\t\\t\\t\\tKeep hydrofracking c...   \n",
       "5571  \\n\\t\\t\\t\\t\\t\\t\\t\\t\\t\\t\\t\\tStudent leaders dese...   \n",
       "5572  \\n\\t\\t\\t\\t\\t\\t\\t\\t\\t\\t\\t\\tOverview: A rash res...   \n",
       "5573  \\n\\t\\t\\t\\t\\t\\t\\t\\t\\t\\t\\t\\tA time for reflectio...   \n",
       "5574  \\n\\t\\t\\t\\t\\t\\t\\t\\t\\t\\t\\t\\tQuotes to note\\t\\t\\t...   \n",
       "5575  \\n\\t\\t\\t\\t\\t\\t\\t\\t\\t\\t\\t\\tThe 21,675th article...   \n",
       "5576  \\n\\t\\t\\t\\t\\t\\t\\t\\t\\t\\t\\t\\tPay attention, be vo...   \n",
       "5577  \\n\\t\\t\\t\\t\\t\\t\\t\\t\\t\\t\\t\\tQuotes to note\\t\\t\\t...   \n",
       "\n",
       "                                                    url  \\\n",
       "5561  https://thedailytexan.com/2011/05/12/thank-you...   \n",
       "5562  https://thedailytexan.com/2011/05/06/what%c2%9...   \n",
       "5563  https://thedailytexan.com/2011/05/06/im-being-...   \n",
       "5564  https://thedailytexan.com/2011/05/06/i-hate-ev...   \n",
       "5565  https://thedailytexan.com/2011/05/06/they-let-...   \n",
       "5566  https://thedailytexan.com/2011/05/05/who-said-...   \n",
       "5567  https://thedailytexan.com/2011/05/05/checkoff-...   \n",
       "5568  https://thedailytexan.com/2011/05/05/fates-int...   \n",
       "5569  https://thedailytexan.com/2011/05/04/hands-off...   \n",
       "5570  https://thedailytexan.com/2011/05/04/keep-hydr...   \n",
       "5571  https://thedailytexan.com/2011/05/04/student-l...   \n",
       "5572  https://thedailytexan.com/2011/05/03/overview-...   \n",
       "5573  https://thedailytexan.com/2011/05/03/a-time-fo...   \n",
       "5574  https://thedailytexan.com/2011/05/01/quotes-to...   \n",
       "5575  https://thedailytexan.com/2011/05/01/the-21675...   \n",
       "5576  https://thedailytexan.com/2011/05/01/pay-atten...   \n",
       "5577  https://thedailytexan.com/2011/05/01/quotes-to...   \n",
       "\n",
       "                                                   body  year  month  day  \n",
       "5561  Thank you, Shirley Bird\\nOn May 9, I attended ...  2011      5   12  \n",
       "5562  Whats AP style for asshattery?\\nI’ve lured ...  2011      5    6  \n",
       "5563  I’m being paid for this?\\nAs a graduating seni...  2011      5    6  \n",
       "5564  I hate everyone\\nAt the corner of Guadalupe an...  2011      5    6  \n",
       "5565  They let me write my own headline\\nHelen,\\n\\n\\...  2011      5    6  \n",
       "5566  Who said it: Perry or my 11-year-old sister?\\n...  2011      5    5  \n",
       "5567  Checkoff laws enable twisted relationship\\nI f...  2011      5    5  \n",
       "5568  Fates, interests intertwined\\nIn the latest an...  2011      5    5  \n",
       "5569  Hands off UT\\nAn internal memorandum obtained ...  2011      5    4  \n",
       "5570  Keep hydrofracking costs in proper perspective...  2011      5    4  \n",
       "5571  Student leaders deserve a response\\nStudent le...  2011      5    4  \n",
       "5572  Overview: A rash response; let it die\\nA rash ...  2011      5    3  \n",
       "5573  A time for reflection\\nOn Sunday night at 8:45...  2011      5    3  \n",
       "5574  Quotes to note\\n“With limited resources, it’s ...  2011      5    1  \n",
       "5575  The 21,675th article on Shakespeare\\nIn a gues...  2011      5    1  \n",
       "5576  Pay attention, be vocal\\nAs summer approaches ...  2011      5    1  \n",
       "5577  Quotes to note\\nEditor’s note: On Friday the T...  2011      5    1  "
      ]
     },
     "execution_count": 23,
     "metadata": {},
     "output_type": "execute_result"
    }
   ],
   "source": [
    "df.loc[(df.year==2011) & (df.month==5)]"
   ]
  },
  {
   "cell_type": "code",
   "execution_count": 24,
   "metadata": {},
   "outputs": [
    {
     "name": "stdout",
     "output_type": "stream",
     "text": [
      "2011, 385, 1.9870823270168712, 0.08513776643135253\n",
      "2012, 484, 1.9685984033059352, 0.09745040083200734\n",
      "2013, 513, 1.8939842069290607, 0.08733858915794113\n",
      "2014, 542, 1.9335006190141895, 0.08720085167856553\n",
      "2015, 632, 1.9851626933953415, 0.0821974595692523\n",
      "2016, 650, 2.0035409778873943, 0.07295119107135485\n",
      "2017, 686, 1.9878887053563532, 0.07219258659917116\n",
      "2018, 608, 2.0660076842283472, 0.07751157508524713\n",
      "2019, 354, 2.073045926194815, 0.07107210739418562\n",
      "2020, 328, 2.081016950570937, 0.06765393186437524\n",
      "2021, 222, 2.046958796081326, 0.05772450737244588\n",
      "2022, 231, 2.0497199014257372, 0.059751318433551914\n"
     ]
    }
   ],
   "source": [
    "results = []\n",
    "for year in range(START_YEAR, FINAL_YEAR+1):\n",
    "    year_df = df[df.year==year]\n",
    "    \n",
    "    clean_df, num_diversity_words = prepText(year_df.body)\n",
    "    wv = [nlp(s) for s in clean_df]\n",
    "    \n",
    "    docmatrix = np.array([v.vector for v in wv])\n",
    "    \n",
    "    pairwise = getNormalizedPairwiseDispersion(docmatrix, cosine_distance)\n",
    "    cov = getCovDispersion(docmatrix)\n",
    "    \n",
    "    print(f\"{year}, {cov[0]}, {cov[1]}, {pairwise}\")\n",
    "    \n",
    "    result = {'year':     year,\n",
    "              'pairwise': pairwise,\n",
    "              'size':     cov[0],\n",
    "              'trace':    cov[1],\n",
    "              'norm-1':   cov[2],\n",
    "              'norm-2':   cov[3],\n",
    "              'norm-inf': cov[4],\n",
    "              'diversity-words': num_diversity_words,\n",
    "              'mentions-norm'  : num_diversity_words/cov[0]\n",
    "             }\n",
    "    results.append(result)"
   ]
  },
  {
   "cell_type": "code",
   "execution_count": 25,
   "metadata": {},
   "outputs": [
    {
     "data": {
      "text/html": [
       "<div>\n",
       "<style scoped>\n",
       "    .dataframe tbody tr th:only-of-type {\n",
       "        vertical-align: middle;\n",
       "    }\n",
       "\n",
       "    .dataframe tbody tr th {\n",
       "        vertical-align: top;\n",
       "    }\n",
       "\n",
       "    .dataframe thead th {\n",
       "        text-align: right;\n",
       "    }\n",
       "</style>\n",
       "<table border=\"1\" class=\"dataframe\">\n",
       "  <thead>\n",
       "    <tr style=\"text-align: right;\">\n",
       "      <th></th>\n",
       "      <th>pairwise</th>\n",
       "      <th>size</th>\n",
       "      <th>trace</th>\n",
       "      <th>norm-1</th>\n",
       "      <th>norm-2</th>\n",
       "      <th>norm-inf</th>\n",
       "      <th>diversity-words</th>\n",
       "      <th>mentions-norm</th>\n",
       "    </tr>\n",
       "    <tr>\n",
       "      <th>year</th>\n",
       "      <th></th>\n",
       "      <th></th>\n",
       "      <th></th>\n",
       "      <th></th>\n",
       "      <th></th>\n",
       "      <th></th>\n",
       "      <th></th>\n",
       "      <th></th>\n",
       "    </tr>\n",
       "  </thead>\n",
       "  <tbody>\n",
       "    <tr>\n",
       "      <th>2011</th>\n",
       "      <td>0.085138</td>\n",
       "      <td>385</td>\n",
       "      <td>1.987082</td>\n",
       "      <td>2.177459</td>\n",
       "      <td>1.822639</td>\n",
       "      <td>2.177459</td>\n",
       "      <td>59</td>\n",
       "      <td>0.153247</td>\n",
       "    </tr>\n",
       "    <tr>\n",
       "      <th>2012</th>\n",
       "      <td>0.097450</td>\n",
       "      <td>484</td>\n",
       "      <td>1.968598</td>\n",
       "      <td>2.063346</td>\n",
       "      <td>1.781399</td>\n",
       "      <td>2.063346</td>\n",
       "      <td>179</td>\n",
       "      <td>0.369835</td>\n",
       "    </tr>\n",
       "    <tr>\n",
       "      <th>2013</th>\n",
       "      <td>0.087339</td>\n",
       "      <td>513</td>\n",
       "      <td>1.893984</td>\n",
       "      <td>2.095292</td>\n",
       "      <td>1.732344</td>\n",
       "      <td>2.095292</td>\n",
       "      <td>164</td>\n",
       "      <td>0.319688</td>\n",
       "    </tr>\n",
       "    <tr>\n",
       "      <th>2014</th>\n",
       "      <td>0.087201</td>\n",
       "      <td>542</td>\n",
       "      <td>1.933501</td>\n",
       "      <td>2.059779</td>\n",
       "      <td>1.769460</td>\n",
       "      <td>2.059779</td>\n",
       "      <td>158</td>\n",
       "      <td>0.291513</td>\n",
       "    </tr>\n",
       "    <tr>\n",
       "      <th>2015</th>\n",
       "      <td>0.082197</td>\n",
       "      <td>632</td>\n",
       "      <td>1.985163</td>\n",
       "      <td>2.114991</td>\n",
       "      <td>1.826902</td>\n",
       "      <td>2.114991</td>\n",
       "      <td>308</td>\n",
       "      <td>0.487342</td>\n",
       "    </tr>\n",
       "    <tr>\n",
       "      <th>2016</th>\n",
       "      <td>0.072951</td>\n",
       "      <td>650</td>\n",
       "      <td>2.003541</td>\n",
       "      <td>2.114663</td>\n",
       "      <td>1.858819</td>\n",
       "      <td>2.114663</td>\n",
       "      <td>326</td>\n",
       "      <td>0.501538</td>\n",
       "    </tr>\n",
       "    <tr>\n",
       "      <th>2017</th>\n",
       "      <td>0.072193</td>\n",
       "      <td>686</td>\n",
       "      <td>1.987889</td>\n",
       "      <td>2.161399</td>\n",
       "      <td>1.845499</td>\n",
       "      <td>2.161399</td>\n",
       "      <td>297</td>\n",
       "      <td>0.432945</td>\n",
       "    </tr>\n",
       "    <tr>\n",
       "      <th>2018</th>\n",
       "      <td>0.077512</td>\n",
       "      <td>608</td>\n",
       "      <td>2.066008</td>\n",
       "      <td>2.265707</td>\n",
       "      <td>1.910615</td>\n",
       "      <td>2.265707</td>\n",
       "      <td>314</td>\n",
       "      <td>0.516447</td>\n",
       "    </tr>\n",
       "    <tr>\n",
       "      <th>2019</th>\n",
       "      <td>0.071072</td>\n",
       "      <td>354</td>\n",
       "      <td>2.073046</td>\n",
       "      <td>2.237005</td>\n",
       "      <td>1.926963</td>\n",
       "      <td>2.237005</td>\n",
       "      <td>157</td>\n",
       "      <td>0.443503</td>\n",
       "    </tr>\n",
       "    <tr>\n",
       "      <th>2020</th>\n",
       "      <td>0.067654</td>\n",
       "      <td>328</td>\n",
       "      <td>2.081017</td>\n",
       "      <td>2.140815</td>\n",
       "      <td>1.942011</td>\n",
       "      <td>2.140815</td>\n",
       "      <td>195</td>\n",
       "      <td>0.594512</td>\n",
       "    </tr>\n",
       "    <tr>\n",
       "      <th>2021</th>\n",
       "      <td>0.057725</td>\n",
       "      <td>222</td>\n",
       "      <td>2.046959</td>\n",
       "      <td>2.162723</td>\n",
       "      <td>1.932265</td>\n",
       "      <td>2.162723</td>\n",
       "      <td>114</td>\n",
       "      <td>0.513514</td>\n",
       "    </tr>\n",
       "    <tr>\n",
       "      <th>2022</th>\n",
       "      <td>0.059751</td>\n",
       "      <td>231</td>\n",
       "      <td>2.049720</td>\n",
       "      <td>2.284206</td>\n",
       "      <td>1.928227</td>\n",
       "      <td>2.284206</td>\n",
       "      <td>188</td>\n",
       "      <td>0.813853</td>\n",
       "    </tr>\n",
       "  </tbody>\n",
       "</table>\n",
       "</div>"
      ],
      "text/plain": [
       "      pairwise  size     trace    norm-1    norm-2  norm-inf  diversity-words  \\\n",
       "year                                                                            \n",
       "2011  0.085138   385  1.987082  2.177459  1.822639  2.177459               59   \n",
       "2012  0.097450   484  1.968598  2.063346  1.781399  2.063346              179   \n",
       "2013  0.087339   513  1.893984  2.095292  1.732344  2.095292              164   \n",
       "2014  0.087201   542  1.933501  2.059779  1.769460  2.059779              158   \n",
       "2015  0.082197   632  1.985163  2.114991  1.826902  2.114991              308   \n",
       "2016  0.072951   650  2.003541  2.114663  1.858819  2.114663              326   \n",
       "2017  0.072193   686  1.987889  2.161399  1.845499  2.161399              297   \n",
       "2018  0.077512   608  2.066008  2.265707  1.910615  2.265707              314   \n",
       "2019  0.071072   354  2.073046  2.237005  1.926963  2.237005              157   \n",
       "2020  0.067654   328  2.081017  2.140815  1.942011  2.140815              195   \n",
       "2021  0.057725   222  2.046959  2.162723  1.932265  2.162723              114   \n",
       "2022  0.059751   231  2.049720  2.284206  1.928227  2.284206              188   \n",
       "\n",
       "      mentions-norm  \n",
       "year                 \n",
       "2011       0.153247  \n",
       "2012       0.369835  \n",
       "2013       0.319688  \n",
       "2014       0.291513  \n",
       "2015       0.487342  \n",
       "2016       0.501538  \n",
       "2017       0.432945  \n",
       "2018       0.516447  \n",
       "2019       0.443503  \n",
       "2020       0.594512  \n",
       "2021       0.513514  \n",
       "2022       0.813853  "
      ]
     },
     "execution_count": 25,
     "metadata": {},
     "output_type": "execute_result"
    }
   ],
   "source": [
    "results_df = pd.DataFrame.from_records(results)\n",
    "results_df.set_index('year')"
   ]
  },
  {
   "cell_type": "code",
   "execution_count": 26,
   "metadata": {},
   "outputs": [
    {
     "data": {
      "image/png": "[encoded data removed]",
      "text/plain": [
       "<Figure size 432x288 with 1 Axes>"
      ]
     },
     "metadata": {
      "needs_background": "light"
     },
     "output_type": "display_data"
    }
   ],
   "source": [
    "import matplotlib.pyplot as plt\n",
    "from scipy.stats import linregress\n",
    "\n",
    "x = results_df['year']\n",
    "y = results_df['pairwise']\n",
    "\n",
    "slope, intercept, r_value, p_value, std_err = linregress(x, y)\n",
    "\n",
    "results_df.plot(x=\"year\", y=\"pairwise\", kind=\"scatter\")\n",
    "\n",
    "plt.plot(x, intercept + slope*x, 'b:', label='fitted regression')\n",
    "\n",
    "plt.title(\"Austin Daily Texan: Opinions by year\")\n",
    "plt.legend(loc='upper right')\n",
    "plt.ylim(min(y)*0.95, max(y)*1.05)\n",
    "plt.show()"
   ]
  },
  {
   "cell_type": "code",
   "execution_count": 27,
   "metadata": {
    "scrolled": true
   },
   "outputs": [
    {
     "name": "stdout",
     "output_type": "stream",
     "text": [
      "mentions-norm slope:0.03938, int:0.23658, r:0.85607, p:0.00038, se:0.00752, x:range(0, 12)\n",
      "pairwise slope:-0.00304, int:0.09325, r:-0.92374, p:0.00002, se:0.00040, x:range(0, 12)\n",
      "trace slope:0.01269, int:1.93660, r:0.78191, p:0.00266, se:0.00320, x:range(0, 12)\n",
      "norm-1 slope:0.01319, int:2.08391, r:0.64011, p:0.02496, se:0.00501, x:range(0, 12)\n",
      "norm-2 slope:0.01753, int:1.76004, r:0.87881, p:0.00017, se:0.00301, x:range(0, 12)\n",
      "norm-inf slope:0.01319, int:2.08391, r:0.64011, p:0.02496, se:0.00501, x:range(0, 12)\n"
     ]
    },
    {
     "data": {
      "image/png": "[encoded data removed]",
      "text/plain": [
       "<Figure size 576x1152 with 6 Axes>"
      ]
     },
     "metadata": {
      "needs_background": "light"
     },
     "output_type": "display_data"
    }
   ],
   "source": [
    "columns = [\"mentions-norm\", \"pairwise\", \"trace\", \"norm-1\", \"norm-2\", \"norm-inf\"]\n",
    "\n",
    "fig, axs = plt.subplots(nrows=len(columns), ncols=1, sharex=True, figsize=(8, 16))\n",
    "\n",
    "for ax, column in zip(axs, columns):\n",
    "    x = range(len(results_df.index))\n",
    "    y = results_df[column]\n",
    "    \n",
    "    slope, intercept, r_value, p_value, std_err = linregress(x, y)\n",
    "    \n",
    "    print(\"{} slope:{:.5f}, int:{:.5f}, r:{:.5f}, p:{:.5f}, se:{:.5f}, x:{}\".format(\n",
    "            column, slope, intercept, r_value, p_value, std_err, x))\n",
    "    \n",
    "    results_df[column].plot(ax=ax,  style=\".\", x=x, y=y, label=column)\n",
    "    ax.plot(x, intercept + slope*x, 'b:', label='regression')\n",
    "    ax.set_ylim(0, max(y)*1.2)\n",
    "    \n",
    "    ax.legend(loc='lower center')\n",
    "    \n",
    "    ax.set_xticks(results_df.index)\n",
    "    ax.set_xticklabels(results_df.year)\n",
    "    \n",
    "plt.xlabel(\"Year\")\n",
    "plt.suptitle(\"Trending of Austin Daily Texan opinions on Diversity metrics\")\n",
    "plt.show()"
   ]
  },
  {
   "cell_type": "code",
   "execution_count": 28,
   "metadata": {},
   "outputs": [
    {
     "name": "stdout",
     "output_type": "stream",
     "text": [
      "mentions-norm slope:0.03938, int:0.23658, r:0.85607, p:0.00038, se:0.00752, x:range(0, 12)\n",
      "pairwise slope:-0.00304, int:0.09325, r:-0.92374, p:0.00002, se:0.00040, x:range(0, 12)\n"
     ]
    },
    {
     "data": {
      "image/png": "[encoded data removed]",
      "text/plain": [
       "<Figure size 1152x288 with 2 Axes>"
      ]
     },
     "metadata": {
      "needs_background": "light"
     },
     "output_type": "display_data"
    }
   ],
   "source": [
    "# Select the columns to plot\n",
    "columns = [\"mentions-norm\", \"pairwise\"]\n",
    "\n",
    "# Create a figure with subplots\n",
    "fig, axs = plt.subplots(nrows=1, ncols=len(columns), sharex=True, figsize=(16,4))\n",
    "\n",
    "# Loop through the columns and plot each one\n",
    "for ax, column in zip(axs, columns):\n",
    "    # Select the data for the current column\n",
    "    x = range(len(results_df.index))\n",
    "    y = results_df[column]\n",
    "     \n",
    "    # Calculate the linear regression\n",
    "    slope, intercept, r_value, p_value, std_err = linregress(x, y)\n",
    "    \n",
    "    print(\"{} slope:{:.5f}, int:{:.5f}, r:{:.5f}, p:{:.5f}, se:{:.5f}, x:{}\".format(\n",
    "            column, slope, intercept, r_value, p_value, std_err, x))\n",
    "\n",
    "    # Plot the data and the linear regression line\n",
    "    results_df[column].plot(ax=ax, style=\".\", x=x, y=y, label=column)\n",
    "    ax.plot(x, intercept + slope*x, 'b:', label='regression')\n",
    "    ax.set_ylim(0, max(y)*1.2)\n",
    "    \n",
    "    # Add a legend\n",
    "    ax.legend(loc='lower center')\n",
    "\n",
    "    # Add x-label for the years\n",
    "    ax.set_xticks(results_df.index)\n",
    "    ax.set_xticklabels(results_df.year)\n",
    "\n",
    "    # Add a title\n",
    "    # ax.set_title(f\"Trending of {column} in Austin's Daily Texan\")\n",
    "    \n",
    "plt.xlabel(\"Year\")\n",
    "plt.suptitle(\"Trending of Austin's Daily Texan opinions on Diversity metrics\")\n",
    "plt.show()"
   ]
  },
  {
   "cell_type": "code",
   "execution_count": null,
   "metadata": {},
   "outputs": [],
   "source": []
  }
 ],
 "metadata": {
  "kernelspec": {
   "display_name": "Python 3 (ipykernel)",
   "language": "python",
   "name": "python3"
  },
  "language_info": {
   "codemirror_mode": {
    "name": "ipython",
    "version": 3
   },
   "file_extension": ".py",
   "mimetype": "text/x-python",
   "name": "python",
   "nbconvert_exporter": "python",
   "pygments_lexer": "ipython3",
   "version": "3.10.9"
  },
  "vscode": {
   "interpreter": {
    "hash": "c21ac38248faf28f2c9521adbe733be2f0389d69400e829bbbab439e1682721f"
   }
  }
 },
 "nbformat": 4,
 "nbformat_minor": 4
}
