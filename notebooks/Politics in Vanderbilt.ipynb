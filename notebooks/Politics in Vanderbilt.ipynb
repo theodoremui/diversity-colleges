{
 "cells": [
  {
   "cell_type": "markdown",
   "metadata": {},
   "source": [
    "# Politics in Vanderbilt"
   ]
  },
  {
   "cell_type": "code",
   "execution_count": 1,
   "metadata": {},
   "outputs": [],
   "source": [
    "SCHOOL=\"vanderbilt\"\n",
    "SUBJECT=\"opinion\"\n",
    "START_YEAR=2015\n",
    "FINAL_YEAR=2023\n",
    "DATA_DIR=\"data\"      # should be 'data'\n",
    "OUTPUT_DIR=\"output\"  # should be 'output'"
   ]
  },
  {
   "cell_type": "code",
   "execution_count": 2,
   "metadata": {},
   "outputs": [
    {
     "data": {
      "text/plain": [
       "'C:\\\\Users\\\\ranar\\\\ASDRP\\\\diversity-colleges\\\\notebooks'"
      ]
     },
     "execution_count": 2,
     "metadata": {},
     "output_type": "execute_result"
    }
   ],
   "source": [
    "%pwd"
   ]
  },
  {
   "cell_type": "code",
   "execution_count": 3,
   "metadata": {},
   "outputs": [
    {
     "name": "stdout",
     "output_type": "stream",
     "text": [
      "C:\\Users\\ranar\\ASDRP\\diversity-colleges\n"
     ]
    }
   ],
   "source": [
    "%cd .."
   ]
  },
  {
   "cell_type": "code",
   "execution_count": 4,
   "metadata": {},
   "outputs": [],
   "source": [
    "import sys\n",
    "sys.path.append('src')\n",
    "import ouraws\n",
    "import ourgraphs\n",
    "import textutil"
   ]
  },
  {
   "cell_type": "code",
   "execution_count": 5,
   "metadata": {},
   "outputs": [],
   "source": [
    "# NOTE: before loading, we need to be in the \"diversity-colleges\" folder\n",
    "\n",
    "S3OBJECT_KEY = f\"{DATA_DIR}/{SCHOOL}-{SUBJECT}-SNAPSHOT.parquet\"\n",
    "df = ouraws.getFromS3(S3OBJECT_KEY)"
   ]
  },
  {
   "cell_type": "code",
   "execution_count": 6,
   "metadata": {},
   "outputs": [
    {
     "data": {
      "text/plain": [
       "(474, 6)"
      ]
     },
     "execution_count": 6,
     "metadata": {},
     "output_type": "execute_result"
    }
   ],
   "source": [
    "df.shape"
   ]
  },
  {
   "cell_type": "code",
   "execution_count": 7,
   "metadata": {},
   "outputs": [
    {
     "data": {
      "text/html": [
       "<div>\n",
       "<style scoped>\n",
       "    .dataframe tbody tr th:only-of-type {\n",
       "        vertical-align: middle;\n",
       "    }\n",
       "\n",
       "    .dataframe tbody tr th {\n",
       "        vertical-align: top;\n",
       "    }\n",
       "\n",
       "    .dataframe thead th {\n",
       "        text-align: right;\n",
       "    }\n",
       "</style>\n",
       "<table border=\"1\" class=\"dataframe\">\n",
       "  <thead>\n",
       "    <tr style=\"text-align: right;\">\n",
       "      <th></th>\n",
       "      <th>title</th>\n",
       "      <th>url</th>\n",
       "      <th>body</th>\n",
       "      <th>year</th>\n",
       "      <th>month</th>\n",
       "      <th>day</th>\n",
       "    </tr>\n",
       "  </thead>\n",
       "  <tbody>\n",
       "    <tr>\n",
       "      <th>0</th>\n",
       "      <td>\\n\\t\\t\\t\\t\\t\\t\\t\\t\\t\\tBARBIN: Win or lose, Sta...</td>\n",
       "      <td>https://vanderbilthustler.com/2023/03/10/barbi...</td>\n",
       "      <td>BARBIN: Win or lose, Stackhouse is building a ...</td>\n",
       "      <td>2023</td>\n",
       "      <td>3</td>\n",
       "      <td>10</td>\n",
       "    </tr>\n",
       "    <tr>\n",
       "      <th>1</th>\n",
       "      <td>\\n\\t\\t\\t\\t\\t\\t\\t\\t\\t\\tZHANG: Vanderbilt engine...</td>\n",
       "      <td>https://vanderbilthustler.com/2023/03/06/zhang...</td>\n",
       "      <td>ZHANG: Vanderbilt engineering is failing its s...</td>\n",
       "      <td>2023</td>\n",
       "      <td>3</td>\n",
       "      <td>6</td>\n",
       "    </tr>\n",
       "  </tbody>\n",
       "</table>\n",
       "</div>"
      ],
      "text/plain": [
       "                                               title  \\\n",
       "0  \\n\\t\\t\\t\\t\\t\\t\\t\\t\\t\\tBARBIN: Win or lose, Sta...   \n",
       "1  \\n\\t\\t\\t\\t\\t\\t\\t\\t\\t\\tZHANG: Vanderbilt engine...   \n",
       "\n",
       "                                                 url  \\\n",
       "0  https://vanderbilthustler.com/2023/03/10/barbi...   \n",
       "1  https://vanderbilthustler.com/2023/03/06/zhang...   \n",
       "\n",
       "                                                body  year  month  day  \n",
       "0  BARBIN: Win or lose, Stackhouse is building a ...  2023      3   10  \n",
       "1  ZHANG: Vanderbilt engineering is failing its s...  2023      3    6  "
      ]
     },
     "execution_count": 7,
     "metadata": {},
     "output_type": "execute_result"
    }
   ],
   "source": [
    "df.head(2)"
   ]
  },
  {
   "cell_type": "code",
   "execution_count": 8,
   "metadata": {},
   "outputs": [],
   "source": [
    "import requests\n",
    "import os\n",
    "\n",
    "BIPARTISAN_API_KEY = os.environ.get(\"BIPARTISAN_API_KEY\")\n",
    "\n",
    "BIPARTISAN_URL = \"https://api.thebipartisanpress.com/api/endpoints/beta/robert\""
   ]
  },
  {
   "cell_type": "code",
   "execution_count": 9,
   "metadata": {},
   "outputs": [
    {
     "data": {
      "text/plain": [
       "'gAAAAABeVpQJKRM5BqPX91XW2AKfz8pJosk182maAweJcm5ORAkkBFj__d2feG4H5KIeOKFyhUVSY_uGImiaSBCwy2L6nWxx4g=='"
      ]
     },
     "execution_count": 9,
     "metadata": {},
     "output_type": "execute_result"
    }
   ],
   "source": [
    "BIPARTISAN_API_KEY"
   ]
  },
  {
   "cell_type": "code",
   "execution_count": 10,
   "metadata": {},
   "outputs": [
    {
     "name": "stdout",
     "output_type": "stream",
     "text": [
      "0.970463\n"
     ]
    }
   ],
   "source": [
    "df2022 = df[df['year'] == 2022]\n",
    "\n",
    "articles_list = df2022['body'].to_list()\n",
    "for article in articles_list:\n",
    "    payload = {\"API\": BIPARTISAN_API_KEY, \"Text\": article.encode(\"utf-8\")}\n",
    "    response = requests.post(BIPARTISAN_URL, data=payload)\n",
    "    print(response.text)\n",
    "    break"
   ]
  },
  {
   "cell_type": "code",
   "execution_count": 11,
   "metadata": {},
   "outputs": [
    {
     "data": {
      "text/plain": [
       "array([2023, 2022, 2021, 2020, 2019, 2018, 2017, 2016, 2015], dtype=int64)"
      ]
     },
     "execution_count": 11,
     "metadata": {},
     "output_type": "execute_result"
    }
   ],
   "source": [
    "df['year'].unique()"
   ]
  },
  {
   "cell_type": "code",
   "execution_count": 12,
   "metadata": {},
   "outputs": [
    {
     "name": "stdout",
     "output_type": "stream",
     "text": [
      "Year: 2015 ... 1\n",
      "2015\t1\t-0.219144\t-0.219144\n",
      "Year: 2016 ... 20\n",
      "2016\t20\t-40.814286\t-2.0407143000000003\n",
      "Year: 2017 ... 61\n",
      "2017\t61\t-192.88907699999996\t-3.162116016393442\n",
      "Year: 2018 ... 63\n",
      "2018\t63\t-176.61186099999995\t-2.8033628730158724\n",
      "Year: 2019 ... 64\n",
      "2019\t64\t-81.04913400000007\t-1.266392718750001\n",
      "Year: 2020 ... 112\n",
      "2020\t112\t-242.85191400000008\t-2.1683206607142864\n",
      "Year: 2021 ... 80\n",
      "2021\t80\t-52.135808999999995\t-0.6516976124999999\n",
      "Year: 2022 ... 62\n",
      "2022\t62\t-8.333947999999996\t-0.1344185161290322\n"
     ]
    }
   ],
   "source": [
    "# SYNCHRONOUS METHOD : TAKES A LONG TIME\n",
    "\n",
    "results = []\n",
    "\n",
    "for year in range(2015, 2023):\n",
    "    df2 = df[df['year'] == year]\n",
    "    print(f\"Year: {year} ... {df2.shape[0]}\")\n",
    "\n",
    "    articles_list = df2['body'].to_list()\n",
    "    value_sum = 0.0\n",
    "    article_count = 0\n",
    "    for article in articles_list:\n",
    "        payload = {\"API\": BIPARTISAN_API_KEY, \"Text\": article.encode(\"utf-8\")}\n",
    "        response = requests.post(BIPARTISAN_URL, data=payload)\n",
    "        try:\n",
    "            value_sum += float(response.text)\n",
    "            article_count += 1\n",
    "            # print(f\"{article_count}\", end=\".\")\n",
    "        except:\n",
    "            pass  # this is a non-number\n",
    "        \n",
    "    results.append({\n",
    "        'year' : year,\n",
    "        'article_count' : article_count,\n",
    "        'polarity_sum' : value_sum,\n",
    "        'polarity_avg' : float(value_sum) / article_count\n",
    "    })\n",
    "\n",
    "    print(f\"{year}\\t{article_count}\\t{value_sum}\\t{value_sum/article_count}\")\n",
    "# for each year, get all articles' bodies & send to bipartisan press API \n",
    "#    and sum up the values & output the average for each year"
   ]
  },
  {
   "cell_type": "code",
   "execution_count": 13,
   "metadata": {},
   "outputs": [],
   "source": [
    "import pandas as pd\n",
    "\n",
    "RESULTS_FILE = f\"{DATA_DIR}/{SCHOOL}-POLARITY.parquet\"\n",
    "\n",
    "results_df = pd.DataFrame.from_records(results)\n",
    "results_df.to_parquet(RESULTS_FILE)"
   ]
  },
  {
   "cell_type": "code",
   "execution_count": null,
   "metadata": {},
   "outputs": [],
   "source": []
  }
 ],
 "metadata": {
  "kernelspec": {
   "display_name": "Python 3 (ipykernel)",
   "language": "python",
   "name": "python3"
  },
  "language_info": {
   "codemirror_mode": {
    "name": "ipython",
    "version": 3
   },
   "file_extension": ".py",
   "mimetype": "text/x-python",
   "name": "python",
   "nbconvert_exporter": "python",
   "pygments_lexer": "ipython3",
   "version": "3.9.13"
  },
  "vscode": {
   "interpreter": {
    "hash": "c21ac38248faf28f2c9521adbe733be2f0389d69400e829bbbab439e1682721f"
   }
  }
 },
 "nbformat": 4,
 "nbformat_minor": 2
}
