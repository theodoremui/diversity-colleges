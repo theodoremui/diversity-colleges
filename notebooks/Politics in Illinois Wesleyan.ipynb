{
 "cells": [
  {
   "cell_type": "markdown",
   "metadata": {},
   "source": [
    "# Politics in Illinois Wesleyan"
   ]
  },
  {
   "cell_type": "code",
   "execution_count": 1,
   "metadata": {},
   "outputs": [],
   "source": [
    "SCHOOL=\"illinoiswesleyan\"\n",
    "SUBJECT=\"opinions\"\n",
    "START_YEAR=2012\n",
    "FINAL_YEAR=2023\n",
    "DATA_DIR=\"data\"      # should be 'data'\n",
    "OUTPUT_DIR=\"output\"  # should be 'output'"
   ]
  },
  {
   "cell_type": "code",
   "execution_count": 2,
   "metadata": {},
   "outputs": [
    {
     "data": {
      "text/plain": [
       "'C:\\\\Users\\\\ranar\\\\ASDRP\\\\diversity-colleges\\\\notebooks'"
      ]
     },
     "execution_count": 2,
     "metadata": {},
     "output_type": "execute_result"
    }
   ],
   "source": [
    "%pwd"
   ]
  },
  {
   "cell_type": "code",
   "execution_count": 3,
   "metadata": {},
   "outputs": [
    {
     "name": "stdout",
     "output_type": "stream",
     "text": [
      "C:\\Users\\ranar\\ASDRP\\diversity-colleges\n"
     ]
    }
   ],
   "source": [
    "%cd .."
   ]
  },
  {
   "cell_type": "code",
   "execution_count": 4,
   "metadata": {},
   "outputs": [],
   "source": [
    "import sys\n",
    "sys.path.append('src')\n",
    "import ouraws\n",
    "import ourgraphs\n",
    "import textutil"
   ]
  },
  {
   "cell_type": "code",
   "execution_count": 5,
   "metadata": {},
   "outputs": [],
   "source": [
    "# NOTE: before loading, we need to be in the \"diversity-colleges\" folder\n",
    "\n",
    "S3OBJECT_KEY = f\"{DATA_DIR}/{SCHOOL}-{SUBJECT}-SNAPSHOT.parquet\"\n",
    "df = ouraws.getFromS3(S3OBJECT_KEY)"
   ]
  },
  {
   "cell_type": "code",
   "execution_count": 6,
   "metadata": {},
   "outputs": [
    {
     "data": {
      "text/plain": [
       "(467, 6)"
      ]
     },
     "execution_count": 6,
     "metadata": {},
     "output_type": "execute_result"
    }
   ],
   "source": [
    "df.shape"
   ]
  },
  {
   "cell_type": "code",
   "execution_count": 7,
   "metadata": {},
   "outputs": [
    {
     "data": {
      "text/html": [
       "<div>\n",
       "<style scoped>\n",
       "    .dataframe tbody tr th:only-of-type {\n",
       "        vertical-align: middle;\n",
       "    }\n",
       "\n",
       "    .dataframe tbody tr th {\n",
       "        vertical-align: top;\n",
       "    }\n",
       "\n",
       "    .dataframe thead th {\n",
       "        text-align: right;\n",
       "    }\n",
       "</style>\n",
       "<table border=\"1\" class=\"dataframe\">\n",
       "  <thead>\n",
       "    <tr style=\"text-align: right;\">\n",
       "      <th></th>\n",
       "      <th>title</th>\n",
       "      <th>url</th>\n",
       "      <th>body</th>\n",
       "      <th>year</th>\n",
       "      <th>month</th>\n",
       "      <th>day</th>\n",
       "    </tr>\n",
       "  </thead>\n",
       "  <tbody>\n",
       "    <tr>\n",
       "      <th>0</th>\n",
       "      <td>Horoscope: What spring break destination each ...</td>\n",
       "      <td>https://iwuargus.com/6017/opinions/horoscopes/...</td>\n",
       "      <td>Horoscope: What spring break destination each ...</td>\n",
       "      <td>2023</td>\n",
       "      <td>3</td>\n",
       "      <td>3</td>\n",
       "    </tr>\n",
       "    <tr>\n",
       "      <th>1</th>\n",
       "      <td>Opinion: Children’s show “Bluey” is enjoyable ...</td>\n",
       "      <td>https://iwuargus.com/6032/opinions/opinion-chi...</td>\n",
       "      <td>Opinion: Children’s show “Bluey” is enjoyable ...</td>\n",
       "      <td>2023</td>\n",
       "      <td>3</td>\n",
       "      <td>3</td>\n",
       "    </tr>\n",
       "  </tbody>\n",
       "</table>\n",
       "</div>"
      ],
      "text/plain": [
       "                                               title  \\\n",
       "0  Horoscope: What spring break destination each ...   \n",
       "1  Opinion: Children’s show “Bluey” is enjoyable ...   \n",
       "\n",
       "                                                 url  \\\n",
       "0  https://iwuargus.com/6017/opinions/horoscopes/...   \n",
       "1  https://iwuargus.com/6032/opinions/opinion-chi...   \n",
       "\n",
       "                                                body  year  month  day  \n",
       "0  Horoscope: What spring break destination each ...  2023      3    3  \n",
       "1  Opinion: Children’s show “Bluey” is enjoyable ...  2023      3    3  "
      ]
     },
     "execution_count": 7,
     "metadata": {},
     "output_type": "execute_result"
    }
   ],
   "source": [
    "df.head(2)"
   ]
  },
  {
   "cell_type": "code",
   "execution_count": 8,
   "metadata": {},
   "outputs": [],
   "source": [
    "import requests\n",
    "import os\n",
    "\n",
    "BIPARTISAN_API_KEY = os.environ.get(\"BIPARTISAN_API_KEY\")\n",
    "\n",
    "BIPARTISAN_URL = \"https://api.thebipartisanpress.com/api/endpoints/beta/robert\""
   ]
  },
  {
   "cell_type": "code",
   "execution_count": 9,
   "metadata": {},
   "outputs": [
    {
     "data": {
      "text/plain": [
       "'gAAAAABeVpQJKRM5BqPX91XW2AKfz8pJosk182maAweJcm5ORAkkBFj__d2feG4H5KIeOKFyhUVSY_uGImiaSBCwy2L6nWxx4g=='"
      ]
     },
     "execution_count": 9,
     "metadata": {},
     "output_type": "execute_result"
    }
   ],
   "source": [
    "BIPARTISAN_API_KEY"
   ]
  },
  {
   "cell_type": "code",
   "execution_count": 10,
   "metadata": {},
   "outputs": [
    {
     "name": "stdout",
     "output_type": "stream",
     "text": [
      "5.53969\n"
     ]
    }
   ],
   "source": [
    "df2022 = df[df['year'] == 2022]\n",
    "\n",
    "articles_list = df2022['body'].to_list()\n",
    "for article in articles_list:\n",
    "    payload = {\"API\": BIPARTISAN_API_KEY, \"Text\": article.encode(\"utf-8\")}\n",
    "    response = requests.post(BIPARTISAN_URL, data=payload)\n",
    "    print(response.text)\n",
    "    break"
   ]
  },
  {
   "cell_type": "code",
   "execution_count": 11,
   "metadata": {},
   "outputs": [
    {
     "data": {
      "text/plain": [
       "array([2023, 2022, 2021, 2020, 2019, 2018, 2017, 2015, 2014, 2013, 2012],\n",
       "      dtype=int64)"
      ]
     },
     "execution_count": 11,
     "metadata": {},
     "output_type": "execute_result"
    }
   ],
   "source": [
    "df['year'].unique()"
   ]
  },
  {
   "cell_type": "code",
   "execution_count": 12,
   "metadata": {},
   "outputs": [
    {
     "name": "stdout",
     "output_type": "stream",
     "text": [
      "Year: 2012 ... 33\n",
      "2012\t33\t53.631942\t1.6252103636363637\n",
      "Year: 2013 ... 34\n",
      "2013\t34\t152.948826\t4.498494882352941\n",
      "Year: 2014 ... 53\n",
      "2014\t53\t39.851755999999995\t0.7519199245283018\n",
      "Year: 2015 ... 83\n",
      "2015\t83\t293.488365\t3.5360043975903612\n",
      "Year: 2017 ... 2\n",
      "2017\t2\t34.675653\t17.3378265\n",
      "Year: 2018 ... 15\n",
      "2018\t15\t-89.67510399999999\t-5.978340266666666\n",
      "Year: 2019 ... 31\n",
      "2019\t31\t-23.946132999999985\t-0.7724559032258059\n",
      "Year: 2020 ... 34\n",
      "2020\t34\t-3.923991000000004\t-0.11541150000000011\n",
      "Year: 2021 ... 84\n",
      "2021\t84\t-49.66045899999999\t-0.5911959404761904\n",
      "Year: 2022 ... 76\n",
      "2022\t76\t167.045407\t2.1979658815789476\n"
     ]
    }
   ],
   "source": [
    "# SYNCHRONOUS METHOD : TAKES A LONG TIME\n",
    "\n",
    "results = []\n",
    "\n",
    "for year in range(2012, 2023):\n",
    "    if year != 2016:\n",
    "        df2 = df[df['year'] == year]\n",
    "        print(f\"Year: {year} ... {df2.shape[0]}\")\n",
    "\n",
    "        articles_list = df2['body'].to_list()\n",
    "        value_sum = 0.0\n",
    "        article_count = 0\n",
    "        for article in articles_list:\n",
    "            payload = {\"API\": BIPARTISAN_API_KEY, \"Text\": article.encode(\"utf-8\")}\n",
    "            response = requests.post(BIPARTISAN_URL, data=payload)\n",
    "            try:\n",
    "                value_sum += float(response.text)\n",
    "                article_count += 1\n",
    "                # print(f\"{article_count}\", end=\".\")\n",
    "            except:\n",
    "                pass  # this is a non-number\n",
    "\n",
    "        results.append({\n",
    "            'year' : year,\n",
    "            'article_count' : article_count,\n",
    "            'polarity_sum' : value_sum,\n",
    "            'polarity_avg' : float(value_sum) / article_count\n",
    "        })\n",
    "\n",
    "        print(f\"{year}\\t{article_count}\\t{value_sum}\\t{value_sum/article_count}\")\n",
    "    # for each year, get all articles' bodies & send to bipartisan press API \n",
    "    #    and sum up the values & output the average for each year"
   ]
  },
  {
   "cell_type": "code",
   "execution_count": null,
   "metadata": {},
   "outputs": [],
   "source": [
    "import pandas as pd\n",
    "\n",
    "RESULTS_FILE = f\"{DATA_DIR}/{SCHOOL}-POLARITY.parquet\"\n",
    "\n",
    "results_df = pd.DataFrame.from_records(results)\n",
    "results_df.to_parquet(RESULTS_FILE)"
   ]
  },
  {
   "cell_type": "code",
   "execution_count": null,
   "metadata": {},
   "outputs": [],
   "source": []
  }
 ],
 "metadata": {
  "kernelspec": {
   "display_name": "Python 3 (ipykernel)",
   "language": "python",
   "name": "python3"
  },
  "language_info": {
   "codemirror_mode": {
    "name": "ipython",
    "version": 3
   },
   "file_extension": ".py",
   "mimetype": "text/x-python",
   "name": "python",
   "nbconvert_exporter": "python",
   "pygments_lexer": "ipython3",
   "version": "3.9.13"
  },
  "vscode": {
   "interpreter": {
    "hash": "c21ac38248faf28f2c9521adbe733be2f0389d69400e829bbbab439e1682721f"
   }
  }
 },
 "nbformat": 4,
 "nbformat_minor": 2
}
