{
 "cells": [
  {
   "cell_type": "code",
   "execution_count": 1,
   "metadata": {},
   "outputs": [],
   "source": [
    "import sys\n",
    "import nltk\n",
    "#nltk.download('wordnet')\n",
    "#nltk.download('stopwords')"
   ]
  },
  {
   "cell_type": "code",
   "execution_count": 2,
   "metadata": {},
   "outputs": [],
   "source": [
    "sys.path.append('../src/util')\n",
    "import ouraws\n",
    "import ourgraphs\n",
    "import textutil"
   ]
  },
  {
   "cell_type": "code",
   "execution_count": 25,
   "metadata": {},
   "outputs": [],
   "source": [
    "BUCKET_NAME = \"collegier\""
   ]
  },
  {
   "cell_type": "code",
   "execution_count": 26,
   "metadata": {},
   "outputs": [
    {
     "data": {
      "text/plain": [
       "479"
      ]
     },
     "execution_count": 26,
     "metadata": {},
     "output_type": "execute_result"
    }
   ],
   "source": [
    "files = ouraws.getFiles(bucket_name=BUCKET_NAME)\n",
    "len(files)"
   ]
  },
  {
   "cell_type": "code",
   "execution_count": 27,
   "metadata": {},
   "outputs": [
    {
     "data": {
      "text/plain": [
       "469"
      ]
     },
     "execution_count": 27,
     "metadata": {},
     "output_type": "execute_result"
    }
   ],
   "source": [
    "datafiles = [f for f in files if f.startswith(\"data/\")]\n",
    "len(datafiles)"
   ]
  },
  {
   "cell_type": "code",
   "execution_count": 28,
   "metadata": {},
   "outputs": [
    {
     "name": "stdout",
     "output_type": "stream",
     "text": [
      "data/CCNY-opinion-SNAPSHOT.parquet\n",
      "data/Julliard-opinion-SNAPSHOT.parquet\n",
      "data/WestPoint-opinion-SNAPSHOT.parquet\n",
      "data/austin-POLARITY.parquet\n",
      "data/austin-opinion-SNAPSHOT.parquet\n",
      "data/berkeley-POLARITY.parquet\n",
      "data/berkeley-opinion-SNAPSHOT.parquet\n",
      "data/brown-opinions-SNAPSHOT.parquet\n",
      "data/byu-opinion-SNAPSHOT.parquet\n",
      "data/citycollegeofnewyork-Opinion-SNAPSHOT.parquet\n",
      "data/dartmouth-POLARITY.parquet\n",
      "data/dartmouth-opinion-SNAPSHOT.parquet\n",
      "data/depaul-opinions-SNAPSHOT.parquet\n",
      "data/duke-opinion-SNAPSHOT.parquet\n",
      "data/georgia-opinions-SNAPSHOT.parquet\n",
      "data/grinnell-opinion-SNAPSHOT.parquet\n",
      "data/hampton-opinions-SNAPSHOT.parquet\n",
      "data/harvard-POLARITY.parquet\n",
      "data/harvard-opinion-SNAPSHOT.parquet\n",
      "data/harveymudd-opinions-SNAPSHOT.parquet\n",
      "data/illinois wesleyan-opinions-SNAPSHOT.parquet\n",
      "data/illinoiswesleyan-opinions-SNAPSHOT.parquet\n",
      "data/julliard-opinion-SNAPSHOT.parquet\n",
      "data/kenyon-opinion-SNAPSHOT.parquet\n",
      "data/liberty-opinion-SNAPSHOT.parquet\n",
      "data/middlebury-opinion-SNAPSHOT.parquet\n",
      "data/minnesota-opinion-SNAPSHOT.parquet\n",
      "data/nevada-opinion-SNAPSHOT.parquet\n",
      "data/northwestern-opinion-SNAPSHOT.parquet\n",
      "data/pomona-opinions-SNAPSHOT.parquet\n",
      "data/rice-opinion-SNAPSHOT.parquet\n",
      "data/santa clara-opinion-SNAPSHOT.parquet\n",
      "data/stanford-POLARITY.parquet\n",
      "data/stanford-opinions-1page.parquet\n",
      "data/stanford-opinions-2009.parquet\n",
      "data/stanford-opinions-2010.parquet\n",
      "data/stanford-opinions-2011.parquet\n",
      "data/stanford-opinions-2012.parquet\n",
      "data/stanford-opinions-2013.parquet\n",
      "data/stanford-opinions-2014.parquet\n",
      "data/stanford-opinions-2015.parquet\n",
      "data/stanford-opinions-2016.parquet\n",
      "data/stanford-opinions-2017.parquet\n",
      "data/stanford-opinions-2018.parquet\n",
      "data/stanford-opinions-2019.parquet\n",
      "data/stanford-opinions-2020.parquet\n",
      "data/stanford-opinions-2021.parquet\n",
      "data/stanford-opinions-2022.parquet\n",
      "data/stanford-opinions-SNAPSHOT.parquet\n",
      "data/swarthmore-POLARITY.parquet\n",
      "data/swarthmore-opinions-SNAPSHOT.parquet\n",
      "data/truman-editorial-SNAPSHOT.parquet\n",
      "data/truman-editorials-SNAPSHOT.parquet\n",
      "data/tufts-opinion-SNAPSHOT.parquet\n",
      "data/unc-opinion-SNAPSHOT.parquet\n",
      "data/universityofchicago-viewpoints-SNAPSHOT.parquet\n",
      "data/urbana-opinions-SNAPSHOT.parquet\n",
      "data/usc-opinion-SNAPSHOT.parquet\n",
      "data/vanderbilt-opinion-SNAPSHOT.parquet\n",
      "data/virginia-opinion-SNAPSHOT.parquet\n",
      "data/wellesley-POLARITY.parquet\n",
      "data/wellesley-opinions-SNAPSHOT.parquet\n",
      "data/wesleyan-opinion-SNAPSHOT.parquet\n",
      "data/williams-opinions-SNAPSHOT.parquet\n"
     ]
    },
    {
     "data": {
      "text/plain": [
       "64"
      ]
     },
     "execution_count": 28,
     "metadata": {},
     "output_type": "execute_result"
    }
   ],
   "source": [
    "toplevelfiles = [print(d) for d in datafiles if not d.startswith('data/data/')]\n",
    "len(toplevelfiles)"
   ]
  },
  {
   "cell_type": "code",
   "execution_count": 24,
   "metadata": {},
   "outputs": [],
   "source": [
    "import boto3\n",
    "\n",
    "def list_parquet_files(bucket_name, folder_path=''):\n",
    "    s3 = boto3.client('s3')\n",
    "    paginator = s3.get_paginator('list_objects_v2')\n",
    "    parquet_files = []\n",
    "    \n",
    "    for page in paginator.paginate(Bucket=bucket_name, Prefix=folder_path):\n",
    "        for obj in page['Contents']:\n",
    "            if obj['Key'].endswith('.parquet'):\n",
    "                parquet_files.append(obj['Key'])\n",
    "    \n",
    "    return parquet_files"
   ]
  },
  {
   "cell_type": "code",
   "execution_count": null,
   "metadata": {},
   "outputs": [],
   "source": [
    "parquet_files = list_parquet_files(BUCKET_NAME, folder_path=\"data/\")"
   ]
  },
  {
   "cell_type": "code",
   "execution_count": 19,
   "metadata": {},
   "outputs": [],
   "source": [
    "def getDF(college, modifier):\n",
    "    s3_obj_key = f\"data/{college}-{modifier}.parquet\"\n",
    "    df = ouraws.getFromS3(s3_obj_key)"
   ]
  },
  {
   "cell_type": "code",
   "execution_count": 22,
   "metadata": {},
   "outputs": [
    {
     "ename": "FileNotFoundError",
     "evalue": "[Errno 2] No such file or directory: 'data/berkeley-POLARITY.parquet.d944F068'",
     "output_type": "error",
     "traceback": [
      "\u001b[0;31m---------------------------------------------------------------------------\u001b[0m",
      "\u001b[0;31mFileNotFoundError\u001b[0m                         Traceback (most recent call last)",
      "Cell \u001b[0;32mIn[22], line 1\u001b[0m\n\u001b[0;32m----> 1\u001b[0m df \u001b[39m=\u001b[39m getDF(\u001b[39m\"\u001b[39;49m\u001b[39mberkeley\u001b[39;49m\u001b[39m\"\u001b[39;49m, \u001b[39m\"\u001b[39;49m\u001b[39mPOLARITY\u001b[39;49m\u001b[39m\"\u001b[39;49m)\n",
      "Cell \u001b[0;32mIn[19], line 3\u001b[0m, in \u001b[0;36mgetDF\u001b[0;34m(college, modifier)\u001b[0m\n\u001b[1;32m      1\u001b[0m \u001b[39mdef\u001b[39;00m \u001b[39mgetDF\u001b[39m(college, modifier):\n\u001b[1;32m      2\u001b[0m     s3_obj_key \u001b[39m=\u001b[39m \u001b[39mf\u001b[39m\u001b[39m\"\u001b[39m\u001b[39mdata/\u001b[39m\u001b[39m{\u001b[39;00mcollege\u001b[39m}\u001b[39;00m\u001b[39m-\u001b[39m\u001b[39m{\u001b[39;00mmodifier\u001b[39m}\u001b[39;00m\u001b[39m.parquet\u001b[39m\u001b[39m\"\u001b[39m\n\u001b[0;32m----> 3\u001b[0m     df \u001b[39m=\u001b[39m ouraws\u001b[39m.\u001b[39;49mgetFromS3(s3_obj_key)\n",
      "File \u001b[0;32m~/SynologyDrive/research/2023spring/diversity-colleges/notebooks/../src/util/ouraws.py:31\u001b[0m, in \u001b[0;36mgetFromS3\u001b[0;34m(s3object_key)\u001b[0m\n\u001b[1;32m     29\u001b[0m df \u001b[39m=\u001b[39m \u001b[39mNone\u001b[39;00m\n\u001b[1;32m     30\u001b[0m \u001b[39mtry\u001b[39;00m:\n\u001b[0;32m---> 31\u001b[0m     s3\u001b[39m.\u001b[39;49mdownload_file(S3_BUCKET, s3object_key, s3object_key)\n\u001b[1;32m     32\u001b[0m     df \u001b[39m=\u001b[39m pd\u001b[39m.\u001b[39mread_parquet(s3object_key)\n\u001b[1;32m     33\u001b[0m \u001b[39mexcept\u001b[39;00m botocore\u001b[39m.\u001b[39mexceptions\u001b[39m.\u001b[39mClientError \u001b[39mas\u001b[39;00m e:\n",
      "File \u001b[0;32m/Users/anaconda3/envs/collegier/lib/python3.9/site-packages/boto3/s3/inject.py:190\u001b[0m, in \u001b[0;36mdownload_file\u001b[0;34m(self, Bucket, Key, Filename, ExtraArgs, Callback, Config)\u001b[0m\n\u001b[1;32m    155\u001b[0m \u001b[39m\u001b[39m\u001b[39m\"\"\"Download an S3 object to a file.\u001b[39;00m\n\u001b[1;32m    156\u001b[0m \n\u001b[1;32m    157\u001b[0m \u001b[39mUsage::\u001b[39;00m\n\u001b[0;32m   (...)\u001b[0m\n\u001b[1;32m    187\u001b[0m \u001b[39m    transfer.\u001b[39;00m\n\u001b[1;32m    188\u001b[0m \u001b[39m\"\"\"\u001b[39;00m\n\u001b[1;32m    189\u001b[0m \u001b[39mwith\u001b[39;00m S3Transfer(\u001b[39mself\u001b[39m, Config) \u001b[39mas\u001b[39;00m transfer:\n\u001b[0;32m--> 190\u001b[0m     \u001b[39mreturn\u001b[39;00m transfer\u001b[39m.\u001b[39;49mdownload_file(\n\u001b[1;32m    191\u001b[0m         bucket\u001b[39m=\u001b[39;49mBucket,\n\u001b[1;32m    192\u001b[0m         key\u001b[39m=\u001b[39;49mKey,\n\u001b[1;32m    193\u001b[0m         filename\u001b[39m=\u001b[39;49mFilename,\n\u001b[1;32m    194\u001b[0m         extra_args\u001b[39m=\u001b[39;49mExtraArgs,\n\u001b[1;32m    195\u001b[0m         callback\u001b[39m=\u001b[39;49mCallback,\n\u001b[1;32m    196\u001b[0m     )\n",
      "File \u001b[0;32m/Users/anaconda3/envs/collegier/lib/python3.9/site-packages/boto3/s3/transfer.py:326\u001b[0m, in \u001b[0;36mS3Transfer.download_file\u001b[0;34m(self, bucket, key, filename, extra_args, callback)\u001b[0m\n\u001b[1;32m    322\u001b[0m future \u001b[39m=\u001b[39m \u001b[39mself\u001b[39m\u001b[39m.\u001b[39m_manager\u001b[39m.\u001b[39mdownload(\n\u001b[1;32m    323\u001b[0m     bucket, key, filename, extra_args, subscribers\n\u001b[1;32m    324\u001b[0m )\n\u001b[1;32m    325\u001b[0m \u001b[39mtry\u001b[39;00m:\n\u001b[0;32m--> 326\u001b[0m     future\u001b[39m.\u001b[39;49mresult()\n\u001b[1;32m    327\u001b[0m \u001b[39m# This is for backwards compatibility where when retries are\u001b[39;00m\n\u001b[1;32m    328\u001b[0m \u001b[39m# exceeded we need to throw the same error from boto3 instead of\u001b[39;00m\n\u001b[1;32m    329\u001b[0m \u001b[39m# s3transfer's built in RetriesExceededError as current users are\u001b[39;00m\n\u001b[1;32m    330\u001b[0m \u001b[39m# catching the boto3 one instead of the s3transfer exception to do\u001b[39;00m\n\u001b[1;32m    331\u001b[0m \u001b[39m# their own retries.\u001b[39;00m\n\u001b[1;32m    332\u001b[0m \u001b[39mexcept\u001b[39;00m S3TransferRetriesExceededError \u001b[39mas\u001b[39;00m e:\n",
      "File \u001b[0;32m/Users/anaconda3/envs/collegier/lib/python3.9/site-packages/s3transfer/futures.py:103\u001b[0m, in \u001b[0;36mTransferFuture.result\u001b[0;34m(self)\u001b[0m\n\u001b[1;32m     98\u001b[0m \u001b[39mdef\u001b[39;00m \u001b[39mresult\u001b[39m(\u001b[39mself\u001b[39m):\n\u001b[1;32m     99\u001b[0m     \u001b[39mtry\u001b[39;00m:\n\u001b[1;32m    100\u001b[0m         \u001b[39m# Usually the result() method blocks until the transfer is done,\u001b[39;00m\n\u001b[1;32m    101\u001b[0m         \u001b[39m# however if a KeyboardInterrupt is raised we want want to exit\u001b[39;00m\n\u001b[1;32m    102\u001b[0m         \u001b[39m# out of this and propagate the exception.\u001b[39;00m\n\u001b[0;32m--> 103\u001b[0m         \u001b[39mreturn\u001b[39;00m \u001b[39mself\u001b[39;49m\u001b[39m.\u001b[39;49m_coordinator\u001b[39m.\u001b[39;49mresult()\n\u001b[1;32m    104\u001b[0m     \u001b[39mexcept\u001b[39;00m \u001b[39mKeyboardInterrupt\u001b[39;00m \u001b[39mas\u001b[39;00m e:\n\u001b[1;32m    105\u001b[0m         \u001b[39mself\u001b[39m\u001b[39m.\u001b[39mcancel()\n",
      "File \u001b[0;32m/Users/anaconda3/envs/collegier/lib/python3.9/site-packages/s3transfer/futures.py:266\u001b[0m, in \u001b[0;36mTransferCoordinator.result\u001b[0;34m(self)\u001b[0m\n\u001b[1;32m    263\u001b[0m \u001b[39m# Once done waiting, raise an exception if present or return the\u001b[39;00m\n\u001b[1;32m    264\u001b[0m \u001b[39m# final result.\u001b[39;00m\n\u001b[1;32m    265\u001b[0m \u001b[39mif\u001b[39;00m \u001b[39mself\u001b[39m\u001b[39m.\u001b[39m_exception:\n\u001b[0;32m--> 266\u001b[0m     \u001b[39mraise\u001b[39;00m \u001b[39mself\u001b[39m\u001b[39m.\u001b[39m_exception\n\u001b[1;32m    267\u001b[0m \u001b[39mreturn\u001b[39;00m \u001b[39mself\u001b[39m\u001b[39m.\u001b[39m_result\n",
      "File \u001b[0;32m/Users/anaconda3/envs/collegier/lib/python3.9/site-packages/s3transfer/tasks.py:139\u001b[0m, in \u001b[0;36mTask.__call__\u001b[0;34m(self)\u001b[0m\n\u001b[1;32m    135\u001b[0m     \u001b[39m# If the task is not done (really only if some other related\u001b[39;00m\n\u001b[1;32m    136\u001b[0m     \u001b[39m# task to the TransferFuture had failed) then execute the task's\u001b[39;00m\n\u001b[1;32m    137\u001b[0m     \u001b[39m# main() method.\u001b[39;00m\n\u001b[1;32m    138\u001b[0m     \u001b[39mif\u001b[39;00m \u001b[39mnot\u001b[39;00m \u001b[39mself\u001b[39m\u001b[39m.\u001b[39m_transfer_coordinator\u001b[39m.\u001b[39mdone():\n\u001b[0;32m--> 139\u001b[0m         \u001b[39mreturn\u001b[39;00m \u001b[39mself\u001b[39;49m\u001b[39m.\u001b[39;49m_execute_main(kwargs)\n\u001b[1;32m    140\u001b[0m \u001b[39mexcept\u001b[39;00m \u001b[39mException\u001b[39;00m \u001b[39mas\u001b[39;00m e:\n\u001b[1;32m    141\u001b[0m     \u001b[39mself\u001b[39m\u001b[39m.\u001b[39m_log_and_set_exception(e)\n",
      "File \u001b[0;32m/Users/anaconda3/envs/collegier/lib/python3.9/site-packages/s3transfer/tasks.py:162\u001b[0m, in \u001b[0;36mTask._execute_main\u001b[0;34m(self, kwargs)\u001b[0m\n\u001b[1;32m    159\u001b[0m \u001b[39m# Log what is about to be executed.\u001b[39;00m\n\u001b[1;32m    160\u001b[0m logger\u001b[39m.\u001b[39mdebug(\u001b[39mf\u001b[39m\u001b[39m\"\u001b[39m\u001b[39mExecuting task \u001b[39m\u001b[39m{\u001b[39;00m\u001b[39mself\u001b[39m\u001b[39m}\u001b[39;00m\u001b[39m with kwargs \u001b[39m\u001b[39m{\u001b[39;00mkwargs_to_display\u001b[39m}\u001b[39;00m\u001b[39m\"\u001b[39m)\n\u001b[0;32m--> 162\u001b[0m return_value \u001b[39m=\u001b[39m \u001b[39mself\u001b[39;49m\u001b[39m.\u001b[39;49m_main(\u001b[39m*\u001b[39;49m\u001b[39m*\u001b[39;49mkwargs)\n\u001b[1;32m    163\u001b[0m \u001b[39m# If the task is the final task, then set the TransferFuture's\u001b[39;00m\n\u001b[1;32m    164\u001b[0m \u001b[39m# value to the return value from main().\u001b[39;00m\n\u001b[1;32m    165\u001b[0m \u001b[39mif\u001b[39;00m \u001b[39mself\u001b[39m\u001b[39m.\u001b[39m_is_final:\n",
      "File \u001b[0;32m/Users/anaconda3/envs/collegier/lib/python3.9/site-packages/s3transfer/download.py:642\u001b[0m, in \u001b[0;36mIOWriteTask._main\u001b[0;34m(self, fileobj, data, offset)\u001b[0m\n\u001b[1;32m    635\u001b[0m \u001b[39mdef\u001b[39;00m \u001b[39m_main\u001b[39m(\u001b[39mself\u001b[39m, fileobj, data, offset):\n\u001b[1;32m    636\u001b[0m \u001b[39m    \u001b[39m\u001b[39m\"\"\"Pulls off an io queue to write contents to a file\u001b[39;00m\n\u001b[1;32m    637\u001b[0m \n\u001b[1;32m    638\u001b[0m \u001b[39m    :param fileobj: The file handle to write content to\u001b[39;00m\n\u001b[1;32m    639\u001b[0m \u001b[39m    :param data: The data to write\u001b[39;00m\n\u001b[1;32m    640\u001b[0m \u001b[39m    :param offset: The offset to write the data to.\u001b[39;00m\n\u001b[1;32m    641\u001b[0m \u001b[39m    \"\"\"\u001b[39;00m\n\u001b[0;32m--> 642\u001b[0m     fileobj\u001b[39m.\u001b[39;49mseek(offset)\n\u001b[1;32m    643\u001b[0m     fileobj\u001b[39m.\u001b[39mwrite(data)\n",
      "File \u001b[0;32m/Users/anaconda3/envs/collegier/lib/python3.9/site-packages/s3transfer/utils.py:378\u001b[0m, in \u001b[0;36mDeferredOpenFile.seek\u001b[0;34m(self, where, whence)\u001b[0m\n\u001b[1;32m    377\u001b[0m \u001b[39mdef\u001b[39;00m \u001b[39mseek\u001b[39m(\u001b[39mself\u001b[39m, where, whence\u001b[39m=\u001b[39m\u001b[39m0\u001b[39m):\n\u001b[0;32m--> 378\u001b[0m     \u001b[39mself\u001b[39;49m\u001b[39m.\u001b[39;49m_open_if_needed()\n\u001b[1;32m    379\u001b[0m     \u001b[39mself\u001b[39m\u001b[39m.\u001b[39m_fileobj\u001b[39m.\u001b[39mseek(where, whence)\n",
      "File \u001b[0;32m/Users/anaconda3/envs/collegier/lib/python3.9/site-packages/s3transfer/utils.py:361\u001b[0m, in \u001b[0;36mDeferredOpenFile._open_if_needed\u001b[0;34m(self)\u001b[0m\n\u001b[1;32m    359\u001b[0m \u001b[39mdef\u001b[39;00m \u001b[39m_open_if_needed\u001b[39m(\u001b[39mself\u001b[39m):\n\u001b[1;32m    360\u001b[0m     \u001b[39mif\u001b[39;00m \u001b[39mself\u001b[39m\u001b[39m.\u001b[39m_fileobj \u001b[39mis\u001b[39;00m \u001b[39mNone\u001b[39;00m:\n\u001b[0;32m--> 361\u001b[0m         \u001b[39mself\u001b[39m\u001b[39m.\u001b[39m_fileobj \u001b[39m=\u001b[39m \u001b[39mself\u001b[39;49m\u001b[39m.\u001b[39;49m_open_function(\u001b[39mself\u001b[39;49m\u001b[39m.\u001b[39;49m_filename, \u001b[39mself\u001b[39;49m\u001b[39m.\u001b[39;49m_mode)\n\u001b[1;32m    362\u001b[0m         \u001b[39mif\u001b[39;00m \u001b[39mself\u001b[39m\u001b[39m.\u001b[39m_start_byte \u001b[39m!=\u001b[39m \u001b[39m0\u001b[39m:\n\u001b[1;32m    363\u001b[0m             \u001b[39mself\u001b[39m\u001b[39m.\u001b[39m_fileobj\u001b[39m.\u001b[39mseek(\u001b[39mself\u001b[39m\u001b[39m.\u001b[39m_start_byte)\n",
      "File \u001b[0;32m/Users/anaconda3/envs/collegier/lib/python3.9/site-packages/s3transfer/utils.py:272\u001b[0m, in \u001b[0;36mOSUtils.open\u001b[0;34m(self, filename, mode)\u001b[0m\n\u001b[1;32m    271\u001b[0m \u001b[39mdef\u001b[39;00m \u001b[39mopen\u001b[39m(\u001b[39mself\u001b[39m, filename, mode):\n\u001b[0;32m--> 272\u001b[0m     \u001b[39mreturn\u001b[39;00m \u001b[39mopen\u001b[39;49m(filename, mode)\n",
      "\u001b[0;31mFileNotFoundError\u001b[0m: [Errno 2] No such file or directory: 'data/berkeley-POLARITY.parquet.d944F068'"
     ]
    }
   ],
   "source": [
    "df = getDF(\"berkeley\", \"POLARITY\")"
   ]
  },
  {
   "cell_type": "code",
   "execution_count": null,
   "metadata": {},
   "outputs": [],
   "source": [
    "SCHOOL=\"harvard\"\n",
    "SUBJECT=\"opinion\"\n",
    "START_YEAR=2010\n",
    "FINAL_YEAR=2022\n",
    "TOPIC_EMBEDDING_MODEL = \"all-MiniLM-L6-v2\" # alt: \"all-mpnet-base-v2\"\n",
    "DATA_DIR=\"data\"      # should be 'data'\n",
    "OUTPUT_DIR=\"output\"  # should be 'output'"
   ]
  },
  {
   "cell_type": "code",
   "execution_count": null,
   "metadata": {},
   "outputs": [],
   "source": [
    "# NOTE: before loading, we need to be in the \"collegier\" folder\n",
    "\n",
    "S3OBJECT_KEY = f\"{DATA_DIR}/{SCHOOL}-{SUBJECT}-SNAPSHOT.parquet\"\n",
    "df = ouraws.getFromS3(S3OBJECT_KEY)"
   ]
  },
  {
   "cell_type": "code",
   "execution_count": null,
   "metadata": {},
   "outputs": [],
   "source": []
  }
 ],
 "metadata": {
  "kernelspec": {
   "display_name": "collegier",
   "language": "python",
   "name": "python3"
  },
  "language_info": {
   "codemirror_mode": {
    "name": "ipython",
    "version": 3
   },
   "file_extension": ".py",
   "mimetype": "text/x-python",
   "name": "python",
   "nbconvert_exporter": "python",
   "pygments_lexer": "ipython3",
   "version": "3.9.17"
  },
  "orig_nbformat": 4
 },
 "nbformat": 4,
 "nbformat_minor": 2
}
