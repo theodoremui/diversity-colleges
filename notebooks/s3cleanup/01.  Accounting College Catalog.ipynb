{
 "cells": [
  {
   "cell_type": "code",
   "execution_count": 1,
   "metadata": {},
   "outputs": [],
   "source": [
    "import sys\n",
    "import nltk\n",
    "# nltk.download('wordnet')\n",
    "# nltk.download('stopwords')"
   ]
  },
  {
   "cell_type": "code",
   "execution_count": 2,
   "metadata": {},
   "outputs": [],
   "source": [
    "sys.path.append('../../src/util')\n",
    "import ouraws\n",
    "import ourgraphs\n",
    "import textutil"
   ]
  },
  {
   "cell_type": "code",
   "execution_count": 3,
   "metadata": {},
   "outputs": [],
   "source": [
    "BUCKET_NAME = \"collegier\"\n",
    "DATA_DIR = \"data\""
   ]
  },
  {
   "cell_type": "code",
   "execution_count": 4,
   "metadata": {},
   "outputs": [],
   "source": [
    "import boto3\n",
    "\n",
    "def list_parquet_files(bucket_name, folder_path=''):\n",
    "    s3 = boto3.client('s3')\n",
    "    paginator = s3.get_paginator('list_objects_v2')\n",
    "    parquet_files = []\n",
    "    \n",
    "    for page in paginator.paginate(Bucket=bucket_name, Prefix=folder_path):\n",
    "        for obj in page['Contents']:\n",
    "            if obj['Key'].endswith('.parquet'):\n",
    "                parquet_files.append(obj['Key'])\n",
    "    \n",
    "    return parquet_files"
   ]
  },
  {
   "cell_type": "code",
   "execution_count": 5,
   "metadata": {},
   "outputs": [
    {
     "data": {
      "text/plain": [
       "469"
      ]
     },
     "execution_count": 5,
     "metadata": {},
     "output_type": "execute_result"
    }
   ],
   "source": [
    "files = list_parquet_files(bucket_name=BUCKET_NAME, folder_path=DATA_DIR)\n",
    "len(files)"
   ]
  },
  {
   "cell_type": "code",
   "execution_count": 6,
   "metadata": {},
   "outputs": [
    {
     "data": {
      "text/plain": [
       "49"
      ]
     },
     "execution_count": 6,
     "metadata": {},
     "output_type": "execute_result"
    }
   ],
   "source": [
    "toplevelfiles = [d for d in files if not d.startswith('data/data/') and not d.startswith('data/archive')]\n",
    "len(toplevelfiles)"
   ]
  },
  {
   "cell_type": "code",
   "execution_count": 7,
   "metadata": {},
   "outputs": [],
   "source": [
    "import s3fs\n",
    "import pandas as pd\n",
    "\n",
    "def load_parquet_from_s3(bucket, key):\n",
    "    fs = s3fs.S3FileSystem()\n",
    "\n",
    "    # Formulate the full path\n",
    "    path = f\"{bucket}/{key}\"\n",
    "\n",
    "    # Load the file directly into a pandas DataFrame\n",
    "    df = pd.read_parquet(fs.open(path))\n",
    "\n",
    "    return df"
   ]
  },
  {
   "cell_type": "code",
   "execution_count": 8,
   "metadata": {},
   "outputs": [
    {
     "data": {
      "text/plain": [
       "(5713, 6)"
      ]
     },
     "execution_count": 8,
     "metadata": {},
     "output_type": "execute_result"
    }
   ],
   "source": [
    "austin = load_parquet_from_s3(BUCKET_NAME, \"data/austin-opinion-SNAPSHOT.parquet\")\n",
    "austin.shape"
   ]
  },
  {
   "cell_type": "code",
   "execution_count": 9,
   "metadata": {},
   "outputs": [
    {
     "data": {
      "text/html": [
       "<div>\n",
       "<style scoped>\n",
       "    .dataframe tbody tr th:only-of-type {\n",
       "        vertical-align: middle;\n",
       "    }\n",
       "\n",
       "    .dataframe tbody tr th {\n",
       "        vertical-align: top;\n",
       "    }\n",
       "\n",
       "    .dataframe thead th {\n",
       "        text-align: right;\n",
       "    }\n",
       "</style>\n",
       "<table border=\"1\" class=\"dataframe\">\n",
       "  <thead>\n",
       "    <tr style=\"text-align: right;\">\n",
       "      <th></th>\n",
       "      <th>title</th>\n",
       "      <th>url</th>\n",
       "      <th>body</th>\n",
       "      <th>year</th>\n",
       "      <th>month</th>\n",
       "      <th>day</th>\n",
       "    </tr>\n",
       "  </thead>\n",
       "  <tbody>\n",
       "    <tr>\n",
       "      <th>0</th>\n",
       "      <td>\\n\\t\\t\\t\\t\\t\\t\\t\\t\\t\\t\\t\\tThe Texan needs dive...</td>\n",
       "      <td>https://thedailytexan.com/2022/12/02/the-texan...</td>\n",
       "      <td>The Texan needs diverse political perspectives...</td>\n",
       "      <td>2022</td>\n",
       "      <td>12</td>\n",
       "      <td>2</td>\n",
       "    </tr>\n",
       "    <tr>\n",
       "      <th>1</th>\n",
       "      <td>\\n\\t\\t\\t\\t\\t\\t\\t\\t\\t\\t\\t\\tWhat does free speec...</td>\n",
       "      <td>https://thedailytexan.com/2022/12/02/what-does...</td>\n",
       "      <td>What does free speech mean to you?\\nNationwide...</td>\n",
       "      <td>2022</td>\n",
       "      <td>12</td>\n",
       "      <td>2</td>\n",
       "    </tr>\n",
       "    <tr>\n",
       "      <th>2</th>\n",
       "      <td>\\n\\t\\t\\t\\t\\t\\t\\t\\t\\t\\t\\t\\tFree speech has cons...</td>\n",
       "      <td>https://thedailytexan.com/2022/12/02/free-spee...</td>\n",
       "      <td>Free speech has consequences\\nEditor’s note: T...</td>\n",
       "      <td>2022</td>\n",
       "      <td>12</td>\n",
       "      <td>2</td>\n",
       "    </tr>\n",
       "    <tr>\n",
       "      <th>3</th>\n",
       "      <td>\\n\\t\\t\\t\\t\\t\\t\\t\\t\\t\\t\\t\\tLiberum oratio\\t\\t\\t...</td>\n",
       "      <td>https://thedailytexan.com/2022/12/02/liberum-o...</td>\n",
       "      <td>Liberum oratio\\nTo quote the Father of Texas, ...</td>\n",
       "      <td>2022</td>\n",
       "      <td>12</td>\n",
       "      <td>2</td>\n",
       "    </tr>\n",
       "    <tr>\n",
       "      <th>4</th>\n",
       "      <td>\\n\\t\\t\\t\\t\\t\\t\\t\\t\\t\\t\\t\\tWhen to say what is ...</td>\n",
       "      <td>https://thedailytexan.com/2022/12/02/when-to-s...</td>\n",
       "      <td>When to say what is not to be said\\nEditor’s n...</td>\n",
       "      <td>2022</td>\n",
       "      <td>12</td>\n",
       "      <td>2</td>\n",
       "    </tr>\n",
       "  </tbody>\n",
       "</table>\n",
       "</div>"
      ],
      "text/plain": [
       "                                               title  \\\n",
       "0  \\n\\t\\t\\t\\t\\t\\t\\t\\t\\t\\t\\t\\tThe Texan needs dive...   \n",
       "1  \\n\\t\\t\\t\\t\\t\\t\\t\\t\\t\\t\\t\\tWhat does free speec...   \n",
       "2  \\n\\t\\t\\t\\t\\t\\t\\t\\t\\t\\t\\t\\tFree speech has cons...   \n",
       "3  \\n\\t\\t\\t\\t\\t\\t\\t\\t\\t\\t\\t\\tLiberum oratio\\t\\t\\t...   \n",
       "4  \\n\\t\\t\\t\\t\\t\\t\\t\\t\\t\\t\\t\\tWhen to say what is ...   \n",
       "\n",
       "                                                 url  \\\n",
       "0  https://thedailytexan.com/2022/12/02/the-texan...   \n",
       "1  https://thedailytexan.com/2022/12/02/what-does...   \n",
       "2  https://thedailytexan.com/2022/12/02/free-spee...   \n",
       "3  https://thedailytexan.com/2022/12/02/liberum-o...   \n",
       "4  https://thedailytexan.com/2022/12/02/when-to-s...   \n",
       "\n",
       "                                                body  year  month  day  \n",
       "0  The Texan needs diverse political perspectives...  2022     12    2  \n",
       "1  What does free speech mean to you?\\nNationwide...  2022     12    2  \n",
       "2  Free speech has consequences\\nEditor’s note: T...  2022     12    2  \n",
       "3  Liberum oratio\\nTo quote the Father of Texas, ...  2022     12    2  \n",
       "4  When to say what is not to be said\\nEditor’s n...  2022     12    2  "
      ]
     },
     "execution_count": 9,
     "metadata": {},
     "output_type": "execute_result"
    }
   ],
   "source": [
    "austin.head()"
   ]
  },
  {
   "cell_type": "code",
   "execution_count": 10,
   "metadata": {},
   "outputs": [
    {
     "data": {
      "text/plain": [
       "(7, 4)"
      ]
     },
     "execution_count": 10,
     "metadata": {},
     "output_type": "execute_result"
    }
   ],
   "source": [
    "austin_polarity = load_parquet_from_s3(BUCKET_NAME, \"data/austin-POLARITY.parquet\")\n",
    "austin_polarity.shape"
   ]
  },
  {
   "cell_type": "code",
   "execution_count": 11,
   "metadata": {},
   "outputs": [
    {
     "data": {
      "text/html": [
       "<div>\n",
       "<style scoped>\n",
       "    .dataframe tbody tr th:only-of-type {\n",
       "        vertical-align: middle;\n",
       "    }\n",
       "\n",
       "    .dataframe tbody tr th {\n",
       "        vertical-align: top;\n",
       "    }\n",
       "\n",
       "    .dataframe thead th {\n",
       "        text-align: right;\n",
       "    }\n",
       "</style>\n",
       "<table border=\"1\" class=\"dataframe\">\n",
       "  <thead>\n",
       "    <tr style=\"text-align: right;\">\n",
       "      <th></th>\n",
       "      <th>year</th>\n",
       "      <th>article_count</th>\n",
       "      <th>polarity_sum</th>\n",
       "      <th>polarity_avg</th>\n",
       "    </tr>\n",
       "  </thead>\n",
       "  <tbody>\n",
       "    <tr>\n",
       "      <th>0</th>\n",
       "      <td>2010</td>\n",
       "      <td>56</td>\n",
       "      <td>12.761207</td>\n",
       "      <td>0.227879</td>\n",
       "    </tr>\n",
       "    <tr>\n",
       "      <th>1</th>\n",
       "      <td>2011</td>\n",
       "      <td>385</td>\n",
       "      <td>-236.699265</td>\n",
       "      <td>-0.614803</td>\n",
       "    </tr>\n",
       "    <tr>\n",
       "      <th>2</th>\n",
       "      <td>2012</td>\n",
       "      <td>484</td>\n",
       "      <td>-141.983378</td>\n",
       "      <td>-0.293354</td>\n",
       "    </tr>\n",
       "    <tr>\n",
       "      <th>3</th>\n",
       "      <td>2013</td>\n",
       "      <td>514</td>\n",
       "      <td>-937.440895</td>\n",
       "      <td>-1.823815</td>\n",
       "    </tr>\n",
       "    <tr>\n",
       "      <th>4</th>\n",
       "      <td>2014</td>\n",
       "      <td>545</td>\n",
       "      <td>-524.639852</td>\n",
       "      <td>-0.962642</td>\n",
       "    </tr>\n",
       "  </tbody>\n",
       "</table>\n",
       "</div>"
      ],
      "text/plain": [
       "   year  article_count  polarity_sum  polarity_avg\n",
       "0  2010             56     12.761207      0.227879\n",
       "1  2011            385   -236.699265     -0.614803\n",
       "2  2012            484   -141.983378     -0.293354\n",
       "3  2013            514   -937.440895     -1.823815\n",
       "4  2014            545   -524.639852     -0.962642"
      ]
     },
     "execution_count": 11,
     "metadata": {},
     "output_type": "execute_result"
    }
   ],
   "source": [
    "austin_polarity.head()"
   ]
  },
  {
   "cell_type": "code",
   "execution_count": 12,
   "metadata": {},
   "outputs": [
    {
     "data": {
      "text/plain": [
       "(4914, 6)"
      ]
     },
     "execution_count": 12,
     "metadata": {},
     "output_type": "execute_result"
    }
   ],
   "source": [
    "stanford_opinions = load_parquet_from_s3(BUCKET_NAME, \"data/stanford-opinions-SNAPSHOT.parquet\")\n",
    "stanford_opinions.shape"
   ]
  },
  {
   "cell_type": "code",
   "execution_count": 13,
   "metadata": {},
   "outputs": [
    {
     "data": {
      "text/plain": [
       "pandas.core.frame.DataFrame"
      ]
     },
     "execution_count": 13,
     "metadata": {},
     "output_type": "execute_result"
    }
   ],
   "source": [
    "type(stanford_opinions)"
   ]
  },
  {
   "cell_type": "code",
   "execution_count": 14,
   "metadata": {},
   "outputs": [
    {
     "data": {
      "text/plain": [
       "Index(['title', 'url', 'body', 'year', 'month', 'day'], dtype='object')"
      ]
     },
     "execution_count": 14,
     "metadata": {},
     "output_type": "execute_result"
    }
   ],
   "source": [
    "stanford_opinions.columns"
   ]
  },
  {
   "cell_type": "code",
   "execution_count": 15,
   "metadata": {},
   "outputs": [
    {
     "data": {
      "text/html": [
       "<div>\n",
       "<style scoped>\n",
       "    .dataframe tbody tr th:only-of-type {\n",
       "        vertical-align: middle;\n",
       "    }\n",
       "\n",
       "    .dataframe tbody tr th {\n",
       "        vertical-align: top;\n",
       "    }\n",
       "\n",
       "    .dataframe thead th {\n",
       "        text-align: right;\n",
       "    }\n",
       "</style>\n",
       "<table border=\"1\" class=\"dataframe\">\n",
       "  <thead>\n",
       "    <tr style=\"text-align: right;\">\n",
       "      <th></th>\n",
       "      <th>title</th>\n",
       "      <th>url</th>\n",
       "      <th>body</th>\n",
       "      <th>year</th>\n",
       "      <th>month</th>\n",
       "      <th>day</th>\n",
       "    </tr>\n",
       "  </thead>\n",
       "  <tbody>\n",
       "    <tr>\n",
       "      <th>https://stanforddaily.com/2010/12/01/sense-and-nonsense-making-the-dream-a-reality/</th>\n",
       "      <td>Sense and Nonsense: Making the DREAM a Reality</td>\n",
       "      <td>https://stanforddaily.com/2010/12/01/sense-and...</td>\n",
       "      <td>Sense and Nonsense: Making the DREAM a Reality...</td>\n",
       "      <td>2010</td>\n",
       "      <td>12</td>\n",
       "      <td>1</td>\n",
       "    </tr>\n",
       "    <tr>\n",
       "      <th>https://stanforddaily.com/2010/12/01/the-transitive-property-the-best-birthday-present-ever/</th>\n",
       "      <td>The Transitive Property: The Best Birthday Pre...</td>\n",
       "      <td>https://stanforddaily.com/2010/12/01/the-trans...</td>\n",
       "      <td>The Transitive Property: The Best Birthday Pre...</td>\n",
       "      <td>2010</td>\n",
       "      <td>12</td>\n",
       "      <td>1</td>\n",
       "    </tr>\n",
       "  </tbody>\n",
       "</table>\n",
       "</div>"
      ],
      "text/plain": [
       "                                                                                                title  \\\n",
       "https://stanforddaily.com/2010/12/01/sense-and-...     Sense and Nonsense: Making the DREAM a Reality   \n",
       "https://stanforddaily.com/2010/12/01/the-transi...  The Transitive Property: The Best Birthday Pre...   \n",
       "\n",
       "                                                                                                  url  \\\n",
       "https://stanforddaily.com/2010/12/01/sense-and-...  https://stanforddaily.com/2010/12/01/sense-and...   \n",
       "https://stanforddaily.com/2010/12/01/the-transi...  https://stanforddaily.com/2010/12/01/the-trans...   \n",
       "\n",
       "                                                                                                 body  \\\n",
       "https://stanforddaily.com/2010/12/01/sense-and-...  Sense and Nonsense: Making the DREAM a Reality...   \n",
       "https://stanforddaily.com/2010/12/01/the-transi...  The Transitive Property: The Best Birthday Pre...   \n",
       "\n",
       "                                                    year  month  day  \n",
       "https://stanforddaily.com/2010/12/01/sense-and-...  2010     12    1  \n",
       "https://stanforddaily.com/2010/12/01/the-transi...  2010     12    1  "
      ]
     },
     "execution_count": 15,
     "metadata": {},
     "output_type": "execute_result"
    }
   ],
   "source": [
    "stanford_opinions.head(2)"
   ]
  },
  {
   "cell_type": "code",
   "execution_count": 16,
   "metadata": {},
   "outputs": [
    {
     "data": {
      "text/plain": [
       "year\n",
       "2010    506\n",
       "2011    482\n",
       "2012    457\n",
       "2014    455\n",
       "2015    447\n",
       "2017    427\n",
       "2016    408\n",
       "2020    379\n",
       "2018    367\n",
       "2013    340\n",
       "2019    328\n",
       "2021    187\n",
       "2022    131\n",
       "Name: count, dtype: int64"
      ]
     },
     "execution_count": 16,
     "metadata": {},
     "output_type": "execute_result"
    }
   ],
   "source": [
    "stanford_opinions['year'].value_counts()"
   ]
  },
  {
   "cell_type": "code",
   "execution_count": null,
   "metadata": {},
   "outputs": [],
   "source": []
  }
 ],
 "metadata": {
  "kernelspec": {
   "display_name": "collegier",
   "language": "python",
   "name": "python3"
  },
  "language_info": {
   "codemirror_mode": {
    "name": "ipython",
    "version": 3
   },
   "file_extension": ".py",
   "mimetype": "text/x-python",
   "name": "python",
   "nbconvert_exporter": "python",
   "pygments_lexer": "ipython3",
   "version": "3.9.17"
  },
  "orig_nbformat": 4
 },
 "nbformat": 4,
 "nbformat_minor": 2
}
