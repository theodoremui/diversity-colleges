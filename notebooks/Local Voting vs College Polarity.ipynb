{
 "cells": [
  {
   "cell_type": "markdown",
   "metadata": {},
   "source": [
    "County Voting Data From https://dataverse.harvard.edu/dataset.xhtml?persistentId=doi%3A10.7910%2FDVN%2FVOQCHQ"
   ]
  },
  {
   "cell_type": "code",
   "execution_count": 11,
   "metadata": {},
   "outputs": [],
   "source": [
    "# Input Information\n",
    "YEAR = 2020\n",
    "AVERAGE = False # True if you want to average the polarity since the last election"
   ]
  },
  {
   "cell_type": "code",
   "execution_count": 12,
   "metadata": {},
   "outputs": [],
   "source": [
    "# Imports\n",
    "import numpy as np\n",
    "import pandas as pd\n",
    "import matplotlib.pyplot as plt\n",
    "import statsmodels.api as sm"
   ]
  },
  {
   "cell_type": "code",
   "execution_count": 13,
   "metadata": {},
   "outputs": [],
   "source": [
    "# Read CSV Files\n",
    "df = pd.read_csv('../data/College Records - college-counties-2020.csv')\n",
    "cvd = pd.read_csv('../data/countypres_2000-2020.csv')"
   ]
  },
  {
   "cell_type": "code",
   "execution_count": 14,
   "metadata": {},
   "outputs": [],
   "source": [
    "# Clean input data to remove nulls and reset index\n",
    "df = df.dropna()\n",
    "df.reset_index(drop=True, inplace=True)"
   ]
  },
  {
   "cell_type": "code",
   "execution_count": 15,
   "metadata": {},
   "outputs": [],
   "source": [
    "# Merge liberal and conservative votes in County Voting Data\n",
    "cvd = cvd[cvd['party']!=\"OTHER\"]\n",
    "cvd = cvd.reset_index(drop=True)\n",
    "PARTY_REPLACEMENTS = {\"LIBERAL\": [\"DEMOCRAT\", \"GREEN\"], \"CONSERVATIVE\": [\"REPUBLICAN\", \"LIBERTARIAN\"]}\n",
    "for party, replacements in PARTY_REPLACEMENTS.items():\n",
    "    cvd.loc[cvd['party'].isin(replacements), 'party'] = party\n",
    "grouped = cvd.groupby(['year','state','county_name', 'party', 'totalvotes'], as_index=False)\n",
    "cvd = grouped.agg({'candidatevotes':'sum'})\n",
    "cvd.dropna(inplace=True)"
   ]
  },
  {
   "cell_type": "code",
   "execution_count": 16,
   "metadata": {},
   "outputs": [],
   "source": [
    "# Calculate county scores\n",
    "liberal_percents = []\n",
    "conservative_percents = []\n",
    "for i in range(len(df)):\n",
    "    county = df.iloc[i]['County'].upper()\n",
    "    state = df.iloc[i]['State'].upper()\n",
    "    # Get the total votes and candidate votes for liberals and conservatives in cvd using the county, state, and year\n",
    "    county = df.iloc[i]['County'].upper()\n",
    "    state = df.iloc[i]['State'].upper()\n",
    "    liberal_votes = cvd[(cvd['county_name']==county) & (cvd['state']==state) & (cvd['year']==YEAR) & (cvd['party']=='LIBERAL')]['candidatevotes'].sum()\n",
    "    conservative_votes = cvd[(cvd['county_name']==county) & (cvd['state']==state) & (cvd['year']==YEAR) & (cvd['party']=='CONSERVATIVE')]['candidatevotes'].sum()\n",
    "    total_votes = cvd[(cvd['county_name']==county) & (cvd['state']==state) & (cvd['year']==YEAR) & (cvd['party']=='LIBERAL')]['totalvotes'].sum()\n",
    "    liberal_percent = liberal_votes / total_votes\n",
    "    conservative_percent = conservative_votes / total_votes\n",
    "    liberal_percents.append(liberal_percent)\n",
    "    conservative_percents.append(conservative_percent)\n",
    "df[\"Liberal Percents\"] = liberal_percents\n",
    "df[\"Conservative Percents\"] = conservative_percents"
   ]
  },
  {
   "cell_type": "code",
   "execution_count": 17,
   "metadata": {},
   "outputs": [],
   "source": [
    "plot_df = pd.DataFrame(columns=[\"College Score\", \"Liberal Percent\"])\n",
    "if AVERAGE: \n",
    "    # Average Data for 4 years\n",
    "    for row in df.iterrows():\n",
    "        scores = [row[1][str(i)] for i in range(YEAR-4, YEAR)]\n",
    "        average = np.mean(scores)\n",
    "        plot_df.loc[len(plot_df)] = [average, row[1][\"Liberal Percents\"]]\n",
    "else:\n",
    "    for row in df.iterrows():\n",
    "        plot_df.loc[len(plot_df)] = [row[1][str(YEAR)], row[1][\"Liberal Percents\"]]"
   ]
  },
  {
   "cell_type": "code",
   "execution_count": 18,
   "metadata": {},
   "outputs": [
    {
     "data": {
      "text/plain": [
       "<matplotlib.collections.PathCollection at 0x2321bc2ad90>"
      ]
     },
     "execution_count": 18,
     "metadata": {},
     "output_type": "execute_result"
    },
    {
     "data": {
      "image/png": "[encoded data removed]",
      "text/plain": [
       "<Figure size 640x480 with 1 Axes>"
      ]
     },
     "metadata": {},
     "output_type": "display_data"
    }
   ],
   "source": [
    "# Plot Data\n",
    "x = plot_df[\"College Score\"]\n",
    "y = plot_df[\"Liberal Percent\"]\n",
    "plt.scatter(x, y)"
   ]
  },
  {
   "cell_type": "code",
   "execution_count": 19,
   "metadata": {},
   "outputs": [
    {
     "data": {
      "text/html": [
       "<table class=\"simpletable\">\n",
       "<caption>OLS Regression Results</caption>\n",
       "<tr>\n",
       "  <th>Dep. Variable:</th>     <td>Liberal Percent</td> <th>  R-squared:         </th> <td>   0.282</td>\n",
       "</tr>\n",
       "<tr>\n",
       "  <th>Model:</th>                   <td>OLS</td>       <th>  Adj. R-squared:    </th> <td>   0.254</td>\n",
       "</tr>\n",
       "<tr>\n",
       "  <th>Method:</th>             <td>Least Squares</td>  <th>  F-statistic:       </th> <td>   10.19</td>\n",
       "</tr>\n",
       "<tr>\n",
       "  <th>Date:</th>             <td>Sun, 16 Jul 2023</td> <th>  Prob (F-statistic):</th>  <td>0.00367</td>\n",
       "</tr>\n",
       "<tr>\n",
       "  <th>Time:</th>                 <td>20:14:46</td>     <th>  Log-Likelihood:    </th> <td>  20.263</td>\n",
       "</tr>\n",
       "<tr>\n",
       "  <th>No. Observations:</th>      <td>    28</td>      <th>  AIC:               </th> <td>  -36.53</td>\n",
       "</tr>\n",
       "<tr>\n",
       "  <th>Df Residuals:</th>          <td>    26</td>      <th>  BIC:               </th> <td>  -33.86</td>\n",
       "</tr>\n",
       "<tr>\n",
       "  <th>Df Model:</th>              <td>     1</td>      <th>                     </th>     <td> </td>   \n",
       "</tr>\n",
       "<tr>\n",
       "  <th>Covariance Type:</th>      <td>nonrobust</td>    <th>                     </th>     <td> </td>   \n",
       "</tr>\n",
       "</table>\n",
       "<table class=\"simpletable\">\n",
       "<tr>\n",
       "        <td></td>           <th>coef</th>     <th>std err</th>      <th>t</th>      <th>P>|t|</th>  <th>[0.025</th>    <th>0.975]</th>  \n",
       "</tr>\n",
       "<tr>\n",
       "  <th>const</th>         <td>    0.5357</td> <td>    0.039</td> <td>   13.667</td> <td> 0.000</td> <td>    0.455</td> <td>    0.616</td>\n",
       "</tr>\n",
       "<tr>\n",
       "  <th>College Score</th> <td>   -0.0259</td> <td>    0.008</td> <td>   -3.192</td> <td> 0.004</td> <td>   -0.043</td> <td>   -0.009</td>\n",
       "</tr>\n",
       "</table>\n",
       "<table class=\"simpletable\">\n",
       "<tr>\n",
       "  <th>Omnibus:</th>       <td> 8.530</td> <th>  Durbin-Watson:     </th> <td>   1.642</td>\n",
       "</tr>\n",
       "<tr>\n",
       "  <th>Prob(Omnibus):</th> <td> 0.014</td> <th>  Jarque-Bera (JB):  </th> <td>   7.163</td>\n",
       "</tr>\n",
       "<tr>\n",
       "  <th>Skew:</th>          <td>-0.883</td> <th>  Prob(JB):          </th> <td>  0.0278</td>\n",
       "</tr>\n",
       "<tr>\n",
       "  <th>Kurtosis:</th>      <td> 4.738</td> <th>  Cond. No.          </th> <td>    8.45</td>\n",
       "</tr>\n",
       "</table><br/><br/>Notes:<br/>[1] Standard Errors assume that the covariance matrix of the errors is correctly specified."
      ],
      "text/latex": [
       "\\begin{center}\n",
       "\\begin{tabular}{lclc}\n",
       "\\toprule\n",
       "\\textbf{Dep. Variable:}    & Liberal Percent  & \\textbf{  R-squared:         } &     0.282   \\\\\n",
       "\\textbf{Model:}            &       OLS        & \\textbf{  Adj. R-squared:    } &     0.254   \\\\\n",
       "\\textbf{Method:}           &  Least Squares   & \\textbf{  F-statistic:       } &     10.19   \\\\\n",
       "\\textbf{Date:}             & Sun, 16 Jul 2023 & \\textbf{  Prob (F-statistic):} &  0.00367    \\\\\n",
       "\\textbf{Time:}             &     20:14:46     & \\textbf{  Log-Likelihood:    } &    20.263   \\\\\n",
       "\\textbf{No. Observations:} &          28      & \\textbf{  AIC:               } &    -36.53   \\\\\n",
       "\\textbf{Df Residuals:}     &          26      & \\textbf{  BIC:               } &    -33.86   \\\\\n",
       "\\textbf{Df Model:}         &           1      & \\textbf{                     } &             \\\\\n",
       "\\textbf{Covariance Type:}  &    nonrobust     & \\textbf{                     } &             \\\\\n",
       "\\bottomrule\n",
       "\\end{tabular}\n",
       "\\begin{tabular}{lcccccc}\n",
       "                       & \\textbf{coef} & \\textbf{std err} & \\textbf{t} & \\textbf{P$> |$t$|$} & \\textbf{[0.025} & \\textbf{0.975]}  \\\\\n",
       "\\midrule\n",
       "\\textbf{const}         &       0.5357  &        0.039     &    13.667  &         0.000        &        0.455    &        0.616     \\\\\n",
       "\\textbf{College Score} &      -0.0259  &        0.008     &    -3.192  &         0.004        &       -0.043    &       -0.009     \\\\\n",
       "\\bottomrule\n",
       "\\end{tabular}\n",
       "\\begin{tabular}{lclc}\n",
       "\\textbf{Omnibus:}       &  8.530 & \\textbf{  Durbin-Watson:     } &    1.642  \\\\\n",
       "\\textbf{Prob(Omnibus):} &  0.014 & \\textbf{  Jarque-Bera (JB):  } &    7.163  \\\\\n",
       "\\textbf{Skew:}          & -0.883 & \\textbf{  Prob(JB):          } &   0.0278  \\\\\n",
       "\\textbf{Kurtosis:}      &  4.738 & \\textbf{  Cond. No.          } &     8.45  \\\\\n",
       "\\bottomrule\n",
       "\\end{tabular}\n",
       "%\\caption{OLS Regression Results}\n",
       "\\end{center}\n",
       "\n",
       "Notes: \\newline\n",
       " [1] Standard Errors assume that the covariance matrix of the errors is correctly specified."
      ],
      "text/plain": [
       "<class 'statsmodels.iolib.summary.Summary'>\n",
       "\"\"\"\n",
       "                            OLS Regression Results                            \n",
       "==============================================================================\n",
       "Dep. Variable:        Liberal Percent   R-squared:                       0.282\n",
       "Model:                            OLS   Adj. R-squared:                  0.254\n",
       "Method:                 Least Squares   F-statistic:                     10.19\n",
       "Date:                Sun, 16 Jul 2023   Prob (F-statistic):            0.00367\n",
       "Time:                        20:14:46   Log-Likelihood:                 20.263\n",
       "No. Observations:                  28   AIC:                            -36.53\n",
       "Df Residuals:                      26   BIC:                            -33.86\n",
       "Df Model:                           1                                         \n",
       "Covariance Type:            nonrobust                                         \n",
       "=================================================================================\n",
       "                    coef    std err          t      P>|t|      [0.025      0.975]\n",
       "---------------------------------------------------------------------------------\n",
       "const             0.5357      0.039     13.667      0.000       0.455       0.616\n",
       "College Score    -0.0259      0.008     -3.192      0.004      -0.043      -0.009\n",
       "==============================================================================\n",
       "Omnibus:                        8.530   Durbin-Watson:                   1.642\n",
       "Prob(Omnibus):                  0.014   Jarque-Bera (JB):                7.163\n",
       "Skew:                          -0.883   Prob(JB):                       0.0278\n",
       "Kurtosis:                       4.738   Cond. No.                         8.45\n",
       "==============================================================================\n",
       "\n",
       "Notes:\n",
       "[1] Standard Errors assume that the covariance matrix of the errors is correctly specified.\n",
       "\"\"\""
      ]
     },
     "execution_count": 19,
     "metadata": {},
     "output_type": "execute_result"
    }
   ],
   "source": [
    "# Data scoring\n",
    "x = plot_df[['College Score']]\n",
    "y = plot_df['Liberal Percent']\n",
    "x = sm.add_constant(x)\n",
    "model = sm.OLS(y, x).fit()\n",
    "model.summary()"
   ]
  }
 ],
 "metadata": {
  "kernelspec": {
   "display_name": "Python 3",
   "language": "python",
   "name": "python3"
  },
  "language_info": {
   "codemirror_mode": {
    "name": "ipython",
    "version": 3
   },
   "file_extension": ".py",
   "mimetype": "text/x-python",
   "name": "python",
   "nbconvert_exporter": "python",
   "pygments_lexer": "ipython3",
   "version": "3.11.4"
  },
  "orig_nbformat": 4
 },
 "nbformat": 4,
 "nbformat_minor": 2
}
