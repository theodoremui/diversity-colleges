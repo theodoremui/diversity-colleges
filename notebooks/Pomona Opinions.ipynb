{
 "cells": [
  {
   "cell_type": "code",
   "execution_count": 1,
   "id": "0dfc0e88-caba-4cc4-ab18-d6f37826e86f",
   "metadata": {},
   "outputs": [],
   "source": [
    "SCHOOL=\"dartmouth\"\n",
    "SUBJECT=\"opinion\"\n",
    "START_YEAR=2010\n",
    "FINAL_YEAR=2022\n",
    "TOPIC_EMBEDDING_MODEL = \"all-MiniLM-L6-v2\" # alt: \"all-mpnet-base-v2\"\n",
    "DATA_DIR=\"data\"      # should be 'data'\n",
    "OUTPUT_DIR=\"output\"  # should be 'output'"
   ]
  },
  {
   "cell_type": "code",
   "execution_count": 13,
   "id": "c10312ed-6c31-40d9-b748-a2cd43a46df7",
   "metadata": {},
   "outputs": [],
   "source": [
    "import sys\n",
    "sys.path.append('src')\n",
    "import ouraws\n",
    "import nltk\n",
    "import ourgraphs\n",
    "import textutil"
   ]
  },
  {
   "cell_type": "code",
   "execution_count": 5,
   "id": "64e437cd-643e-4bca-9589-41a29e37bcc9",
   "metadata": {},
   "outputs": [
    {
     "data": {
      "text/plain": [
       "'/Users/anishka/Documents/GitHub/diversity-colleges/src'"
      ]
     },
     "execution_count": 5,
     "metadata": {},
     "output_type": "execute_result"
    }
   ],
   "source": [
    "%pwd"
   ]
  },
  {
   "cell_type": "code",
   "execution_count": 8,
   "id": "16070d6a-520d-4e9a-9b01-26ad1ae60be1",
   "metadata": {},
   "outputs": [],
   "source": [
    "df = pd.read_parquet(\"data/pomona-opinions-SNAPSHOT.parquet\")"
   ]
  },
  {
   "cell_type": "code",
   "execution_count": 9,
   "id": "3bba7a75-1eb3-4a13-8baa-53827d7119e4",
   "metadata": {},
   "outputs": [
    {
     "data": {
      "text/plain": [
       "(1718, 6)"
      ]
     },
     "execution_count": 9,
     "metadata": {},
     "output_type": "execute_result"
    }
   ],
   "source": [
    "df.shape"
   ]
  },
  {
   "cell_type": "code",
   "execution_count": 10,
   "id": "2b9bf327-d6d2-4c41-a77e-a69a83f40a16",
   "metadata": {},
   "outputs": [
    {
     "data": {
      "text/plain": [
       "array([2023, 2022, 2021, 2020, 2019, 2018, 2017, 2016, 2015, 2014, 2013,\n",
       "       2012, 2011, 2010])"
      ]
     },
     "execution_count": 10,
     "metadata": {},
     "output_type": "execute_result"
    }
   ],
   "source": [
    "df[\"year\"].unique()"
   ]
  },
  {
   "cell_type": "code",
   "execution_count": 14,
   "id": "63ea5aea-ba23-4a79-98ca-debf346e2f23",
   "metadata": {},
   "outputs": [],
   "source": [
    "RESULTS_OUTPUT = f\"{OUTPUT_DIR}/{SCHOOL}-{SUBJECT}-diversity-results.parquet\""
   ]
  },
  {
   "cell_type": "code",
   "execution_count": 15,
   "id": "570decb8-bb5e-4a24-a12d-8c2899627136",
   "metadata": {},
   "outputs": [],
   "source": [
    "import requests\n",
    "import os\n",
    "\n",
    "BIPARTISAN_API_KEY = \"gAAAAABeVpQJKRM5BqPX91XW2AKfz8pJosk182maAweJcm5ORAkkBFj__d2feG4H5KIeOKFyhUVSY_uGImiaSBCwy2L6nWxx4g==\"\n",
    "BIPARTISAN_URL = \"https://api.thebipartisanpress.com/api/endpoints/beta/robert\""
   ]
  },
  {
   "cell_type": "code",
   "execution_count": 16,
   "id": "fdc9bb03-c6a5-4057-a9b1-afdc0c7bf5cb",
   "metadata": {},
   "outputs": [
    {
     "name": "stdout",
     "output_type": "stream",
     "text": [
      "-1.489565\n"
     ]
    }
   ],
   "source": [
    "df2022 = df[df['year'] == 2022]\n",
    "\n",
    "articles_list = df2022['body'].to_list()\n",
    "for article in articles_list:\n",
    "    payload = {\"API\": BIPARTISAN_API_KEY, \"Text\": article.encode(\"utf-8\")}\n",
    "    response = requests.post(BIPARTISAN_URL, data=payload)\n",
    "    print(response.text)\n",
    "    break"
   ]
  },
  {
   "cell_type": "code",
   "execution_count": 17,
   "id": "3baea7ff-1d1d-4261-853f-83276cdee2bf",
   "metadata": {},
   "outputs": [
    {
     "name": "stdout",
     "output_type": "stream",
     "text": [
      "Year: 2010 ... 131\n",
      "2010\t131\t-110.812606\t-0.8458977557251909\n",
      "Year: 2011 ... 125\n",
      "2011\t125\t-392.36253500000004\t-3.13890028\n",
      "Year: 2012 ... 133\n",
      "2012\t133\t-424.74822999999986\t-3.1935957142857134\n",
      "Year: 2013 ... 165\n",
      "2013\t165\t-588.8014300000001\t-3.568493515151516\n",
      "Year: 2014 ... 150\n",
      "2014\t150\t-406.43686799999995\t-2.7095791199999995\n",
      "Year: 2015 ... 125\n",
      "2015\t125\t-550.1876749999999\t-4.401501399999999\n",
      "Year: 2016 ... 125\n",
      "2016\t125\t-740.9412189999995\t-5.927529751999995\n",
      "Year: 2017 ... 113\n",
      "2017\t113\t-964.5114180000003\t-8.535499274336285\n",
      "Year: 2018 ... 120\n",
      "2018\t120\t-1018.052546\t-8.483771216666666\n",
      "Year: 2019 ... 151\n",
      "2019\t151\t-888.0072990000006\t-5.880843039735103\n",
      "Year: 2020 ... 127\n",
      "2020\t127\t-899.9752460000003\t-7.086419259842522\n",
      "Year: 2021 ... 132\n",
      "2021\t132\t-893.8355670000001\t-6.771481568181819\n",
      "Year: 2022 ... 116\n",
      "2022\t116\t-650.7396160000001\t-5.60982427586207\n"
     ]
    }
   ],
   "source": [
    "\n",
    "results = []\n",
    "\n",
    "for year in range(2010, 2023):\n",
    "    df2 = df[df['year'] == year]\n",
    "    print(f\"Year: {year} ... {df2.shape[0]}\")\n",
    "\n",
    "    articles_list = df2['body'].to_list()\n",
    "    value_sum = 0.0\n",
    "    article_count = 0\n",
    "    for article in articles_list:\n",
    "        payload = {\"API\": BIPARTISAN_API_KEY, \"Text\": article.encode(\"utf-8\")}\n",
    "        response = requests.post(BIPARTISAN_URL, data=payload)\n",
    "        try:\n",
    "            value_sum += float(response.text)\n",
    "            article_count += 1\n",
    "            # print(f\"{article_count}\", end=\".\")\n",
    "        except:\n",
    "            pass  # this is a non-number\n",
    "        \n",
    "    results.append({\n",
    "        'year' : year,\n",
    "        'article_count' : article_count,\n",
    "        'polarity_sum' : value_sum,\n",
    "        'polarity_avg' : float(value_sum) / article_count\n",
    "    })\n",
    "\n",
    "    print(f\"{year}\\t{article_count}\\t{value_sum}\\t{value_sum/article_count}\")"
   ]
  },
  {
   "cell_type": "code",
   "execution_count": 18,
   "id": "f4fead2c-7f6c-42ee-a366-6d54fa41f524",
   "metadata": {},
   "outputs": [],
   "source": [
    "import pandas as pd\n",
    "\n",
    "RESULTS_FILE = f\"{DATA_DIR}/{SCHOOL}-POLARITY.parquet\"\n",
    "\n",
    "results_df = pd.DataFrame.from_records(results)\n",
    "results_df.to_parquet(RESULTS_FILE)"
   ]
  },
  {
   "cell_type": "code",
   "execution_count": null,
   "id": "41e2ed8b-7f5e-4b56-b488-2da13af26e3a",
   "metadata": {},
   "outputs": [],
   "source": []
  }
 ],
 "metadata": {
  "kernelspec": {
   "display_name": "Python 3 (ipykernel)",
   "language": "python",
   "name": "python3"
  },
  "language_info": {
   "codemirror_mode": {
    "name": "ipython",
    "version": 3
   },
   "file_extension": ".py",
   "mimetype": "text/x-python",
   "name": "python",
   "nbconvert_exporter": "python",
   "pygments_lexer": "ipython3",
   "version": "3.9.6"
  }
 },
 "nbformat": 4,
 "nbformat_minor": 5
}
