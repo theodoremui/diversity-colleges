{
 "cells": [
  {
   "cell_type": "code",
   "execution_count": 66,
   "id": "5385328e-5547-4628-ae4e-f51c8752fd57",
   "metadata": {},
   "outputs": [],
   "source": [
    "SCHOOL=\"hampton\"\n",
    "SUBJECT=\"opinion\"\n",
    "START_YEAR=2016\n",
    "FINAL_YEAR=2020\n",
    "DATA_DIR=\"data\"      # should be 'data'\n",
    "OUTPUT_DIR=\"output\""
   ]
  },
  {
   "cell_type": "code",
   "execution_count": 67,
   "id": "48477c66-c862-4ac1-b544-e6259513c7ad",
   "metadata": {},
   "outputs": [
    {
     "name": "stdout",
     "output_type": "stream",
     "text": [
      "[Errno 2] No such file or directory: 'data'\n",
      "/Users/anishka/Desktop/asdrp/mui/diversity-colleges/diversity-colleges/src/data\n"
     ]
    }
   ],
   "source": [
    "%cd data"
   ]
  },
  {
   "cell_type": "code",
   "execution_count": 68,
   "id": "25e66816-96c4-44e8-9fa5-73599fb3b55c",
   "metadata": {},
   "outputs": [],
   "source": [
    "import sys\n",
    "sys.path.append('src')\n",
    "import ouraws\n",
    "import ourgraphs\n",
    "#import textutil"
   ]
  },
  {
   "cell_type": "code",
   "execution_count": 69,
   "id": "a8ae3521-2f67-42f9-906d-0c63975cb443",
   "metadata": {},
   "outputs": [],
   "source": [
    "df = pd.read_parquet(\"hampton-opinions-SNAPSHOT.parquet\")"
   ]
  },
  {
   "cell_type": "code",
   "execution_count": 70,
   "id": "c46071d7-f568-46c0-bb2f-d7fd42020157",
   "metadata": {},
   "outputs": [
    {
     "data": {
      "text/plain": [
       "(294, 6)"
      ]
     },
     "execution_count": 70,
     "metadata": {},
     "output_type": "execute_result"
    }
   ],
   "source": [
    "df.shape"
   ]
  },
  {
   "cell_type": "code",
   "execution_count": 71,
   "id": "8989107e-dc44-4841-9412-fea3baf13550",
   "metadata": {},
   "outputs": [],
   "source": [
    "import requests\n",
    "import os\n",
    "\n",
    "BIPARTISAN_API_KEY = os.environ.get(\"BIPARTISAN_API\")\n",
    "BIPARTISAN_URL = \"https://api.thebipartisanpress.com/api/endpoints/beta/robert\""
   ]
  },
  {
   "cell_type": "code",
   "execution_count": 72,
   "id": "6cb9db23-b1af-4ba0-889a-ade4fb075059",
   "metadata": {},
   "outputs": [
    {
     "name": "stdout",
     "output_type": "stream",
     "text": [
      "-0.474716\n"
     ]
    }
   ],
   "source": [
    "df2022 = df[df['year'] == 2022]\n",
    "\n",
    "articles_list = df2022['body'].to_list()\n",
    "for article in articles_list:\n",
    "    payload = {\"API\": BIPARTISAN_API_KEY, \"Text\": article.encode(\"utf-8\")}\n",
    "    response = requests.post(BIPARTISAN_URL, data=payload)\n",
    "    print(response.text)\n",
    "    break"
   ]
  },
  {
   "cell_type": "code",
   "execution_count": 73,
   "id": "b7b0eca5-6156-4aac-8185-89afe9b59a16",
   "metadata": {},
   "outputs": [
    {
     "data": {
      "text/plain": [
       "array([2022, 2021, 2020, 2019, 2018, 2017, 2016, 2015])"
      ]
     },
     "execution_count": 73,
     "metadata": {},
     "output_type": "execute_result"
    }
   ],
   "source": [
    "df['year'].unique()"
   ]
  },
  {
   "cell_type": "code",
   "execution_count": 74,
   "id": "50bbf02d-9f21-4c01-9cf4-391491a18923",
   "metadata": {},
   "outputs": [
    {
     "name": "stdout",
     "output_type": "stream",
     "text": [
      "Year: 2019 ... 34\n",
      "2019\t34\t-87.31096000000002\t-2.5679694117647065\n"
     ]
    }
   ],
   "source": [
    "results = []\n",
    "\n",
    "for year in range(START_YEAR, FINAL_YEAR):\n",
    "    df2 = df[df['year'] == year]\n",
    "    print(f\"Year: {year} ... {df2.shape[0]}\")\n",
    "\n",
    "    articles_list = df2['body'].to_list()\n",
    "    value_sum = 0.0\n",
    "    article_count = 0\n",
    "    for article in articles_list:\n",
    "        payload = {\"API\": BIPARTISAN_API_KEY, \"Text\": article.encode(\"utf-8\")}\n",
    "        response = requests.post(BIPARTISAN_URL, data=payload)\n",
    "        try:\n",
    "            value_sum += float(response.text)\n",
    "            article_count += 1\n",
    "            # print(f\"{article_count}\", end=\".\")\n",
    "        except:\n",
    "            pass  # this is a non-number\n",
    "        \n",
    "    results.append({\n",
    "        'year' : year,\n",
    "        'article_count' : article_count,\n",
    "        'polarity_sum' : value_sum,\n",
    "        'polarity_avg' : float(value_sum) / article_count\n",
    "    })\n",
    "\n",
    "    print(f\"{year}\\t{article_count}\\t{value_sum}\\t{value_sum/article_count}\")"
   ]
  }
 ],
 "metadata": {
  "kernelspec": {
   "display_name": "Python 3 (ipykernel)",
   "language": "python",
   "name": "python3"
  },
  "language_info": {
   "codemirror_mode": {
    "name": "ipython",
    "version": 3
   },
   "file_extension": ".py",
   "mimetype": "text/x-python",
   "name": "python",
   "nbconvert_exporter": "python",
   "pygments_lexer": "ipython3",
   "version": "3.9.6"
  }
 },
 "nbformat": 4,
 "nbformat_minor": 5
}
