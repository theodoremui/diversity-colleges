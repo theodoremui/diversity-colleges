{
 "cells": [
  {
   "attachments": {},
   "cell_type": "markdown",
   "metadata": {},
   "source": [
    "# Politics in Swarthmore"
   ]
  },
  {
   "cell_type": "code",
   "execution_count": 7,
   "metadata": {},
   "outputs": [],
   "source": [
    "SCHOOL=\"swarthmore\"\n",
    "SUBJECT=\"opinions\"\n",
    "START_YEAR=2010\n",
    "FINAL_YEAR=2022\n",
    "DATA_DIR=\"data\"      # should be 'data'\n",
    "OUTPUT_DIR=\"output\"  # should be 'output'"
   ]
  },
  {
   "cell_type": "code",
   "execution_count": 2,
   "metadata": {},
   "outputs": [
    {
     "data": {
      "text/plain": [
       "'/Users/theodoremui/Library/CloudStorage/OneDrive-Personal/dev/diversity-colleges/notebooks'"
      ]
     },
     "execution_count": 2,
     "metadata": {},
     "output_type": "execute_result"
    }
   ],
   "source": [
    "%pwd"
   ]
  },
  {
   "cell_type": "code",
   "execution_count": 3,
   "metadata": {},
   "outputs": [
    {
     "name": "stdout",
     "output_type": "stream",
     "text": [
      "/Users/theodoremui/Library/CloudStorage/OneDrive-Personal/dev/diversity-colleges\n"
     ]
    }
   ],
   "source": [
    "%cd .."
   ]
  },
  {
   "cell_type": "code",
   "execution_count": 4,
   "metadata": {},
   "outputs": [],
   "source": [
    "import sys\n",
    "sys.path.append('src')\n",
    "import ouraws\n",
    "import ourgraphs\n",
    "import textutil"
   ]
  },
  {
   "cell_type": "code",
   "execution_count": 8,
   "metadata": {},
   "outputs": [],
   "source": [
    "# NOTE: before loading, we need to be in the \"diversity-colleges\" folder\n",
    "\n",
    "S3OBJECT_KEY = f\"{DATA_DIR}/{SCHOOL}-{SUBJECT}-SNAPSHOT.parquet\"\n",
    "df = ouraws.getFromS3(S3OBJECT_KEY)"
   ]
  },
  {
   "cell_type": "code",
   "execution_count": 9,
   "metadata": {},
   "outputs": [
    {
     "data": {
      "text/plain": [
       "(2064, 6)"
      ]
     },
     "execution_count": 9,
     "metadata": {},
     "output_type": "execute_result"
    }
   ],
   "source": [
    "df.shape"
   ]
  },
  {
   "cell_type": "code",
   "execution_count": 10,
   "metadata": {},
   "outputs": [
    {
     "data": {
      "text/html": [
       "<div>\n",
       "<style scoped>\n",
       "    .dataframe tbody tr th:only-of-type {\n",
       "        vertical-align: middle;\n",
       "    }\n",
       "\n",
       "    .dataframe tbody tr th {\n",
       "        vertical-align: top;\n",
       "    }\n",
       "\n",
       "    .dataframe thead th {\n",
       "        text-align: right;\n",
       "    }\n",
       "</style>\n",
       "<table border=\"1\" class=\"dataframe\">\n",
       "  <thead>\n",
       "    <tr style=\"text-align: right;\">\n",
       "      <th></th>\n",
       "      <th>title</th>\n",
       "      <th>url</th>\n",
       "      <th>body</th>\n",
       "      <th>year</th>\n",
       "      <th>month</th>\n",
       "      <th>day</th>\n",
       "    </tr>\n",
       "  </thead>\n",
       "  <tbody>\n",
       "    <tr>\n",
       "      <th>49</th>\n",
       "      <td>The Anti-War Left Should Stop Westplaining</td>\n",
       "      <td>https://swarthmorephoenix.com/2022/03/17/the-a...</td>\n",
       "      <td>The full-scale Russian invasion of Ukraine has...</td>\n",
       "      <td>2022</td>\n",
       "      <td>3</td>\n",
       "      <td>17</td>\n",
       "    </tr>\n",
       "    <tr>\n",
       "      <th>50</th>\n",
       "      <td>The Anti-War Left Should Stop Westplaining</td>\n",
       "      <td>https://swarthmorephoenix.com/2022/03/17/the-a...</td>\n",
       "      <td>The full-scale Russian invasion of Ukraine has...</td>\n",
       "      <td>2022</td>\n",
       "      <td>3</td>\n",
       "      <td>17</td>\n",
       "    </tr>\n",
       "  </tbody>\n",
       "</table>\n",
       "</div>"
      ],
      "text/plain": [
       "                                         title  \\\n",
       "49  The Anti-War Left Should Stop Westplaining   \n",
       "50  The Anti-War Left Should Stop Westplaining   \n",
       "\n",
       "                                                  url  \\\n",
       "49  https://swarthmorephoenix.com/2022/03/17/the-a...   \n",
       "50  https://swarthmorephoenix.com/2022/03/17/the-a...   \n",
       "\n",
       "                                                 body  year  month  day  \n",
       "49  The full-scale Russian invasion of Ukraine has...  2022      3   17  \n",
       "50  The full-scale Russian invasion of Ukraine has...  2022      3   17  "
      ]
     },
     "execution_count": 10,
     "metadata": {},
     "output_type": "execute_result"
    }
   ],
   "source": [
    "df.head(2)"
   ]
  },
  {
   "cell_type": "code",
   "execution_count": 15,
   "metadata": {},
   "outputs": [],
   "source": [
    "import requests\n",
    "import os\n",
    "\n",
    "BIPARTISAN_API_KEY = os.environ.get(\"BIPARTISAN_API_KEY\")\n",
    "\n",
    "BIPARTISAN_URL = \"https://api.thebipartisanpress.com/api/endpoints/beta/robert\""
   ]
  },
  {
   "cell_type": "code",
   "execution_count": 16,
   "metadata": {},
   "outputs": [
    {
     "data": {
      "text/plain": [
       "'gAAAAABeVpQJKRM5BqPX91XW2AKfz8pJosk182maAweJcm5ORAkkBFj__d2feG4H5KIeOKFyhUVSY_uGImiaSBCwy2L6nWxx4g=='"
      ]
     },
     "execution_count": 16,
     "metadata": {},
     "output_type": "execute_result"
    }
   ],
   "source": [
    "BIPARTISAN_API_KEY"
   ]
  },
  {
   "cell_type": "code",
   "execution_count": 17,
   "metadata": {},
   "outputs": [
    {
     "name": "stdout",
     "output_type": "stream",
     "text": [
      "-20.633898\n"
     ]
    }
   ],
   "source": [
    "df2022 = df[df['year'] == 2022]\n",
    "\n",
    "articles_list = df2022['body'].to_list()\n",
    "for article in articles_list:\n",
    "    payload = {\"API\": BIPARTISAN_API_KEY, \"Text\": article.encode(\"utf-8\")}\n",
    "    response = requests.post(BIPARTISAN_URL, data=payload)\n",
    "    print(response.text)\n",
    "    break"
   ]
  },
  {
   "cell_type": "code",
   "execution_count": 18,
   "metadata": {},
   "outputs": [
    {
     "data": {
      "text/plain": [
       "array([2022, 2021, 2020, 2019, 2018, 2017, 2016, 2015, 2014, 2013, 2012,\n",
       "       2011, 2010, 2009, 2008, 2007, 2006, 2005])"
      ]
     },
     "execution_count": 18,
     "metadata": {},
     "output_type": "execute_result"
    }
   ],
   "source": [
    "df['year'].unique()"
   ]
  },
  {
   "cell_type": "code",
   "execution_count": 19,
   "metadata": {},
   "outputs": [
    {
     "name": "stdout",
     "output_type": "stream",
     "text": [
      "Year: 2010 ... 69\n",
      "2010\t69\t96.992445\t1.4056876086956522\n",
      "Year: 2011 ... 134\n",
      "2011\t131\t-59.835691000000004\t-0.45676100000000003\n",
      "Year: 2012 ... 264\n",
      "2012\t261\t-202.996644\t-0.7777649195402299\n",
      "Year: 2013 ... 203\n",
      "2013\t200\t-428.4380890000002\t-2.142190445000001\n",
      "Year: 2014 ... 186\n",
      "2014\t176\t-610.5524769999997\t-3.4690481647727256\n",
      "Year: 2015 ... 208\n"
     ]
    }
   ],
   "source": [
    "# SYNCHRONOUS METHOD : TAKES A LONG TIME\n",
    "\n",
    "results = []\n",
    "\n",
    "for year in range(2010, 2023):\n",
    "    df2 = df[df['year'] == year]\n",
    "    print(f\"Year: {year} ... {df2.shape[0]}\")\n",
    "\n",
    "    articles_list = df2['body'].to_list()\n",
    "    value_sum = 0.0\n",
    "    article_count = 0\n",
    "    for article in articles_list:\n",
    "        payload = {\"API\": BIPARTISAN_API_KEY, \"Text\": article.encode(\"utf-8\")}\n",
    "        response = requests.post(BIPARTISAN_URL, data=payload)\n",
    "        try:\n",
    "            value_sum += float(response.text)\n",
    "            article_count += 1\n",
    "            # print(f\"{article_count}\", end=\".\")\n",
    "        except:\n",
    "            pass  # this is a non-number\n",
    "        \n",
    "    results.append({\n",
    "        'year' : year,\n",
    "        'article_count' : article_count,\n",
    "        'polarity_sum' : value_sum,\n",
    "        'polarity_avg' : float(value_sum) / article_count\n",
    "    })\n",
    "\n",
    "    print(f\"{year}\\t{article_count}\\t{value_sum}\\t{value_sum/article_count}\")\n",
    "# for each year, get all articles' bodies & send to bipartisan press API \n",
    "#    and sum up the values & output the average for each year"
   ]
  },
  {
   "cell_type": "code",
   "execution_count": null,
   "metadata": {},
   "outputs": [],
   "source": [
    "import pandas as pd\n",
    "\n",
    "RESULTS_FILE = f\"{DATA_DIR}/{SCHOOL}-POLARITY.parquet\"\n",
    "\n",
    "results_df = pd.DataFrame.from_records(results)\n",
    "results_df.to_parquet(RESULTS_FILE)"
   ]
  },
  {
   "cell_type": "code",
   "execution_count": null,
   "metadata": {},
   "outputs": [],
   "source": []
  }
 ],
 "metadata": {
  "kernelspec": {
   "display_name": "Python 3 (ipykernel)",
   "language": "python",
   "name": "python3"
  },
  "language_info": {
   "codemirror_mode": {
    "name": "ipython",
    "version": 3
   },
   "file_extension": ".py",
   "mimetype": "text/x-python",
   "name": "python",
   "nbconvert_exporter": "python",
   "pygments_lexer": "ipython3",
   "version": "3.8.3"
  },
  "vscode": {
   "interpreter": {
    "hash": "c21ac38248faf28f2c9521adbe733be2f0389d69400e829bbbab439e1682721f"
   }
  }
 },
 "nbformat": 4,
 "nbformat_minor": 2
}
