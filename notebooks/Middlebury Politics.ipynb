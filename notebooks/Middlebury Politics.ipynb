{
 "cells": [
  {
   "cell_type": "code",
   "execution_count": 1,
   "id": "930be867",
   "metadata": {},
   "outputs": [],
   "source": [
    "SCHOOL=\"middlebury\"\n",
    "SUBJECT=\"opinion\"\n",
    "START_YEAR=2005\n",
    "FINAL_YEAR=2022\n",
    "DATA_DIR=\"data\"\n",
    "OUTPUT_DIR=\"output\""
   ]
  },
  {
   "cell_type": "code",
   "execution_count": 2,
   "id": "e5682587",
   "metadata": {},
   "outputs": [
    {
     "data": {
      "text/plain": [
       "'/Users/angela/diversity-colleges/notebooks'"
      ]
     },
     "execution_count": 2,
     "metadata": {},
     "output_type": "execute_result"
    }
   ],
   "source": [
    "%pwd"
   ]
  },
  {
   "cell_type": "code",
   "execution_count": 3,
   "id": "067c2b9a",
   "metadata": {},
   "outputs": [
    {
     "name": "stdout",
     "output_type": "stream",
     "text": [
      "/Users/angela/diversity-colleges\n"
     ]
    }
   ],
   "source": [
    "cd .."
   ]
  },
  {
   "cell_type": "code",
   "execution_count": 4,
   "id": "36a7663f",
   "metadata": {},
   "outputs": [],
   "source": [
    "import sys\n",
    "sys.path.append('src')\n",
    "import ouraws\n",
    "import ourgraphs\n",
    "import textutil"
   ]
  },
  {
   "cell_type": "code",
   "execution_count": 5,
   "id": "296145dd",
   "metadata": {},
   "outputs": [],
   "source": [
    "S3OBJECT_KEY = f\"{DATA_DIR}/{SCHOOL}-{SUBJECT}-SNAPSHOT.parquet\"\n",
    "df = ouraws.getFromS3(S3OBJECT_KEY)"
   ]
  },
  {
   "cell_type": "code",
   "execution_count": 6,
   "id": "add867cd",
   "metadata": {},
   "outputs": [
    {
     "data": {
      "text/plain": [
       "(2984, 4)"
      ]
     },
     "execution_count": 6,
     "metadata": {},
     "output_type": "execute_result"
    }
   ],
   "source": [
    "df.shape"
   ]
  },
  {
   "cell_type": "code",
   "execution_count": 7,
   "id": "5893b5d0",
   "metadata": {},
   "outputs": [
    {
     "data": {
      "text/html": [
       "<div>\n",
       "<style scoped>\n",
       "    .dataframe tbody tr th:only-of-type {\n",
       "        vertical-align: middle;\n",
       "    }\n",
       "\n",
       "    .dataframe tbody tr th {\n",
       "        vertical-align: top;\n",
       "    }\n",
       "\n",
       "    .dataframe thead th {\n",
       "        text-align: right;\n",
       "    }\n",
       "</style>\n",
       "<table border=\"1\" class=\"dataframe\">\n",
       "  <thead>\n",
       "    <tr style=\"text-align: right;\">\n",
       "      <th></th>\n",
       "      <th>url</th>\n",
       "      <th>body</th>\n",
       "      <th>year</th>\n",
       "      <th>month</th>\n",
       "    </tr>\n",
       "  </thead>\n",
       "  <tbody>\n",
       "    <tr>\n",
       "      <th>0</th>\n",
       "      <td>https://www.middleburycampus.com/article/2022/...</td>\n",
       "      <td>\\nIn a couple of weeks, the last class who has...</td>\n",
       "      <td>2022</td>\n",
       "      <td>5</td>\n",
       "    </tr>\n",
       "    <tr>\n",
       "      <th>1</th>\n",
       "      <td>https://www.middleburycampus.com/article/2023/...</td>\n",
       "      <td>\\nDeep breath. I turn on my phone and go to op...</td>\n",
       "      <td>2023</td>\n",
       "      <td>1</td>\n",
       "    </tr>\n",
       "  </tbody>\n",
       "</table>\n",
       "</div>"
      ],
      "text/plain": [
       "                                                 url  \\\n",
       "0  https://www.middleburycampus.com/article/2022/...   \n",
       "1  https://www.middleburycampus.com/article/2023/...   \n",
       "\n",
       "                                                body  year  month  \n",
       "0  \\nIn a couple of weeks, the last class who has...  2022      5  \n",
       "1  \\nDeep breath. I turn on my phone and go to op...  2023      1  "
      ]
     },
     "execution_count": 7,
     "metadata": {},
     "output_type": "execute_result"
    }
   ],
   "source": [
    "df.head(2)"
   ]
  },
  {
   "cell_type": "code",
   "execution_count": 8,
   "id": "1b4ac43e",
   "metadata": {},
   "outputs": [],
   "source": [
    "import requests\n",
    "import os\n",
    "\n",
    "BIPARTISAN_API_KEY = os.environ.get(\"BIPARTISAN_API\")\n",
    "\n",
    "BIPARTISAN_URL = \"https://api.thebipartisanpress.com/api/endpoints/beta/robert\""
   ]
  },
  {
   "cell_type": "code",
   "execution_count": 9,
   "id": "009eeb02",
   "metadata": {},
   "outputs": [
    {
     "name": "stdout",
     "output_type": "stream",
     "text": [
      "-8.093837\n"
     ]
    }
   ],
   "source": [
    "df2022 = df[df['year'] == 2022]\n",
    "\n",
    "articles_list = df2022['body'].to_list()\n",
    "for article in articles_list:\n",
    "    payload = {\"API\": BIPARTISAN_API_KEY, \"Text\": article.encode(\"utf-8\")}\n",
    "    response = requests.post(BIPARTISAN_URL, data=payload)\n",
    "    print(response.text)\n",
    "    break"
   ]
  },
  {
   "cell_type": "code",
   "execution_count": 10,
   "id": "5120e75c",
   "metadata": {},
   "outputs": [
    {
     "data": {
      "text/plain": [
       "array([2022, 2023, 2021, 2020, 2019, 2018, 2017, 2016, 2015, 2014, 2013,\n",
       "       2012, 2011, 2010, 2009, 2008, 2007, 2006, 2005, 2003, 2002, 2001])"
      ]
     },
     "execution_count": 10,
     "metadata": {},
     "output_type": "execute_result"
    }
   ],
   "source": [
    "df['year'].unique()"
   ]
  },
  {
   "cell_type": "code",
   "execution_count": 12,
   "id": "13fb5377",
   "metadata": {},
   "outputs": [],
   "source": [
    "import pandas as pd\n",
    "\n",
    "RESULTS_FILE = f\"{DATA_DIR}/{SCHOOL}-POLARITY.parquet\""
   ]
  },
  {
   "cell_type": "code",
   "execution_count": 13,
   "id": "bcfc6f7d",
   "metadata": {},
   "outputs": [
    {
     "name": "stdout",
     "output_type": "stream",
     "text": [
      "Year: 2009 ... 131\n",
      "2009\t128\t-20.810897999999977\t-0.16258514062499982\n",
      "Year: 2010 ... 165\n",
      "2010\t162\t-207.32845200000008\t-1.2798052592592597\n",
      "Year: 2011 ... 107\n",
      "2011\t106\t-139.906407\t-1.3198717641509434\n",
      "Year: 2012 ... 103\n",
      "2012\t101\t-380.83983500000005\t-3.770691435643565\n",
      "Year: 2013 ... 213\n",
      "2013\t208\t-849.4407909999995\t-4.083849956730767\n",
      "Year: 2014 ... 175\n",
      "2014\t171\t-510.7054840000001\t-2.9865817777777783\n",
      "Year: 2015 ... 174\n",
      "2015\t161\t-490.61999000000003\t-3.047329130434783\n",
      "Year: 2016 ... 59\n",
      "2016\t59\t-420.466812\t-7.12655613559322\n",
      "Year: 2017 ... 126\n",
      "2017\t114\t-749.7635340000002\t-6.576873105263159\n",
      "Year: 2018 ... 153\n",
      "2018\t150\t-883.6915749999993\t-5.8912771666666615\n",
      "Year: 2019 ... 173\n",
      "2019\t172\t-855.2545630000001\t-4.97241025\n",
      "Year: 2020 ... 155\n",
      "2020\t155\t-1197.4211870000004\t-7.725297980645164\n",
      "Year: 2021 ... 78\n",
      "2021\t78\t-542.8265010000001\t-6.9593141153846165\n",
      "Year: 2022 ... 76\n",
      "2022\t75\t-500.7877909999999\t-6.677170546666665\n"
     ]
    }
   ],
   "source": [
    "import asyncio\n",
    "\n",
    "results = []\n",
    "\n",
    "for year in range(2009, 2023):\n",
    "    df2 = df[df['year'] == year]\n",
    "    print(f\"Year: {year} ... {df2.shape[0]}\")\n",
    "\n",
    "    articles_list = df2['body'].to_list()\n",
    "    value_sum = 0.0\n",
    "    article_count = 0\n",
    "    for article in articles_list:\n",
    "        payload = {\"API\": BIPARTISAN_API_KEY, \"Text\": article.encode(\"utf-8\")}\n",
    "        response = requests.post(BIPARTISAN_URL, data=payload)\n",
    "        try:\n",
    "            value_sum += float(response.text)\n",
    "            article_count += 1\n",
    "            # print(f\"{article_count}\", end=\".\")\n",
    "        except:\n",
    "            pass  # this is a non-number\n",
    "        \n",
    "    results.append({\n",
    "        'year' : year,\n",
    "        'article_count' : article_count,\n",
    "        'polarity_sum' : value_sum,\n",
    "        'polarity_avg' : float(value_sum) / article_count\n",
    "    })\n",
    "\n",
    "    print(f\"{year}\\t{article_count}\\t{value_sum}\\t{value_sum/article_count}\")\n",
    "# for each year, get all articles' bodies & send to bipartisan press API \n",
    "#    and sum up the values & output the average for each year"
   ]
  },
  {
   "cell_type": "code",
   "execution_count": 14,
   "id": "713fb25a",
   "metadata": {},
   "outputs": [],
   "source": [
    "results_df = pd.DataFrame.from_records(results)\n",
    "results_df.to_parquet(RESULTS_FILE)"
   ]
  },
  {
   "cell_type": "code",
   "execution_count": null,
   "id": "2c22083c",
   "metadata": {},
   "outputs": [],
   "source": []
  }
 ],
 "metadata": {
  "kernelspec": {
   "display_name": "Python 3 (ipykernel)",
   "language": "python",
   "name": "python3"
  },
  "language_info": {
   "codemirror_mode": {
    "name": "ipython",
    "version": 3
   },
   "file_extension": ".py",
   "mimetype": "text/x-python",
   "name": "python",
   "nbconvert_exporter": "python",
   "pygments_lexer": "ipython3",
   "version": "3.10.9"
  }
 },
 "nbformat": 4,
 "nbformat_minor": 5
}
