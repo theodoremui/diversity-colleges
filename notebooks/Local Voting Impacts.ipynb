{
 "cells": [
  {
   "cell_type": "markdown",
   "metadata": {},
   "source": [
    "County Voting Data From https://dataverse.harvard.edu/dataset.xhtml?persistentId=doi%3A10.7910%2FDVN%2FVOQCHQ"
   ]
  },
  {
   "cell_type": "code",
   "execution_count": 1,
   "metadata": {},
   "outputs": [],
   "source": [
    "# Imports\n",
    "import numpy as np\n",
    "import pandas as pd"
   ]
  },
  {
   "cell_type": "code",
   "execution_count": 2,
   "metadata": {},
   "outputs": [],
   "source": [
    "# Read CSV Files\n",
    "df = pd.read_csv('../data/College Records - college-counties.csv')\n",
    "cvd = pd.read_csv('../data/countypres_2000-2020.csv')"
   ]
  },
  {
   "cell_type": "code",
   "execution_count": 3,
   "metadata": {},
   "outputs": [],
   "source": [
    "# Clean input data to remove nulls and reset index\n",
    "df = df.dropna()\n",
    "df.reset_index(drop=True, inplace=True)"
   ]
  },
  {
   "cell_type": "code",
   "execution_count": 4,
   "metadata": {},
   "outputs": [],
   "source": [
    "# Merge liberal and conservative votes in County Votng Data\n",
    "cvd = cvd[cvd['party']!=\"OTHER\"]\n",
    "cvd = cvd.reset_index(drop=True)\n",
    "PARTY_REPLACEMENTS = {\"LIBERAL\": [\"DEMOCRAT\", \"GREEN\"], \"CONSERVATIVE\": [\"REPUBLICAN\", \"LIBERTARIAN\"]}\n",
    "for party, replacements in PARTY_REPLACEMENTS.items():\n",
    "    cvd.loc[cvd['party'].isin(replacements), 'party'] = party\n",
    "grouped = cvd.groupby(['year','state','county_name', 'party'], as_index=False)\n",
    "cvd = grouped.agg({'candidatevotes':'sum'})\n",
    "del grouped, PARTY_REPLACEMENTS, party, replacements"
   ]
  },
  {
   "cell_type": "code",
   "execution_count": null,
   "metadata": {},
   "outputs": [],
   "source": []
  },
  {
   "cell_type": "code",
   "execution_count": 14,
   "metadata": {},
   "outputs": [
    {
     "data": {
      "text/plain": [
       "{2012: -2.83853125, 2016: -6.76952775}"
      ]
     },
     "execution_count": 14,
     "metadata": {},
     "output_type": "execute_result"
    }
   ],
   "source": [
    "COLLEGE = \"Harvard\"\n",
    "college_row = df.loc[df['College'] == COLLEGE]\n",
    "college_row = college_row.reset_index(drop=True)\n",
    "# Average scores for each election cycle\n",
    "START_YEAR = 2012\n",
    "END_YEAR = 2020\n",
    "# Average the scores for the next 4 years\n",
    "averages = {}\n",
    "total = 0\n",
    "for i in range(START_YEAR, END_YEAR+1):\n",
    "    if i % 4 == 0 and i != START_YEAR:\n",
    "        averages[i-4] = total/4\n",
    "    total += college_row[str(i)][0]\n",
    "county = college_row['County'][0].upper()\n",
    "county_data = cvd.loc[(cvd['county_name']==county)]\n",
    "county_data.reset_index(drop=True, inplace=True)\n",
    "averages"
   ]
  }
 ],
 "metadata": {
  "kernelspec": {
   "display_name": "Python 3",
   "language": "python",
   "name": "python3"
  },
  "language_info": {
   "codemirror_mode": {
    "name": "ipython",
    "version": 3
   },
   "file_extension": ".py",
   "mimetype": "text/x-python",
   "name": "python",
   "nbconvert_exporter": "python",
   "pygments_lexer": "ipython3",
   "version": "3.11.4"
  },
  "orig_nbformat": 4
 },
 "nbformat": 4,
 "nbformat_minor": 2
}
