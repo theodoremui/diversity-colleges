{
 "cells": [
  {
   "cell_type": "markdown",
   "metadata": {},
   "source": [
    "County Voting Data From https://dataverse.harvard.edu/dataset.xhtml?persistentId=doi%3A10.7910%2FDVN%2FVOQCHQ"
   ]
  },
  {
   "cell_type": "code",
   "execution_count": 1,
   "metadata": {},
   "outputs": [],
   "source": [
    "# Input Information\n",
    "COLLEGE = \"Harvard\"\n",
    "START_YEAR = 2012\n",
    "END_YEAR = 2020"
   ]
  },
  {
   "cell_type": "code",
   "execution_count": 17,
   "metadata": {},
   "outputs": [],
   "source": [
    "# Imports\n",
    "import numpy as np\n",
    "import pandas as pd\n",
    "import matplotlib.pyplot as plt\n",
    "import statsmodels.api as sm"
   ]
  },
  {
   "cell_type": "code",
   "execution_count": 3,
   "metadata": {},
   "outputs": [],
   "source": [
    "# Read CSV Files\n",
    "df = pd.read_csv('../data/College Records - college-counties.csv')\n",
    "cvd = pd.read_csv('../data/countypres_2000-2020.csv')"
   ]
  },
  {
   "cell_type": "code",
   "execution_count": 4,
   "metadata": {},
   "outputs": [],
   "source": [
    "# Clean input data to remove nulls and reset index\n",
    "df = df.dropna()\n",
    "df.reset_index(drop=True, inplace=True)"
   ]
  },
  {
   "cell_type": "code",
   "execution_count": 5,
   "metadata": {},
   "outputs": [],
   "source": [
    "# Merge liberal and conservative votes in County Votng Data\n",
    "cvd = cvd[cvd['party']!=\"OTHER\"]\n",
    "cvd = cvd.reset_index(drop=True)\n",
    "PARTY_REPLACEMENTS = {\"LIBERAL\": [\"DEMOCRAT\", \"GREEN\"], \"CONSERVATIVE\": [\"REPUBLICAN\", \"LIBERTARIAN\"]}\n",
    "for party, replacements in PARTY_REPLACEMENTS.items():\n",
    "    cvd.loc[cvd['party'].isin(replacements), 'party'] = party\n",
    "grouped = cvd.groupby(['year','state','county_name', 'party', 'totalvotes'], as_index=False)\n",
    "cvd = grouped.agg({'candidatevotes':'sum'})"
   ]
  },
  {
   "cell_type": "code",
   "execution_count": 6,
   "metadata": {},
   "outputs": [],
   "source": [
    "college_row = df.loc[df['College'] == COLLEGE]\n",
    "college_row = college_row.reset_index(drop=True)\n",
    "# Average scores for each election cycle\n",
    "years = []\n",
    "polarity_scores = {}\n",
    "total = 0\n",
    "for i in range(START_YEAR, END_YEAR+1):\n",
    "    if i % 4 == 0 and i != START_YEAR:\n",
    "        polarity_scores[i] = total/4\n",
    "        years.append(i)\n",
    "        total = 0\n",
    "    total += college_row[str(i)][0]"
   ]
  },
  {
   "cell_type": "code",
   "execution_count": 7,
   "metadata": {},
   "outputs": [],
   "source": [
    "# Get county data for college\n",
    "county = college_row['County'][0].upper()\n",
    "state = college_row['State'][0].upper()\n",
    "cvd.reset_index(drop=True, inplace=True)\n",
    "county_data = cvd.loc[(cvd['county_name'] == county) & (cvd['state'] == state)]\n",
    "county_data.reset_index(drop=True, inplace=True)\n",
    "county_data = county_data[county_data['year'].isin(range(START_YEAR+4, END_YEAR+1, 4))]\n",
    "county_data.reset_index(drop=True, inplace=True)"
   ]
  },
  {
   "cell_type": "code",
   "execution_count": 8,
   "metadata": {},
   "outputs": [],
   "source": [
    "percents_liberal = {}\n",
    "percents_conservative = {}\n",
    "for row in county_data.iterrows():\n",
    "    if row[1]['party'] == \"LIBERAL\":\n",
    "        percents_liberal[row[1]['year']] = row[1]['candidatevotes']/row[1]['totalvotes']\n",
    "    elif row[1]['party'] == \"CONSERVATIVE\":\n",
    "        percents_conservative[row[1]['year']] = row[1]['candidatevotes']/row[1]['totalvotes']"
   ]
  },
  {
   "cell_type": "code",
   "execution_count": 9,
   "metadata": {},
   "outputs": [],
   "source": [
    "plot_df = pd.DataFrame(columns=['Year', 'Liberal Vote Percent', 'Conservative Vote Percent', 'Polarity Score'])\n",
    "for year in years:\n",
    "    plot_df.loc[len(plot_df.index)] = [\n",
    "        year,\n",
    "        percents_liberal[year], \n",
    "        percents_conservative[year], \n",
    "        polarity_scores[year]\n",
    "    ]"
   ]
  },
  {
   "cell_type": "code",
   "execution_count": 10,
   "metadata": {},
   "outputs": [
    {
     "data": {
      "text/plain": [
       "<Axes: xlabel='Polarity Score', ylabel='Liberal Vote Percent'>"
      ]
     },
     "execution_count": 10,
     "metadata": {},
     "output_type": "execute_result"
    },
    {
     "data": {
      "image/png": "[encoded data removed]",
      "text/plain": [
       "<Figure size 640x480 with 1 Axes>"
      ]
     },
     "metadata": {},
     "output_type": "display_data"
    }
   ],
   "source": [
    "# Plot\n",
    "plot_df.plot.scatter(x=\"Polarity Score\", y=\"Liberal Vote Percent\")"
   ]
  },
  {
   "cell_type": "code",
   "execution_count": 19,
   "metadata": {},
   "outputs": [
    {
     "name": "stderr",
     "output_type": "stream",
     "text": [
      "d:\\ASDRP\\diversity-colleges\\.venv\\Lib\\site-packages\\statsmodels\\stats\\stattools.py:74: ValueWarning: omni_normtest is not valid with less than 8 observations; 2 samples were given.\n",
      "  warn(\"omni_normtest is not valid with less than 8 observations; %i \"\n",
      "d:\\ASDRP\\diversity-colleges\\.venv\\Lib\\site-packages\\statsmodels\\regression\\linear_model.py:1794: RuntimeWarning: divide by zero encountered in divide\n",
      "  return 1 - (np.divide(self.nobs - self.k_constant, self.df_resid)\n",
      "d:\\ASDRP\\diversity-colleges\\.venv\\Lib\\site-packages\\statsmodels\\regression\\linear_model.py:1794: RuntimeWarning: invalid value encountered in scalar multiply\n",
      "  return 1 - (np.divide(self.nobs - self.k_constant, self.df_resid)\n",
      "d:\\ASDRP\\diversity-colleges\\.venv\\Lib\\site-packages\\statsmodels\\regression\\linear_model.py:1716: RuntimeWarning: divide by zero encountered in scalar divide\n",
      "  return np.dot(wresid, wresid) / self.df_resid\n"
     ]
    },
    {
     "data": {
      "text/html": [
       "<table class=\"simpletable\">\n",
       "<caption>OLS Regression Results</caption>\n",
       "<tr>\n",
       "  <th>Dep. Variable:</th>    <td>Liberal Vote Percent</td> <th>  R-squared:         </th> <td>   1.000</td>\n",
       "</tr>\n",
       "<tr>\n",
       "  <th>Model:</th>                     <td>OLS</td>         <th>  Adj. R-squared:    </th> <td>     nan</td>\n",
       "</tr>\n",
       "<tr>\n",
       "  <th>Method:</th>               <td>Least Squares</td>    <th>  F-statistic:       </th> <td>     nan</td>\n",
       "</tr>\n",
       "<tr>\n",
       "  <th>Date:</th>               <td>Sun, 16 Jul 2023</td>   <th>  Prob (F-statistic):</th>  <td>   nan</td> \n",
       "</tr>\n",
       "<tr>\n",
       "  <th>Time:</th>                   <td>17:30:55</td>       <th>  Log-Likelihood:    </th> <td>  67.803</td>\n",
       "</tr>\n",
       "<tr>\n",
       "  <th>No. Observations:</th>        <td>     2</td>        <th>  AIC:               </th> <td>  -131.6</td>\n",
       "</tr>\n",
       "<tr>\n",
       "  <th>Df Residuals:</th>            <td>     0</td>        <th>  BIC:               </th> <td>  -134.2</td>\n",
       "</tr>\n",
       "<tr>\n",
       "  <th>Df Model:</th>                <td>     1</td>        <th>                     </th>     <td> </td>   \n",
       "</tr>\n",
       "<tr>\n",
       "  <th>Covariance Type:</th>        <td>nonrobust</td>      <th>                     </th>     <td> </td>   \n",
       "</tr>\n",
       "</table>\n",
       "<table class=\"simpletable\">\n",
       "<tr>\n",
       "         <td></td>           <th>coef</th>     <th>std err</th>      <th>t</th>      <th>P>|t|</th>  <th>[0.025</th>    <th>0.975]</th>  \n",
       "</tr>\n",
       "<tr>\n",
       "  <th>const</th>          <td>    0.5301</td> <td>      inf</td> <td>        0</td> <td>   nan</td> <td>      nan</td> <td>      nan</td>\n",
       "</tr>\n",
       "<tr>\n",
       "  <th>Polarity Score</th> <td>   -0.0471</td> <td>      inf</td> <td>       -0</td> <td>   nan</td> <td>      nan</td> <td>      nan</td>\n",
       "</tr>\n",
       "</table>\n",
       "<table class=\"simpletable\">\n",
       "<tr>\n",
       "  <th>Omnibus:</th>       <td>   nan</td> <th>  Durbin-Watson:     </th> <td>   0.118</td>\n",
       "</tr>\n",
       "<tr>\n",
       "  <th>Prob(Omnibus):</th> <td>   nan</td> <th>  Jarque-Bera (JB):  </th> <td>   0.333</td>\n",
       "</tr>\n",
       "<tr>\n",
       "  <th>Skew:</th>          <td> 0.000</td> <th>  Prob(JB):          </th> <td>   0.846</td>\n",
       "</tr>\n",
       "<tr>\n",
       "  <th>Kurtosis:</th>      <td> 1.000</td> <th>  Cond. No.          </th> <td>    23.3</td>\n",
       "</tr>\n",
       "</table><br/><br/>Notes:<br/>[1] Standard Errors assume that the covariance matrix of the errors is correctly specified."
      ],
      "text/latex": [
       "\\begin{center}\n",
       "\\begin{tabular}{lclc}\n",
       "\\toprule\n",
       "\\textbf{Dep. Variable:}    & Liberal Vote Percent & \\textbf{  R-squared:         } &     1.000   \\\\\n",
       "\\textbf{Model:}            &         OLS          & \\textbf{  Adj. R-squared:    } &       nan   \\\\\n",
       "\\textbf{Method:}           &    Least Squares     & \\textbf{  F-statistic:       } &       nan   \\\\\n",
       "\\textbf{Date:}             &   Sun, 16 Jul 2023   & \\textbf{  Prob (F-statistic):} &      nan    \\\\\n",
       "\\textbf{Time:}             &       17:30:55       & \\textbf{  Log-Likelihood:    } &    67.803   \\\\\n",
       "\\textbf{No. Observations:} &             2        & \\textbf{  AIC:               } &    -131.6   \\\\\n",
       "\\textbf{Df Residuals:}     &             0        & \\textbf{  BIC:               } &    -134.2   \\\\\n",
       "\\textbf{Df Model:}         &             1        & \\textbf{                     } &             \\\\\n",
       "\\textbf{Covariance Type:}  &      nonrobust       & \\textbf{                     } &             \\\\\n",
       "\\bottomrule\n",
       "\\end{tabular}\n",
       "\\begin{tabular}{lcccccc}\n",
       "                        & \\textbf{coef} & \\textbf{std err} & \\textbf{t} & \\textbf{P$> |$t$|$} & \\textbf{[0.025} & \\textbf{0.975]}  \\\\\n",
       "\\midrule\n",
       "\\textbf{const}          &       0.5301  &          inf     &         0  &           nan        &          nan    &          nan     \\\\\n",
       "\\textbf{Polarity Score} &      -0.0471  &          inf     &        -0  &           nan        &          nan    &          nan     \\\\\n",
       "\\bottomrule\n",
       "\\end{tabular}\n",
       "\\begin{tabular}{lclc}\n",
       "\\textbf{Omnibus:}       &    nan & \\textbf{  Durbin-Watson:     } &    0.118  \\\\\n",
       "\\textbf{Prob(Omnibus):} &    nan & \\textbf{  Jarque-Bera (JB):  } &    0.333  \\\\\n",
       "\\textbf{Skew:}          &  0.000 & \\textbf{  Prob(JB):          } &    0.846  \\\\\n",
       "\\textbf{Kurtosis:}      &  1.000 & \\textbf{  Cond. No.          } &     23.3  \\\\\n",
       "\\bottomrule\n",
       "\\end{tabular}\n",
       "%\\caption{OLS Regression Results}\n",
       "\\end{center}\n",
       "\n",
       "Notes: \\newline\n",
       " [1] Standard Errors assume that the covariance matrix of the errors is correctly specified."
      ],
      "text/plain": [
       "<class 'statsmodels.iolib.summary.Summary'>\n",
       "\"\"\"\n",
       "                             OLS Regression Results                             \n",
       "================================================================================\n",
       "Dep. Variable:     Liberal Vote Percent   R-squared:                       1.000\n",
       "Model:                              OLS   Adj. R-squared:                    nan\n",
       "Method:                   Least Squares   F-statistic:                       nan\n",
       "Date:                  Sun, 16 Jul 2023   Prob (F-statistic):                nan\n",
       "Time:                          17:30:55   Log-Likelihood:                 67.803\n",
       "No. Observations:                     2   AIC:                            -131.6\n",
       "Df Residuals:                         0   BIC:                            -134.2\n",
       "Df Model:                             1                                         \n",
       "Covariance Type:              nonrobust                                         \n",
       "==================================================================================\n",
       "                     coef    std err          t      P>|t|      [0.025      0.975]\n",
       "----------------------------------------------------------------------------------\n",
       "const              0.5301        inf          0        nan         nan         nan\n",
       "Polarity Score    -0.0471        inf         -0        nan         nan         nan\n",
       "==============================================================================\n",
       "Omnibus:                          nan   Durbin-Watson:                   0.118\n",
       "Prob(Omnibus):                    nan   Jarque-Bera (JB):                0.333\n",
       "Skew:                           0.000   Prob(JB):                        0.846\n",
       "Kurtosis:                       1.000   Cond. No.                         23.3\n",
       "==============================================================================\n",
       "\n",
       "Notes:\n",
       "[1] Standard Errors assume that the covariance matrix of the errors is correctly specified.\n",
       "\"\"\""
      ]
     },
     "execution_count": 19,
     "metadata": {},
     "output_type": "execute_result"
    }
   ],
   "source": [
    "x = plot_df[['Polarity Score']]\n",
    "y = plot_df['Liberal Vote Percent']\n",
    "x = sm.add_constant(x)\n",
    "model = sm.OLS(y, x).fit()\n",
    "model.summary()"
   ]
  }
 ],
 "metadata": {
  "kernelspec": {
   "display_name": "Python 3",
   "language": "python",
   "name": "python3"
  },
  "language_info": {
   "codemirror_mode": {
    "name": "ipython",
    "version": 3
   },
   "file_extension": ".py",
   "mimetype": "text/x-python",
   "name": "python",
   "nbconvert_exporter": "python",
   "pygments_lexer": "ipython3",
   "version": "3.11.4"
  },
  "orig_nbformat": 4
 },
 "nbformat": 4,
 "nbformat_minor": 2
}
