{
 "cells": [
  {
   "cell_type": "markdown",
   "metadata": {},
   "source": [
    "# Politics in BYU"
   ]
  },
  {
   "cell_type": "code",
   "execution_count": 66,
   "metadata": {},
   "outputs": [],
   "source": [
    "SCHOOL=\"byu\"\n",
    "SUBJECT=\"opinion\"\n",
    "START_YEAR=2011\n",
    "FINAL_YEAR=2022\n",
    "DATA_DIR=\"data\"      # should be 'data'\n",
    "OUTPUT_DIR=\"output\"  # should be 'output'"
   ]
  },
  {
   "cell_type": "code",
   "execution_count": 67,
   "metadata": {},
   "outputs": [
    {
     "name": "stdout",
     "output_type": "stream",
     "text": [
      "/Users/anishka/Desktop/asdrp/mui/diversity-colleges/diversity-colleges\n"
     ]
    }
   ],
   "source": [
    "cd /Users/anishka/Desktop/asdrp/mui/diversity-colleges/diversity-colleges/"
   ]
  },
  {
   "cell_type": "code",
   "execution_count": 68,
   "metadata": {},
   "outputs": [],
   "source": [
    "import sys\n",
    "sys.path.append('src')\n",
    "import ouraws\n",
    "import ourgraphs\n",
    "#import textutil"
   ]
  },
  {
   "cell_type": "code",
   "execution_count": 69,
   "metadata": {},
   "outputs": [],
   "source": [
    "# NOTE: before loading, we need to be in the \"diversity-colleges\" folder\n",
    "\n",
    "S3OBJECT_KEY = f\"{DATA_DIR}/{SCHOOL}-{SUBJECT}-SNAPSHOT.parquet\"\n",
    "df = ouraws.getFromS3(S3OBJECT_KEY)"
   ]
  },
  {
   "cell_type": "code",
   "execution_count": 70,
   "metadata": {},
   "outputs": [
    {
     "data": {
      "text/plain": [
       "(1528, 6)"
      ]
     },
     "execution_count": 70,
     "metadata": {},
     "output_type": "execute_result"
    }
   ],
   "source": [
    "df.shape"
   ]
  },
  {
   "cell_type": "code",
   "execution_count": 71,
   "metadata": {},
   "outputs": [
    {
     "data": {
      "text/html": [
       "<div>\n",
       "<style scoped>\n",
       "    .dataframe tbody tr th:only-of-type {\n",
       "        vertical-align: middle;\n",
       "    }\n",
       "\n",
       "    .dataframe tbody tr th {\n",
       "        vertical-align: top;\n",
       "    }\n",
       "\n",
       "    .dataframe thead th {\n",
       "        text-align: right;\n",
       "    }\n",
       "</style>\n",
       "<table border=\"1\" class=\"dataframe\">\n",
       "  <thead>\n",
       "    <tr style=\"text-align: right;\">\n",
       "      <th></th>\n",
       "      <th>title</th>\n",
       "      <th>url</th>\n",
       "      <th>body</th>\n",
       "      <th>year</th>\n",
       "      <th>month</th>\n",
       "      <th>day</th>\n",
       "    </tr>\n",
       "  </thead>\n",
       "  <tbody>\n",
       "    <tr>\n",
       "      <th>18</th>\n",
       "      <td>Readers’ Forum: Why we should let guilt go</td>\n",
       "      <td>https://universe.byu.edu/2022/06/06/readers-fo...</td>\n",
       "      <td>Readers’ Forum: Why we should let guilt go\\nWe...</td>\n",
       "      <td>2022</td>\n",
       "      <td>6</td>\n",
       "      <td>6</td>\n",
       "    </tr>\n",
       "    <tr>\n",
       "      <th>19</th>\n",
       "      <td>Opinion: Utah’s wedding culture is laughably e...</td>\n",
       "      <td>https://universe.byu.edu/2022/06/01/opinion-ut...</td>\n",
       "      <td>Opinion: Utah’s wedding culture is laughably e...</td>\n",
       "      <td>2022</td>\n",
       "      <td>6</td>\n",
       "      <td>1</td>\n",
       "    </tr>\n",
       "  </tbody>\n",
       "</table>\n",
       "</div>"
      ],
      "text/plain": [
       "                                                title  \\\n",
       "18         Readers’ Forum: Why we should let guilt go   \n",
       "19  Opinion: Utah’s wedding culture is laughably e...   \n",
       "\n",
       "                                                  url  \\\n",
       "18  https://universe.byu.edu/2022/06/06/readers-fo...   \n",
       "19  https://universe.byu.edu/2022/06/01/opinion-ut...   \n",
       "\n",
       "                                                 body  year  month  day  \n",
       "18  Readers’ Forum: Why we should let guilt go\\nWe...  2022      6    6  \n",
       "19  Opinion: Utah’s wedding culture is laughably e...  2022      6    1  "
      ]
     },
     "execution_count": 71,
     "metadata": {},
     "output_type": "execute_result"
    }
   ],
   "source": [
    "df.head(2)"
   ]
  },
  {
   "cell_type": "code",
   "execution_count": 72,
   "metadata": {},
   "outputs": [],
   "source": [
    "import requests\n",
    "import os\n",
    "\n",
    "BIPARTISAN_API_KEY = os.environ.get(\"BIPARTISAN_API\")\n",
    "\n",
    "BIPARTISAN_URL = \"https://api.thebipartisanpress.com/api/endpoints/beta/robert\""
   ]
  },
  {
   "cell_type": "code",
   "execution_count": 73,
   "metadata": {},
   "outputs": [
    {
     "name": "stdout",
     "output_type": "stream",
     "text": [
      "0.112398\n"
     ]
    }
   ],
   "source": [
    "df2022 = df[df['year'] == 2022]\n",
    "\n",
    "articles_list = df2022['body'].to_list()\n",
    "for article in articles_list:\n",
    "    payload = {\"API\": BIPARTISAN_API_KEY, \"Text\": article.encode(\"utf-8\")}\n",
    "    response = requests.post(BIPARTISAN_URL, data=payload)\n",
    "    print(response.text)\n",
    "    break"
   ]
  },
  {
   "cell_type": "code",
   "execution_count": 74,
   "metadata": {},
   "outputs": [
    {
     "data": {
      "text/plain": [
       "array([2022, 2021, 2020, 2018, 2017, 2016, 2015, 2023, 2019, 2014, 2013,\n",
       "       2012, 2011])"
      ]
     },
     "execution_count": 74,
     "metadata": {},
     "output_type": "execute_result"
    }
   ],
   "source": [
    "df['year'].unique()"
   ]
  },
  {
   "cell_type": "code",
   "execution_count": 81,
   "metadata": {},
   "outputs": [
    {
     "name": "stdout",
     "output_type": "stream",
     "text": [
      "Year: 2022 ... 60\n",
      "2022\t60\t139.31874499999998\t2.321979083333333\n",
      "Year: 2023 ... 32\n",
      "2023\t32\t-5.290269\t-0.16532090625\n"
     ]
    }
   ],
   "source": [
    "# SYNCHRONOUS METHOD : TAKES A LONG TIME\n",
    "\n",
    "results = []\n",
    "\n",
    "for year in range(2022, 2024):\n",
    "    df2 = df[df['year'] == year]\n",
    "    print(f\"Year: {year} ... {df2.shape[0]}\")\n",
    "\n",
    "    articles_list = df2['body'].to_list()\n",
    "    value_sum = 0.0\n",
    "    article_count = 0\n",
    "    for article in articles_list:\n",
    "        payload = {\"API\": BIPARTISAN_API_KEY, \"Text\": article.encode(\"utf-8\")}\n",
    "        response = requests.post(BIPARTISAN_URL, data=payload)\n",
    "        try:\n",
    "            value_sum += float(response.text)\n",
    "            article_count += 1\n",
    "            # print(f\"{article_count}\", end=\".\")\n",
    "        except:\n",
    "            pass  # this is a non-number\n",
    "        \n",
    "    results.append({\n",
    "        'year' : year,\n",
    "        'article_count' : article_count,\n",
    "        'polarity_sum' : value_sum,\n",
    "        'polarity_avg' : float(value_sum) / article_count\n",
    "    })\n",
    "\n",
    "    print(f\"{year}\\t{article_count}\\t{value_sum}\\t{value_sum/article_count}\")\n",
    "# for each year, get all articles' bodies & send to bipartisan press API \n",
    "#    and sum up the values & output the average for each year"
   ]
  },
  {
   "cell_type": "code",
   "execution_count": 79,
   "metadata": {},
   "outputs": [],
   "source": [
    "import pandas as pd\n",
    "\n",
    "RESULTS_FILE = f\"{DATA_DIR}/{SCHOOL}-POLARITY.parquet\"\n",
    "\n",
    "results_df = pd.DataFrame.from_records(results)\n",
    "results_df.to_parquet(RESULTS_FILE)"
   ]
  }
 ],
 "metadata": {
  "kernelspec": {
   "display_name": "Python 3 (ipykernel)",
   "language": "python",
   "name": "python3"
  },
  "language_info": {
   "codemirror_mode": {
    "name": "ipython",
    "version": 3
   },
   "file_extension": ".py",
   "mimetype": "text/x-python",
   "name": "python",
   "nbconvert_exporter": "python",
   "pygments_lexer": "ipython3",
   "version": "3.9.6"
  },
  "vscode": {
   "interpreter": {
    "hash": "c21ac38248faf28f2c9521adbe733be2f0389d69400e829bbbab439e1682721f"
   }
  }
 },
 "nbformat": 4,
 "nbformat_minor": 4
}
