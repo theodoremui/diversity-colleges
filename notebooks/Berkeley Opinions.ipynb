{
 "cells": [
  {
   "cell_type": "code",
   "execution_count": 1,
   "id": "864c8ed9",
   "metadata": {},
   "outputs": [
    {
     "name": "stderr",
     "output_type": "stream",
     "text": [
      "[nltk_data] Downloading package stopwords to\n",
      "[nltk_data]     /Users/theodoremui/nltk_data...\n",
      "[nltk_data]   Package stopwords is already up-to-date!\n",
      "[nltk_data] Downloading package omw-1.4 to\n",
      "[nltk_data]     /Users/theodoremui/nltk_data...\n",
      "[nltk_data]   Package omw-1.4 is already up-to-date!\n",
      "[nltk_data] Downloading package wordnet to\n",
      "[nltk_data]     /Users/theodoremui/nltk_data...\n",
      "[nltk_data]   Package wordnet is already up-to-date!\n"
     ]
    }
   ],
   "source": [
    "import math\n",
    "import re\n",
    "import numpy as np\n",
    "import pandas as pd\n",
    "\n",
    "import nltk\n",
    "nltk.download('stopwords')\n",
    "from nltk.corpus import stopwords\n",
    "nltk.download('omw-1.4')\n",
    "nltk.download('wordnet')\n",
    "from nltk.stem import WordNetLemmatizer\n",
    "lemmatizer = WordNetLemmatizer()\n",
    "\n",
    "import spacy\n",
    "nlp = spacy.load(\"en_core_web_lg\")"
   ]
  },
  {
   "cell_type": "code",
   "execution_count": 2,
   "id": "3439af81",
   "metadata": {},
   "outputs": [
    {
     "data": {
      "text/plain": [
       "'/Users/theodoremui/Library/CloudStorage/OneDrive-Personal/dev/collegier/notebooks'"
      ]
     },
     "execution_count": 2,
     "metadata": {},
     "output_type": "execute_result"
    }
   ],
   "source": [
    "%pwd"
   ]
  },
  {
   "cell_type": "code",
   "execution_count": 3,
   "id": "2db3ac69",
   "metadata": {},
   "outputs": [
    {
     "name": "stdout",
     "output_type": "stream",
     "text": [
      "/Users/theodoremui/Library/CloudStorage/OneDrive-Personal/dev/collegier\n"
     ]
    }
   ],
   "source": [
    "%cd .."
   ]
  },
  {
   "cell_type": "code",
   "execution_count": 4,
   "id": "cf63b5ff",
   "metadata": {},
   "outputs": [],
   "source": [
    "import os\n",
    "import boto3\n",
    "import botocore\n",
    "import pyarrow as pa\n",
    "import pyarrow.parquet as pq"
   ]
  },
  {
   "cell_type": "code",
   "execution_count": 5,
   "id": "70de1e57",
   "metadata": {},
   "outputs": [],
   "source": [
    "import sys\n",
    "sys.path.append('src')\n",
    "import ouraws"
   ]
  },
  {
   "cell_type": "code",
   "execution_count": 6,
   "id": "e51f41b5",
   "metadata": {},
   "outputs": [],
   "source": [
    "S3_BUCKET=\"collegier\"\n",
    "OUTPUT_DIR=\"data\"\n",
    "SCHOOL=\"berkeley\"\n",
    "SUBJECT=\"opinion\"\n",
    "START_YEAR=2011\n",
    "FINAL_YEAR=2022"
   ]
  },
  {
   "cell_type": "code",
   "execution_count": 7,
   "id": "aa6b49e1",
   "metadata": {},
   "outputs": [],
   "source": [
    "def getCovDispersion(wv):\n",
    "    N = len(wv)\n",
    "    cov = np.cov(wv)\n",
    "    return (N, \n",
    "            np.trace(cov)/N, \n",
    "            np.linalg.norm(cov, ord=1)/N, \n",
    "            np.linalg.norm(cov, ord=2)/N, \n",
    "            np.linalg.norm(cov, ord=np.inf)/N, \n",
    "            )\n",
    "\n",
    "def cosine_distance(v1, v2):\n",
    "    \"\"\"Calculate the cosine distance between two numpy arrays.\n",
    "    \n",
    "    Parameters:\n",
    "    a (numpy array): First input array.\n",
    "    b (numpy array): Second input array.\n",
    "    \n",
    "    Returns:\n",
    "    float: Cosine distance between a and b.\n",
    "    \"\"\"\n",
    "    a = np.array(v1, dtype=np.float64)\n",
    "    b = np.array(v2, dtype=np.float64)\n",
    "    # Calculate dot product and magnitudes of the input arrays\n",
    "    dot   = np.dot(a, b)\n",
    "    a_mag = np.linalg.norm(a)\n",
    "    b_mag = np.linalg.norm(b)\n",
    "    \n",
    "    if np.isclose(a_mag, 0, rtol=1e-9, atol=1e-12):\n",
    "        print(f\"a_mag is very small: {a_mag}\")\n",
    "    if np.isclose(b_mag, 0, rtol=1e-9, atol=1e-12):\n",
    "        print(f\"b_mag is very small: {b_mag}\")\n",
    "    \n",
    "    # Calculate and return the cosine distance\n",
    "    return 1.0 - (dot / (a_mag * b_mag))\n",
    "\n",
    "def getPairwiseDispersion(wv, measure):\n",
    "    if len(wv) <= 1: return 0.0\n",
    "    distance = 0.0\n",
    "    vec = wv[0]\n",
    "    for v in wv[1:]:\n",
    "        distance += measure(vec, v)\n",
    "        # print(f\"\\tcos_distance: {measure(vec, v)}\")\n",
    "    return distance + getPairwiseDispersion(wv[1:], measure)\n",
    "\n",
    "def getNormalizedPairwiseDispersion(wv, measure):\n",
    "    '''Normalize the dispersion by (N-Choose-2) number of pairs'''\n",
    "    N = len(wv)\n",
    "    return getPairwiseDispersion(wv, measure) / (N * (N-1)/2.)"
   ]
  },
  {
   "cell_type": "code",
   "execution_count": 8,
   "id": "43ede961",
   "metadata": {},
   "outputs": [
    {
     "data": {
      "text/plain": [
       "['diversity',\n",
       " 'equity',\n",
       " 'inclusion',\n",
       " 'inclusive',\n",
       " 'inclusivity',\n",
       " 'equality',\n",
       " 'equal opportunity',\n",
       " 'social justice',\n",
       " 'racial justice',\n",
       " 'multi-cultural',\n",
       " 'multicultural',\n",
       " 'intercultural',\n",
       " 'intersectional',\n",
       " 'intersectionality',\n",
       " 'anti-discrimination']"
      ]
     },
     "execution_count": 8,
     "metadata": {},
     "output_type": "execute_result"
    }
   ],
   "source": [
    "diversity_words = [\n",
    "    'diversity', \n",
    "    'equity',\n",
    "    'inclusion',\n",
    "    'inclusive',\n",
    "    'inclusivity',\n",
    "    'equality', \n",
    "    'equal opportunity',\n",
    "    'social justice',\n",
    "    'racial justice', \n",
    "    'multi-cultural', \n",
    "    'multicultural',\n",
    "    'intercultural',\n",
    "    'intersectional',\n",
    "    'intersectionality',\n",
    "    'anti-discrimination'\n",
    "]\n",
    "diversity_lemmas = [lemmatizer.lemmatize(w) for w in diversity_words]\n",
    "diversity_lemmas"
   ]
  },
  {
   "cell_type": "code",
   "execution_count": 9,
   "id": "a5543ed2",
   "metadata": {},
   "outputs": [
    {
     "data": {
      "text/plain": [
       "4"
      ]
     },
     "execution_count": 9,
     "metadata": {},
     "output_type": "execute_result"
    }
   ],
   "source": [
    "diversity_pattern = \"\\b\" + \"|\".join(diversity_lemmas) + \"\\b\"\n",
    "text = \"This is an inclusive and multi-cultural center that focuses on equality and racial justice.\"\n",
    "len(re.findall(diversity_pattern, text))"
   ]
  },
  {
   "cell_type": "code",
   "execution_count": 10,
   "id": "9d6b5b41",
   "metadata": {},
   "outputs": [],
   "source": [
    "english_stopwords = stopwords.words('english')\n",
    "def prepText(text_series):\n",
    "    '''Clean & prep text (numpy.Series): lowercase, lemmatize, stopword'''\n",
    "    text_series = text_series.apply(\n",
    "        lambda x: \" \".join(lemmatizer.lemmatize(w.lower()) for w in x.split() \n",
    "                           if w not in english_stopwords))\n",
    "    text_series = text_series.apply(lambda x: x if len(x) > 100 else None)\n",
    "    text_series = text_series.dropna()\n",
    "    total_diversity_words = sum([len(re.findall(diversity_pattern, text)) \n",
    "                                 for text in text_series])\n",
    "    return text_series, total_diversity_words"
   ]
  },
  {
   "cell_type": "code",
   "execution_count": 11,
   "id": "0cd56dd5",
   "metadata": {},
   "outputs": [],
   "source": [
    "# NOTE: before loading, we need to be in the \"collegier\" folder\n",
    "\n",
    "S3OBJECT_KEY = f\"{OUTPUT_DIR}/{SCHOOL}-{SUBJECT}-SNAPSHOT.parquet\"\n",
    "df = ouraws.getFromS3(S3OBJECT_KEY)"
   ]
  },
  {
   "cell_type": "code",
   "execution_count": 12,
   "id": "98ad20bf",
   "metadata": {},
   "outputs": [
    {
     "data": {
      "text/plain": [
       "(6095, 6)"
      ]
     },
     "execution_count": 12,
     "metadata": {},
     "output_type": "execute_result"
    }
   ],
   "source": [
    "df.shape"
   ]
  },
  {
   "cell_type": "code",
   "execution_count": 13,
   "id": "83b3c810",
   "metadata": {},
   "outputs": [
    {
     "data": {
      "text/plain": [
       "Index(['title', 'url', 'body', 'year', 'month', 'day'], dtype='object')"
      ]
     },
     "execution_count": 13,
     "metadata": {},
     "output_type": "execute_result"
    }
   ],
   "source": [
    "df.columns"
   ]
  },
  {
   "cell_type": "code",
   "execution_count": 14,
   "id": "c53b595c",
   "metadata": {},
   "outputs": [
    {
     "data": {
      "text/plain": [
       "array([2022, 2021, 2020, 2019, 2018, 2017, 2016, 2015, 2014, 2013, 2012,\n",
       "       2011])"
      ]
     },
     "execution_count": 14,
     "metadata": {},
     "output_type": "execute_result"
    }
   ],
   "source": [
    "df[\"year\"].unique()"
   ]
  },
  {
   "cell_type": "code",
   "execution_count": 15,
   "id": "bef8031e",
   "metadata": {},
   "outputs": [
    {
     "data": {
      "text/html": [
       "<div>\n",
       "<style scoped>\n",
       "    .dataframe tbody tr th:only-of-type {\n",
       "        vertical-align: middle;\n",
       "    }\n",
       "\n",
       "    .dataframe tbody tr th {\n",
       "        vertical-align: top;\n",
       "    }\n",
       "\n",
       "    .dataframe thead th {\n",
       "        text-align: right;\n",
       "    }\n",
       "</style>\n",
       "<table border=\"1\" class=\"dataframe\">\n",
       "  <thead>\n",
       "    <tr style=\"text-align: right;\">\n",
       "      <th></th>\n",
       "      <th>title</th>\n",
       "      <th>url</th>\n",
       "      <th>body</th>\n",
       "      <th>year</th>\n",
       "      <th>month</th>\n",
       "      <th>day</th>\n",
       "    </tr>\n",
       "  </thead>\n",
       "  <tbody>\n",
       "    <tr>\n",
       "      <th>6083</th>\n",
       "      <td>A summer in the clouds</td>\n",
       "      <td>https://dailycal.org/2011/05/30/a-summer-in-th...</td>\n",
       "      <td>A summer in the clouds\\nI’ve been trying to fo...</td>\n",
       "      <td>2011</td>\n",
       "      <td>5</td>\n",
       "      <td>30</td>\n",
       "    </tr>\n",
       "    <tr>\n",
       "      <th>6084</th>\n",
       "      <td>Bring in the green</td>\n",
       "      <td>https://dailycal.org/2011/05/30/bring-in-the-g...</td>\n",
       "      <td>Bring in the green\\nIt is never good practice ...</td>\n",
       "      <td>2011</td>\n",
       "      <td>5</td>\n",
       "      <td>30</td>\n",
       "    </tr>\n",
       "    <tr>\n",
       "      <th>6085</th>\n",
       "      <td>No more hide and seek</td>\n",
       "      <td>https://dailycal.org/2011/05/30/no-more-hide-a...</td>\n",
       "      <td>No more hide and seek\\nCalifornia’s public ins...</td>\n",
       "      <td>2011</td>\n",
       "      <td>5</td>\n",
       "      <td>30</td>\n",
       "    </tr>\n",
       "    <tr>\n",
       "      <th>6086</th>\n",
       "      <td>How to Keep Power ... and Keep It in Your Pants</td>\n",
       "      <td>https://dailycal.org/2011/05/26/how-to-keep-po...</td>\n",
       "      <td>How to Keep Power ... and Keep It in Your Pant...</td>\n",
       "      <td>2011</td>\n",
       "      <td>5</td>\n",
       "      <td>26</td>\n",
       "    </tr>\n",
       "    <tr>\n",
       "      <th>6087</th>\n",
       "      <td>OFF THE BEAT: Better re(a)d than dead</td>\n",
       "      <td>https://dailycal.org/2011/05/26/off-the-beat-b...</td>\n",
       "      <td>OFF THE BEAT: Better re(a)d than dead\\nEssays ...</td>\n",
       "      <td>2011</td>\n",
       "      <td>5</td>\n",
       "      <td>26</td>\n",
       "    </tr>\n",
       "    <tr>\n",
       "      <th>6088</th>\n",
       "      <td>The empty gesture</td>\n",
       "      <td>https://dailycal.org/2011/05/22/the-empty-gesture</td>\n",
       "      <td>The empty gesture\\nUC student Regent Jesse Che...</td>\n",
       "      <td>2011</td>\n",
       "      <td>5</td>\n",
       "      <td>22</td>\n",
       "    </tr>\n",
       "    <tr>\n",
       "      <th>6089</th>\n",
       "      <td>Get it together</td>\n",
       "      <td>https://dailycal.org/2011/05/22/get-it-together</td>\n",
       "      <td>Get it together\\nThe UC Board of Regents’ unan...</td>\n",
       "      <td>2011</td>\n",
       "      <td>5</td>\n",
       "      <td>22</td>\n",
       "    </tr>\n",
       "    <tr>\n",
       "      <th>6090</th>\n",
       "      <td>OFF THE BEAT: Traveling sans language</td>\n",
       "      <td>https://dailycal.org/2011/05/22/off-the-beat-t...</td>\n",
       "      <td>OFF THE BEAT: Traveling sans language\\nTraveli...</td>\n",
       "      <td>2011</td>\n",
       "      <td>5</td>\n",
       "      <td>22</td>\n",
       "    </tr>\n",
       "    <tr>\n",
       "      <th>6091</th>\n",
       "      <td>OFF THE BEAT: Sobering reflections of a grad</td>\n",
       "      <td>https://dailycal.org/2011/05/19/off-the-beat-s...</td>\n",
       "      <td>OFF THE BEAT: Sobering reflections of a grad\\n...</td>\n",
       "      <td>2011</td>\n",
       "      <td>5</td>\n",
       "      <td>19</td>\n",
       "    </tr>\n",
       "    <tr>\n",
       "      <th>6092</th>\n",
       "      <td>OFF THE BEAT: Apathy, the constant threat</td>\n",
       "      <td>https://dailycal.org/2011/05/15/off-the-beat-a...</td>\n",
       "      <td>OFF THE BEAT: Apathy, the constant threat\\n“Al...</td>\n",
       "      <td>2011</td>\n",
       "      <td>5</td>\n",
       "      <td>15</td>\n",
       "    </tr>\n",
       "    <tr>\n",
       "      <th>6093</th>\n",
       "      <td>Hunger strikes out</td>\n",
       "      <td>https://dailycal.org/2011/05/15/hunger-strikes...</td>\n",
       "      <td>Hunger strikes out\\nAfter 12 days, a hunger st...</td>\n",
       "      <td>2011</td>\n",
       "      <td>5</td>\n",
       "      <td>15</td>\n",
       "    </tr>\n",
       "    <tr>\n",
       "      <th>6094</th>\n",
       "      <td>Checks on spending</td>\n",
       "      <td>https://dailycal.org/2011/05/15/checks-on-spen...</td>\n",
       "      <td>Checks on spending\\nRunning without the backin...</td>\n",
       "      <td>2011</td>\n",
       "      <td>5</td>\n",
       "      <td>15</td>\n",
       "    </tr>\n",
       "  </tbody>\n",
       "</table>\n",
       "</div>"
      ],
      "text/plain": [
       "                                                title  \\\n",
       "6083                           A summer in the clouds   \n",
       "6084                               Bring in the green   \n",
       "6085                            No more hide and seek   \n",
       "6086  How to Keep Power ... and Keep It in Your Pants   \n",
       "6087            OFF THE BEAT: Better re(a)d than dead   \n",
       "6088                                The empty gesture   \n",
       "6089                                  Get it together   \n",
       "6090            OFF THE BEAT: Traveling sans language   \n",
       "6091     OFF THE BEAT: Sobering reflections of a grad   \n",
       "6092        OFF THE BEAT: Apathy, the constant threat   \n",
       "6093                               Hunger strikes out   \n",
       "6094                               Checks on spending   \n",
       "\n",
       "                                                    url  \\\n",
       "6083  https://dailycal.org/2011/05/30/a-summer-in-th...   \n",
       "6084  https://dailycal.org/2011/05/30/bring-in-the-g...   \n",
       "6085  https://dailycal.org/2011/05/30/no-more-hide-a...   \n",
       "6086  https://dailycal.org/2011/05/26/how-to-keep-po...   \n",
       "6087  https://dailycal.org/2011/05/26/off-the-beat-b...   \n",
       "6088  https://dailycal.org/2011/05/22/the-empty-gesture   \n",
       "6089    https://dailycal.org/2011/05/22/get-it-together   \n",
       "6090  https://dailycal.org/2011/05/22/off-the-beat-t...   \n",
       "6091  https://dailycal.org/2011/05/19/off-the-beat-s...   \n",
       "6092  https://dailycal.org/2011/05/15/off-the-beat-a...   \n",
       "6093  https://dailycal.org/2011/05/15/hunger-strikes...   \n",
       "6094  https://dailycal.org/2011/05/15/checks-on-spen...   \n",
       "\n",
       "                                                   body  year  month  day  \n",
       "6083  A summer in the clouds\\nI’ve been trying to fo...  2011      5   30  \n",
       "6084  Bring in the green\\nIt is never good practice ...  2011      5   30  \n",
       "6085  No more hide and seek\\nCalifornia’s public ins...  2011      5   30  \n",
       "6086  How to Keep Power ... and Keep It in Your Pant...  2011      5   26  \n",
       "6087  OFF THE BEAT: Better re(a)d than dead\\nEssays ...  2011      5   26  \n",
       "6088  The empty gesture\\nUC student Regent Jesse Che...  2011      5   22  \n",
       "6089  Get it together\\nThe UC Board of Regents’ unan...  2011      5   22  \n",
       "6090  OFF THE BEAT: Traveling sans language\\nTraveli...  2011      5   22  \n",
       "6091  OFF THE BEAT: Sobering reflections of a grad\\n...  2011      5   19  \n",
       "6092  OFF THE BEAT: Apathy, the constant threat\\n“Al...  2011      5   15  \n",
       "6093  Hunger strikes out\\nAfter 12 days, a hunger st...  2011      5   15  \n",
       "6094  Checks on spending\\nRunning without the backin...  2011      5   15  "
      ]
     },
     "execution_count": 15,
     "metadata": {},
     "output_type": "execute_result"
    }
   ],
   "source": [
    "df.loc[(df.year==2011) & (df.month==5)]"
   ]
  },
  {
   "cell_type": "code",
   "execution_count": 16,
   "id": "d4f81901",
   "metadata": {},
   "outputs": [
    {
     "name": "stdout",
     "output_type": "stream",
     "text": [
      "2011, 345, 2.0395315232473497, 0.13385619041955926\n",
      "2012, 528, 2.0349542165468932, 0.12272296881939224\n",
      "2013, 550, 2.0382543728170233, 0.11459821425277994\n",
      "2014, 493, 2.043043035525982, 0.09789561140431557\n",
      "2015, 574, 2.1022375489278304, 0.1375908563981607\n",
      "2016, 575, 2.053817837684051, 0.13373874528974117\n",
      "2017, 589, 1.9965039957828459, 0.141407261182894\n",
      "2018, 540, 2.059310284221314, 0.12533041758084595\n",
      "2019, 487, 2.1399238529907074, 0.1193128226780263\n",
      "2020, 507, 2.123809833692275, 0.11323440924474737\n",
      "2021, 386, 2.0903468042586266, 0.11001768642705283\n",
      "2022, 305, 2.0951182655975953, 0.1119346267076278\n"
     ]
    }
   ],
   "source": [
    "results = []\n",
    "for year in range(START_YEAR, FINAL_YEAR+1):\n",
    "    year_df = df[df.year==year]\n",
    "\n",
    "    clean_df, num_diversity_words = prepText(year_df.body)    \n",
    "    wv = [nlp(s) for s in clean_df]\n",
    "        \n",
    "    docmatrix = np.array([v.vector for v in wv])\n",
    "    \n",
    "    pairwise = getNormalizedPairwiseDispersion(docmatrix, cosine_distance)\n",
    "    cov = getCovDispersion(docmatrix)\n",
    "    \n",
    "    print(f\"{year}, {cov[0]}, {cov[1]}, {pairwise}\")\n",
    "    \n",
    "    result = {'year':     year,\n",
    "              'pairwise': pairwise,\n",
    "              'size':     cov[0],\n",
    "              'trace':    cov[1],\n",
    "              'norm-1':   cov[2], \n",
    "              'norm-2':   cov[3], \n",
    "              'norm-inf': cov[4], \n",
    "              'diversity-words': num_diversity_words,\n",
    "              'mentions-norm'  : num_diversity_words/cov[0]\n",
    "              }\n",
    "    results.append(result)\n"
   ]
  },
  {
   "cell_type": "code",
   "execution_count": 17,
   "id": "3d2d1673",
   "metadata": {},
   "outputs": [
    {
     "data": {
      "text/html": [
       "<div>\n",
       "<style scoped>\n",
       "    .dataframe tbody tr th:only-of-type {\n",
       "        vertical-align: middle;\n",
       "    }\n",
       "\n",
       "    .dataframe tbody tr th {\n",
       "        vertical-align: top;\n",
       "    }\n",
       "\n",
       "    .dataframe thead th {\n",
       "        text-align: right;\n",
       "    }\n",
       "</style>\n",
       "<table border=\"1\" class=\"dataframe\">\n",
       "  <thead>\n",
       "    <tr style=\"text-align: right;\">\n",
       "      <th></th>\n",
       "      <th>pairwise</th>\n",
       "      <th>size</th>\n",
       "      <th>trace</th>\n",
       "      <th>norm-1</th>\n",
       "      <th>norm-2</th>\n",
       "      <th>norm-inf</th>\n",
       "      <th>diversity-words</th>\n",
       "      <th>mentions-norm</th>\n",
       "    </tr>\n",
       "    <tr>\n",
       "      <th>year</th>\n",
       "      <th></th>\n",
       "      <th></th>\n",
       "      <th></th>\n",
       "      <th></th>\n",
       "      <th></th>\n",
       "      <th></th>\n",
       "      <th></th>\n",
       "      <th></th>\n",
       "    </tr>\n",
       "  </thead>\n",
       "  <tbody>\n",
       "    <tr>\n",
       "      <th>2011</th>\n",
       "      <td>0.133856</td>\n",
       "      <td>345</td>\n",
       "      <td>2.039532</td>\n",
       "      <td>2.039245</td>\n",
       "      <td>1.757960</td>\n",
       "      <td>2.039245</td>\n",
       "      <td>50</td>\n",
       "      <td>0.144928</td>\n",
       "    </tr>\n",
       "    <tr>\n",
       "      <th>2012</th>\n",
       "      <td>0.122723</td>\n",
       "      <td>528</td>\n",
       "      <td>2.034954</td>\n",
       "      <td>2.069975</td>\n",
       "      <td>1.790042</td>\n",
       "      <td>2.069975</td>\n",
       "      <td>84</td>\n",
       "      <td>0.159091</td>\n",
       "    </tr>\n",
       "    <tr>\n",
       "      <th>2013</th>\n",
       "      <td>0.114598</td>\n",
       "      <td>550</td>\n",
       "      <td>2.038254</td>\n",
       "      <td>2.068997</td>\n",
       "      <td>1.803492</td>\n",
       "      <td>2.068997</td>\n",
       "      <td>193</td>\n",
       "      <td>0.350909</td>\n",
       "    </tr>\n",
       "    <tr>\n",
       "      <th>2014</th>\n",
       "      <td>0.097896</td>\n",
       "      <td>493</td>\n",
       "      <td>2.043043</td>\n",
       "      <td>2.120773</td>\n",
       "      <td>1.844494</td>\n",
       "      <td>2.120773</td>\n",
       "      <td>174</td>\n",
       "      <td>0.352941</td>\n",
       "    </tr>\n",
       "    <tr>\n",
       "      <th>2015</th>\n",
       "      <td>0.137591</td>\n",
       "      <td>574</td>\n",
       "      <td>2.102238</td>\n",
       "      <td>2.156391</td>\n",
       "      <td>1.813204</td>\n",
       "      <td>2.156391</td>\n",
       "      <td>184</td>\n",
       "      <td>0.320557</td>\n",
       "    </tr>\n",
       "    <tr>\n",
       "      <th>2016</th>\n",
       "      <td>0.133739</td>\n",
       "      <td>575</td>\n",
       "      <td>2.053818</td>\n",
       "      <td>2.048771</td>\n",
       "      <td>1.778594</td>\n",
       "      <td>2.048771</td>\n",
       "      <td>171</td>\n",
       "      <td>0.297391</td>\n",
       "    </tr>\n",
       "    <tr>\n",
       "      <th>2017</th>\n",
       "      <td>0.141407</td>\n",
       "      <td>589</td>\n",
       "      <td>1.996504</td>\n",
       "      <td>2.057212</td>\n",
       "      <td>1.720328</td>\n",
       "      <td>2.057212</td>\n",
       "      <td>224</td>\n",
       "      <td>0.380306</td>\n",
       "    </tr>\n",
       "    <tr>\n",
       "      <th>2018</th>\n",
       "      <td>0.125330</td>\n",
       "      <td>540</td>\n",
       "      <td>2.059310</td>\n",
       "      <td>2.123317</td>\n",
       "      <td>1.806492</td>\n",
       "      <td>2.123317</td>\n",
       "      <td>221</td>\n",
       "      <td>0.409259</td>\n",
       "    </tr>\n",
       "    <tr>\n",
       "      <th>2019</th>\n",
       "      <td>0.119313</td>\n",
       "      <td>487</td>\n",
       "      <td>2.139924</td>\n",
       "      <td>2.141641</td>\n",
       "      <td>1.880903</td>\n",
       "      <td>2.141641</td>\n",
       "      <td>295</td>\n",
       "      <td>0.605749</td>\n",
       "    </tr>\n",
       "    <tr>\n",
       "      <th>2020</th>\n",
       "      <td>0.113234</td>\n",
       "      <td>507</td>\n",
       "      <td>2.123810</td>\n",
       "      <td>2.117062</td>\n",
       "      <td>1.881815</td>\n",
       "      <td>2.117062</td>\n",
       "      <td>307</td>\n",
       "      <td>0.605523</td>\n",
       "    </tr>\n",
       "    <tr>\n",
       "      <th>2021</th>\n",
       "      <td>0.110018</td>\n",
       "      <td>386</td>\n",
       "      <td>2.090347</td>\n",
       "      <td>2.110037</td>\n",
       "      <td>1.859077</td>\n",
       "      <td>2.110037</td>\n",
       "      <td>238</td>\n",
       "      <td>0.616580</td>\n",
       "    </tr>\n",
       "    <tr>\n",
       "      <th>2022</th>\n",
       "      <td>0.111935</td>\n",
       "      <td>305</td>\n",
       "      <td>2.095118</td>\n",
       "      <td>2.066559</td>\n",
       "      <td>1.860040</td>\n",
       "      <td>2.066559</td>\n",
       "      <td>104</td>\n",
       "      <td>0.340984</td>\n",
       "    </tr>\n",
       "  </tbody>\n",
       "</table>\n",
       "</div>"
      ],
      "text/plain": [
       "      pairwise  size     trace    norm-1    norm-2  norm-inf  diversity-words  \\\n",
       "year                                                                            \n",
       "2011  0.133856   345  2.039532  2.039245  1.757960  2.039245               50   \n",
       "2012  0.122723   528  2.034954  2.069975  1.790042  2.069975               84   \n",
       "2013  0.114598   550  2.038254  2.068997  1.803492  2.068997              193   \n",
       "2014  0.097896   493  2.043043  2.120773  1.844494  2.120773              174   \n",
       "2015  0.137591   574  2.102238  2.156391  1.813204  2.156391              184   \n",
       "2016  0.133739   575  2.053818  2.048771  1.778594  2.048771              171   \n",
       "2017  0.141407   589  1.996504  2.057212  1.720328  2.057212              224   \n",
       "2018  0.125330   540  2.059310  2.123317  1.806492  2.123317              221   \n",
       "2019  0.119313   487  2.139924  2.141641  1.880903  2.141641              295   \n",
       "2020  0.113234   507  2.123810  2.117062  1.881815  2.117062              307   \n",
       "2021  0.110018   386  2.090347  2.110037  1.859077  2.110037              238   \n",
       "2022  0.111935   305  2.095118  2.066559  1.860040  2.066559              104   \n",
       "\n",
       "      mentions-norm  \n",
       "year                 \n",
       "2011       0.144928  \n",
       "2012       0.159091  \n",
       "2013       0.350909  \n",
       "2014       0.352941  \n",
       "2015       0.320557  \n",
       "2016       0.297391  \n",
       "2017       0.380306  \n",
       "2018       0.409259  \n",
       "2019       0.605749  \n",
       "2020       0.605523  \n",
       "2021       0.616580  \n",
       "2022       0.340984  "
      ]
     },
     "execution_count": 17,
     "metadata": {},
     "output_type": "execute_result"
    }
   ],
   "source": [
    "results_df = pd.DataFrame.from_records(results)\n",
    "results_df.set_index('year')"
   ]
  },
  {
   "cell_type": "code",
   "execution_count": 18,
   "id": "d0fe145f",
   "metadata": {},
   "outputs": [
    {
     "data": {
      "image/png": "[encoded data removed]",
      "text/plain": [
       "<Figure size 432x288 with 1 Axes>"
      ]
     },
     "metadata": {
      "needs_background": "light"
     },
     "output_type": "display_data"
    }
   ],
   "source": [
    "import matplotlib.pyplot as plt\n",
    "from scipy.stats import linregress\n",
    "\n",
    "x = results_df['year']\n",
    "y = results_df['pairwise']\n",
    "\n",
    "# Calculate the linear regression\n",
    "slope, intercept, r_value, p_value, std_err = linregress(x, y)\n",
    "\n",
    "# Create a line plot of the data\n",
    "results_df.plot(x=\"year\", y=\"pairwise\", kind=\"scatter\")\n",
    "\n",
    "# Add the linear regression line to the plot\n",
    "plt.plot(x, intercept + slope*x, 'b:', label='fitted regression')\n",
    "\n",
    "plt.title(\"Berkeley Daily Californian: Opinions by year\")\n",
    "plt.legend(loc='upper right')\n",
    "plt.ylim(min(y)*0.95, max(y)*1.05)\n",
    "plt.show()\n"
   ]
  },
  {
   "cell_type": "code",
   "execution_count": 19,
   "id": "596fad6b",
   "metadata": {},
   "outputs": [
    {
     "name": "stdout",
     "output_type": "stream",
     "text": [
      "mentions-norm slope:0.03381, int:0.19607, r:0.76940, p:0.00343, se:0.00888, x:range(0, 12)\n",
      "pairwise slope:-0.00100, int:0.12732, r:-0.27726, p:0.38295, se:0.00110, x:range(0, 12)\n",
      "trace slope:0.00702, int:2.02947, r:0.60110, p:0.03871, se:0.00295, x:range(0, 12)\n",
      "norm-1 slope:0.00354, int:2.07389, r:0.32542, p:0.30199, se:0.00325, x:range(0, 12)\n",
      "norm-2 slope:0.00838, int:1.77029, r:0.59874, p:0.03969, se:0.00354, x:range(0, 12)\n",
      "norm-inf slope:0.00354, int:2.07389, r:0.32542, p:0.30199, se:0.00325, x:range(0, 12)\n"
     ]
    },
    {
     "data": {
      "image/png": "[encoded data removed]",
      "text/plain": [
       "<Figure size 576x1152 with 6 Axes>"
      ]
     },
     "metadata": {
      "needs_background": "light"
     },
     "output_type": "display_data"
    }
   ],
   "source": [
    "# Select the columns to plot\n",
    "columns = [\"mentions-norm\", \"pairwise\", \"trace\", \"norm-1\", \"norm-2\", \"norm-inf\"]\n",
    "\n",
    "# Create a figure with subplots\n",
    "fig, axs = plt.subplots(nrows=len(columns), ncols=1, sharex=True, figsize=(8,16))\n",
    "\n",
    "# Loop through the columns and plot each one\n",
    "for ax, column in zip(axs, columns):\n",
    "    # Select the data for the current column\n",
    "    x = range(len(results_df.index))\n",
    "    y = results_df[column]\n",
    "     \n",
    "    # Calculate the linear regression\n",
    "    slope, intercept, r_value, p_value, std_err = linregress(x, y)\n",
    "    \n",
    "    print(\"{} slope:{:.5f}, int:{:.5f}, r:{:.5f}, p:{:.5f}, se:{:.5f}, x:{}\".format(\n",
    "            column, slope, intercept, r_value, p_value, std_err, x))\n",
    "\n",
    "    # Plot the data and the linear regression line\n",
    "    results_df[column].plot(ax=ax, style=\".\", x=x, y=y, label=column)\n",
    "    ax.plot(x, intercept + slope*x, 'b:', label='regression')\n",
    "    ax.set_ylim(0, max(y)*1.2)\n",
    "    \n",
    "    # Add a legend\n",
    "    ax.legend(loc='lower center')\n",
    "\n",
    "    # Add x-label for the years\n",
    "    ax.set_xticks(results_df.index)\n",
    "    ax.set_xticklabels(results_df.year)\n",
    "\n",
    "    # Add a title\n",
    "    # ax.set_title(f\"Trending of {column} in Berkeley Daily Californian\")\n",
    "    \n",
    "plt.xlabel(\"Year\")\n",
    "plt.suptitle(\"Trending of Berkeley Daily Californian opinions on Diversity metrics\")\n",
    "plt.show()"
   ]
  },
  {
   "cell_type": "code",
   "execution_count": 22,
   "id": "2f4aab07",
   "metadata": {},
   "outputs": [
    {
     "name": "stdout",
     "output_type": "stream",
     "text": [
      "mentions-norm slope:0.03381, int:0.19607, r:0.76940, p:0.00343, se:0.00888, x:range(0, 12)\n",
      "pairwise slope:-0.00100, int:0.12732, r:-0.27726, p:0.38295, se:0.00110, x:range(0, 12)\n"
     ]
    },
    {
     "data": {
      "image/png": "[encoded data removed]",
      "text/plain": [
       "<Figure size 1152x288 with 2 Axes>"
      ]
     },
     "metadata": {
      "needs_background": "light"
     },
     "output_type": "display_data"
    }
   ],
   "source": [
    "# Select the columns to plot\n",
    "columns = [\"mentions-norm\", \"pairwise\"]\n",
    "\n",
    "# Create a figure with subplots\n",
    "fig, axs = plt.subplots(nrows=1, ncols=len(columns), sharex=True, figsize=(16,4))\n",
    "\n",
    "# Loop through the columns and plot each one\n",
    "for ax, column in zip(axs, columns):\n",
    "    # Select the data for the current column\n",
    "    x = range(len(results_df.index))\n",
    "    y = results_df[column]\n",
    "     \n",
    "    # Calculate the linear regression\n",
    "    slope, intercept, r_value, p_value, std_err = linregress(x, y)\n",
    "    \n",
    "    print(\"{} slope:{:.5f}, int:{:.5f}, r:{:.5f}, p:{:.5f}, se:{:.5f}, x:{}\".format(\n",
    "            column, slope, intercept, r_value, p_value, std_err, x))\n",
    "\n",
    "    # Plot the data and the linear regression line\n",
    "    results_df[column].plot(ax=ax, style=\".\", x=x, y=y, label=column)\n",
    "    ax.plot(x, intercept + slope*x, 'b:', label='regression')\n",
    "    ax.set_ylim(0, max(y)*1.2)\n",
    "    \n",
    "    # Add a legend\n",
    "    ax.legend(loc='lower center')\n",
    "\n",
    "    # Add x-label for the years\n",
    "    ax.set_xticks(results_df.index)\n",
    "    ax.set_xticklabels(results_df.year)\n",
    "\n",
    "    # Add a title\n",
    "    # ax.set_title(f\"Trending of {column} in Berkeley's Daily Californian\")\n",
    "    \n",
    "plt.xlabel(\"Year\")\n",
    "plt.suptitle(\"Trending of Berkeley's Daily Californian opinions on Diversity metrics\")\n",
    "plt.show()"
   ]
  },
  {
   "cell_type": "code",
   "execution_count": null,
   "id": "a243ac03",
   "metadata": {},
   "outputs": [],
   "source": []
  }
 ],
 "metadata": {
  "kernelspec": {
   "display_name": "Python 3",
   "language": "python",
   "name": "python3"
  },
  "language_info": {
   "codemirror_mode": {
    "name": "ipython",
    "version": 3
   },
   "file_extension": ".py",
   "mimetype": "text/x-python",
   "name": "python",
   "nbconvert_exporter": "python",
   "pygments_lexer": "ipython3",
   "version": "3.9.12"
  },
  "vscode": {
   "interpreter": {
    "hash": "c21ac38248faf28f2c9521adbe733be2f0389d69400e829bbbab439e1682721f"
   }
  }
 },
 "nbformat": 4,
 "nbformat_minor": 5
}
